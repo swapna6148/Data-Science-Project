{
  "cells": [
    {
      "cell_type": "code",
      "source": [
        "import pandas as pd\n",
        "import numpy as np\n",
        "from nltk.corpus import stopwords\n",
        "from nltk.stem import WordNetLemmatizer\n",
        "from nltk.stem.porter import PorterStemmer\n",
        "from sklearn.feature_extraction.text import CountVectorizer\n",
        "from matplotlib import pyplot as plt\n",
        "import nltk\n",
        "from nltk.sentiment.vader import SentimentIntensityAnalyzer\n",
        "import numpy as np\n",
        "import pandas as pd\n",
        "from plotly import express as px\n",
        "import re\n",
        "import seaborn as sns\n",
        "import string\n",
        "from wordcloud import WordCloud, STOPWORDS, ImageColorGenerator\n",
        "import warnings\n",
        "import time"
      ],
      "metadata": {
        "id": "veHLy7EIkBsR"
      },
      "execution_count": 1,
      "outputs": []
    },
    {
      "cell_type": "code",
      "execution_count": 2,
      "metadata": {
        "id": "4571EWukmUsR"
      },
      "outputs": [],
      "source": [
        "import pandas as pd\n",
        "import torch\n",
        "import numpy as np\n",
        "import sqlite3\n",
        "import matplotlib.pyplot as plt\n",
        "import seaborn as sns\n",
        "import re\n",
        "\n",
        "pd.set_option('display.max_columns', None)\n",
        "pd.set_option('display.max_rows', None)\n",
        "import warnings"
      ]
    },
    {
      "cell_type": "code",
      "source": [
        "nord=pd.read_csv(\"/content/nordrev (1).csv\")"
      ],
      "metadata": {
        "id": "p8ZQ2_OakF7t"
      },
      "execution_count": 3,
      "outputs": []
    },
    {
      "cell_type": "code",
      "source": [
        "nord.head()"
      ],
      "metadata": {
        "colab": {
          "base_uri": "https://localhost:8080/",
          "height": 441
        },
        "id": "9qUtYi0GkOMA",
        "outputId": "4f4d35cc-6c99-41e7-e3b4-33b28ffa90d1"
      },
      "execution_count": 4,
      "outputs": [
        {
          "output_type": "execute_result",
          "data": {
            "text/plain": [
              "   Unnamed: 0  Unnamed: 0.1  \\\n",
              "0           0             0   \n",
              "1           1             1   \n",
              "2           2             2   \n",
              "3           3             3   \n",
              "4           4             4   \n",
              "\n",
              "                                             product          title  rating  \\\n",
              "0  OnePlus Nord 2T 5G (Jade Fog, 8GB RAM, 128GB S...     Good phone       4   \n",
              "1  OnePlus Nord 2T 5G (Jade Fog, 8GB RAM, 128GB S...   Good product       4   \n",
              "2  OnePlus Nord 2T 5G (Jade Fog, 8GB RAM, 128GB S...        Oneplus       4   \n",
              "3  OnePlus Nord 2T 5G (Jade Fog, 8GB RAM, 128GB S...             Ok       4   \n",
              "4  OnePlus Nord 2T 5G (Jade Fog, 8GB RAM, 128GB S...  Not upto mark       4   \n",
              "\n",
              "                                                body  \\\n",
              "0  Camera quality all overall good but only nagat...   \n",
              "1  Over all good product. But I want to upgrade t...   \n",
              "2  So far I'm enjoying it. I hope this will be a ...   \n",
              "3  Phone is good but camera is not that good acco...   \n",
              "4  Battery drain very fast ..camera quality is no...   \n",
              "\n",
              "                                              review   lang  \\\n",
              "0  good phone camera quality all overall good but...  Other   \n",
              "1  good product over all good product. but i want...  Other   \n",
              "2  oneplus so far i'm enjoying it. i hope this wi...  Other   \n",
              "3  ok phone is good but camera is not that good a...  Other   \n",
              "4  not upto mark battery drain very fast ..camera...  Other   \n",
              "\n",
              "                                    review_translate  \n",
              "0  good phone camera quality all overall good but...  \n",
              "1  good product over all good product. but i want...  \n",
              "2  oneplus so far i'm enjoying it. i hope this wi...  \n",
              "3  ok phone is good but camera is not that good a...  \n",
              "4  not upto mark battery drain very fast ..camera...  "
            ],
            "text/html": [
              "\n",
              "  <div id=\"df-a3396c02-3fdd-47a7-b1b6-0694cc1e2e42\">\n",
              "    <div class=\"colab-df-container\">\n",
              "      <div>\n",
              "<style scoped>\n",
              "    .dataframe tbody tr th:only-of-type {\n",
              "        vertical-align: middle;\n",
              "    }\n",
              "\n",
              "    .dataframe tbody tr th {\n",
              "        vertical-align: top;\n",
              "    }\n",
              "\n",
              "    .dataframe thead th {\n",
              "        text-align: right;\n",
              "    }\n",
              "</style>\n",
              "<table border=\"1\" class=\"dataframe\">\n",
              "  <thead>\n",
              "    <tr style=\"text-align: right;\">\n",
              "      <th></th>\n",
              "      <th>Unnamed: 0</th>\n",
              "      <th>Unnamed: 0.1</th>\n",
              "      <th>product</th>\n",
              "      <th>title</th>\n",
              "      <th>rating</th>\n",
              "      <th>body</th>\n",
              "      <th>review</th>\n",
              "      <th>lang</th>\n",
              "      <th>review_translate</th>\n",
              "    </tr>\n",
              "  </thead>\n",
              "  <tbody>\n",
              "    <tr>\n",
              "      <th>0</th>\n",
              "      <td>0</td>\n",
              "      <td>0</td>\n",
              "      <td>OnePlus Nord 2T 5G (Jade Fog, 8GB RAM, 128GB S...</td>\n",
              "      <td>Good phone</td>\n",
              "      <td>4</td>\n",
              "      <td>Camera quality all overall good but only nagat...</td>\n",
              "      <td>good phone camera quality all overall good but...</td>\n",
              "      <td>Other</td>\n",
              "      <td>good phone camera quality all overall good but...</td>\n",
              "    </tr>\n",
              "    <tr>\n",
              "      <th>1</th>\n",
              "      <td>1</td>\n",
              "      <td>1</td>\n",
              "      <td>OnePlus Nord 2T 5G (Jade Fog, 8GB RAM, 128GB S...</td>\n",
              "      <td>Good product</td>\n",
              "      <td>4</td>\n",
              "      <td>Over all good product. But I want to upgrade t...</td>\n",
              "      <td>good product over all good product. but i want...</td>\n",
              "      <td>Other</td>\n",
              "      <td>good product over all good product. but i want...</td>\n",
              "    </tr>\n",
              "    <tr>\n",
              "      <th>2</th>\n",
              "      <td>2</td>\n",
              "      <td>2</td>\n",
              "      <td>OnePlus Nord 2T 5G (Jade Fog, 8GB RAM, 128GB S...</td>\n",
              "      <td>Oneplus</td>\n",
              "      <td>4</td>\n",
              "      <td>So far I'm enjoying it. I hope this will be a ...</td>\n",
              "      <td>oneplus so far i'm enjoying it. i hope this wi...</td>\n",
              "      <td>Other</td>\n",
              "      <td>oneplus so far i'm enjoying it. i hope this wi...</td>\n",
              "    </tr>\n",
              "    <tr>\n",
              "      <th>3</th>\n",
              "      <td>3</td>\n",
              "      <td>3</td>\n",
              "      <td>OnePlus Nord 2T 5G (Jade Fog, 8GB RAM, 128GB S...</td>\n",
              "      <td>Ok</td>\n",
              "      <td>4</td>\n",
              "      <td>Phone is good but camera is not that good acco...</td>\n",
              "      <td>ok phone is good but camera is not that good a...</td>\n",
              "      <td>Other</td>\n",
              "      <td>ok phone is good but camera is not that good a...</td>\n",
              "    </tr>\n",
              "    <tr>\n",
              "      <th>4</th>\n",
              "      <td>4</td>\n",
              "      <td>4</td>\n",
              "      <td>OnePlus Nord 2T 5G (Jade Fog, 8GB RAM, 128GB S...</td>\n",
              "      <td>Not upto mark</td>\n",
              "      <td>4</td>\n",
              "      <td>Battery drain very fast ..camera quality is no...</td>\n",
              "      <td>not upto mark battery drain very fast ..camera...</td>\n",
              "      <td>Other</td>\n",
              "      <td>not upto mark battery drain very fast ..camera...</td>\n",
              "    </tr>\n",
              "  </tbody>\n",
              "</table>\n",
              "</div>\n",
              "      <button class=\"colab-df-convert\" onclick=\"convertToInteractive('df-a3396c02-3fdd-47a7-b1b6-0694cc1e2e42')\"\n",
              "              title=\"Convert this dataframe to an interactive table.\"\n",
              "              style=\"display:none;\">\n",
              "        \n",
              "  <svg xmlns=\"http://www.w3.org/2000/svg\" height=\"24px\"viewBox=\"0 0 24 24\"\n",
              "       width=\"24px\">\n",
              "    <path d=\"M0 0h24v24H0V0z\" fill=\"none\"/>\n",
              "    <path d=\"M18.56 5.44l.94 2.06.94-2.06 2.06-.94-2.06-.94-.94-2.06-.94 2.06-2.06.94zm-11 1L8.5 8.5l.94-2.06 2.06-.94-2.06-.94L8.5 2.5l-.94 2.06-2.06.94zm10 10l.94 2.06.94-2.06 2.06-.94-2.06-.94-.94-2.06-.94 2.06-2.06.94z\"/><path d=\"M17.41 7.96l-1.37-1.37c-.4-.4-.92-.59-1.43-.59-.52 0-1.04.2-1.43.59L10.3 9.45l-7.72 7.72c-.78.78-.78 2.05 0 2.83L4 21.41c.39.39.9.59 1.41.59.51 0 1.02-.2 1.41-.59l7.78-7.78 2.81-2.81c.8-.78.8-2.07 0-2.86zM5.41 20L4 18.59l7.72-7.72 1.47 1.35L5.41 20z\"/>\n",
              "  </svg>\n",
              "      </button>\n",
              "      \n",
              "  <style>\n",
              "    .colab-df-container {\n",
              "      display:flex;\n",
              "      flex-wrap:wrap;\n",
              "      gap: 12px;\n",
              "    }\n",
              "\n",
              "    .colab-df-convert {\n",
              "      background-color: #E8F0FE;\n",
              "      border: none;\n",
              "      border-radius: 50%;\n",
              "      cursor: pointer;\n",
              "      display: none;\n",
              "      fill: #1967D2;\n",
              "      height: 32px;\n",
              "      padding: 0 0 0 0;\n",
              "      width: 32px;\n",
              "    }\n",
              "\n",
              "    .colab-df-convert:hover {\n",
              "      background-color: #E2EBFA;\n",
              "      box-shadow: 0px 1px 2px rgba(60, 64, 67, 0.3), 0px 1px 3px 1px rgba(60, 64, 67, 0.15);\n",
              "      fill: #174EA6;\n",
              "    }\n",
              "\n",
              "    [theme=dark] .colab-df-convert {\n",
              "      background-color: #3B4455;\n",
              "      fill: #D2E3FC;\n",
              "    }\n",
              "\n",
              "    [theme=dark] .colab-df-convert:hover {\n",
              "      background-color: #434B5C;\n",
              "      box-shadow: 0px 1px 3px 1px rgba(0, 0, 0, 0.15);\n",
              "      filter: drop-shadow(0px 1px 2px rgba(0, 0, 0, 0.3));\n",
              "      fill: #FFFFFF;\n",
              "    }\n",
              "  </style>\n",
              "\n",
              "      <script>\n",
              "        const buttonEl =\n",
              "          document.querySelector('#df-a3396c02-3fdd-47a7-b1b6-0694cc1e2e42 button.colab-df-convert');\n",
              "        buttonEl.style.display =\n",
              "          google.colab.kernel.accessAllowed ? 'block' : 'none';\n",
              "\n",
              "        async function convertToInteractive(key) {\n",
              "          const element = document.querySelector('#df-a3396c02-3fdd-47a7-b1b6-0694cc1e2e42');\n",
              "          const dataTable =\n",
              "            await google.colab.kernel.invokeFunction('convertToInteractive',\n",
              "                                                     [key], {});\n",
              "          if (!dataTable) return;\n",
              "\n",
              "          const docLinkHtml = 'Like what you see? Visit the ' +\n",
              "            '<a target=\"_blank\" href=https://colab.research.google.com/notebooks/data_table.ipynb>data table notebook</a>'\n",
              "            + ' to learn more about interactive tables.';\n",
              "          element.innerHTML = '';\n",
              "          dataTable['output_type'] = 'display_data';\n",
              "          await google.colab.output.renderOutput(dataTable, element);\n",
              "          const docLink = document.createElement('div');\n",
              "          docLink.innerHTML = docLinkHtml;\n",
              "          element.appendChild(docLink);\n",
              "        }\n",
              "      </script>\n",
              "    </div>\n",
              "  </div>\n",
              "  "
            ]
          },
          "metadata": {},
          "execution_count": 4
        }
      ]
    },
    {
      "cell_type": "markdown",
      "source": [
        "# **PREPROCESSING**"
      ],
      "metadata": {
        "id": "-yimwmqHQ10v"
      }
    },
    {
      "cell_type": "code",
      "source": [
        "!pip install pyspellchecker"
      ],
      "metadata": {
        "colab": {
          "base_uri": "https://localhost:8080/"
        },
        "id": "jXU5lN2CkRWr",
        "outputId": "1f31e268-3101-4d25-edd8-8656fc933e9f"
      },
      "execution_count": 5,
      "outputs": [
        {
          "output_type": "stream",
          "name": "stdout",
          "text": [
            "Looking in indexes: https://pypi.org/simple, https://us-python.pkg.dev/colab-wheels/public/simple/\n",
            "Collecting pyspellchecker\n",
            "  Downloading pyspellchecker-0.7.1-py3-none-any.whl (2.5 MB)\n",
            "\u001b[2K     \u001b[90m━━━━━━━━━━━━━━━━━━━━━━━━━━━━━━━━━━━━━━━━\u001b[0m \u001b[32m2.5/2.5 MB\u001b[0m \u001b[31m28.9 MB/s\u001b[0m eta \u001b[36m0:00:00\u001b[0m\n",
            "\u001b[?25hInstalling collected packages: pyspellchecker\n",
            "Successfully installed pyspellchecker-0.7.1\n"
          ]
        }
      ]
    },
    {
      "cell_type": "code",
      "source": [
        "from spellchecker import SpellChecker\n",
        " \n",
        "def spellcorrection(text):\n",
        "  spell = SpellChecker()\n",
        "  a = spell.correction(text)\n",
        "  return a"
      ],
      "metadata": {
        "id": "U9nLT6EXnSyh"
      },
      "execution_count": 6,
      "outputs": []
    },
    {
      "cell_type": "code",
      "source": [
        "!pip uninstall gensim\n"
      ],
      "metadata": {
        "colab": {
          "base_uri": "https://localhost:8080/"
        },
        "id": "d08YPiBPWpPv",
        "outputId": "184f43c0-b872-47f6-9ead-a4037bafc804"
      },
      "execution_count": 7,
      "outputs": [
        {
          "output_type": "stream",
          "name": "stdout",
          "text": [
            "Found existing installation: gensim 3.6.0\n",
            "Uninstalling gensim-3.6.0:\n",
            "  Would remove:\n",
            "    /usr/local/lib/python3.8/dist-packages/gensim-3.6.0.dist-info/*\n",
            "    /usr/local/lib/python3.8/dist-packages/gensim/*\n",
            "Proceed (Y/n)? Y\n",
            "  Successfully uninstalled gensim-3.6.0\n"
          ]
        }
      ]
    },
    {
      "cell_type": "code",
      "source": [
        "!pip install --upgrade gensim"
      ],
      "metadata": {
        "colab": {
          "base_uri": "https://localhost:8080/"
        },
        "id": "Gyh7FwLaWwRL",
        "outputId": "b8df8911-e396-40e2-e0cc-90aea14b0e9e"
      },
      "execution_count": 8,
      "outputs": [
        {
          "output_type": "stream",
          "name": "stdout",
          "text": [
            "Looking in indexes: https://pypi.org/simple, https://us-python.pkg.dev/colab-wheels/public/simple/\n",
            "Collecting gensim\n",
            "  Downloading gensim-4.3.0-cp38-cp38-manylinux_2_12_x86_64.manylinux2010_x86_64.whl (24.1 MB)\n",
            "\u001b[2K     \u001b[90m━━━━━━━━━━━━━━━━━━━━━━━━━━━━━━━━━━━━━━━━\u001b[0m \u001b[32m24.1/24.1 MB\u001b[0m \u001b[31m31.7 MB/s\u001b[0m eta \u001b[36m0:00:00\u001b[0m\n",
            "\u001b[?25hRequirement already satisfied: smart-open>=1.8.1 in /usr/local/lib/python3.8/dist-packages (from gensim) (6.3.0)\n",
            "Collecting FuzzyTM>=0.4.0\n",
            "  Downloading FuzzyTM-2.0.5-py3-none-any.whl (29 kB)\n",
            "Requirement already satisfied: scipy>=1.7.0 in /usr/local/lib/python3.8/dist-packages (from gensim) (1.10.1)\n",
            "Requirement already satisfied: numpy>=1.18.5 in /usr/local/lib/python3.8/dist-packages (from gensim) (1.22.4)\n",
            "Requirement already satisfied: pandas in /usr/local/lib/python3.8/dist-packages (from FuzzyTM>=0.4.0->gensim) (1.3.5)\n",
            "Collecting pyfume\n",
            "  Downloading pyFUME-0.2.25-py3-none-any.whl (67 kB)\n",
            "\u001b[2K     \u001b[90m━━━━━━━━━━━━━━━━━━━━━━━━━━━━━━━━━━━━━━━━\u001b[0m \u001b[32m67.1/67.1 KB\u001b[0m \u001b[31m7.3 MB/s\u001b[0m eta \u001b[36m0:00:00\u001b[0m\n",
            "\u001b[?25hRequirement already satisfied: pytz>=2017.3 in /usr/local/lib/python3.8/dist-packages (from pandas->FuzzyTM>=0.4.0->gensim) (2022.7.1)\n",
            "Requirement already satisfied: python-dateutil>=2.7.3 in /usr/local/lib/python3.8/dist-packages (from pandas->FuzzyTM>=0.4.0->gensim) (2.8.2)\n",
            "Collecting fst-pso\n",
            "  Downloading fst-pso-1.8.1.tar.gz (18 kB)\n",
            "  Preparing metadata (setup.py) ... \u001b[?25l\u001b[?25hdone\n",
            "Collecting simpful\n",
            "  Downloading simpful-2.10.0-py3-none-any.whl (31 kB)\n",
            "Requirement already satisfied: six>=1.5 in /usr/local/lib/python3.8/dist-packages (from python-dateutil>=2.7.3->pandas->FuzzyTM>=0.4.0->gensim) (1.15.0)\n",
            "Collecting miniful\n",
            "  Downloading miniful-0.0.6.tar.gz (2.8 kB)\n",
            "  Preparing metadata (setup.py) ... \u001b[?25l\u001b[?25hdone\n",
            "Requirement already satisfied: requests in /usr/local/lib/python3.8/dist-packages (from simpful->pyfume->FuzzyTM>=0.4.0->gensim) (2.25.1)\n",
            "Requirement already satisfied: chardet<5,>=3.0.2 in /usr/local/lib/python3.8/dist-packages (from requests->simpful->pyfume->FuzzyTM>=0.4.0->gensim) (4.0.0)\n",
            "Requirement already satisfied: certifi>=2017.4.17 in /usr/local/lib/python3.8/dist-packages (from requests->simpful->pyfume->FuzzyTM>=0.4.0->gensim) (2022.12.7)\n",
            "Requirement already satisfied: idna<3,>=2.5 in /usr/local/lib/python3.8/dist-packages (from requests->simpful->pyfume->FuzzyTM>=0.4.0->gensim) (2.10)\n",
            "Requirement already satisfied: urllib3<1.27,>=1.21.1 in /usr/local/lib/python3.8/dist-packages (from requests->simpful->pyfume->FuzzyTM>=0.4.0->gensim) (1.26.14)\n",
            "Building wheels for collected packages: fst-pso, miniful\n",
            "  Building wheel for fst-pso (setup.py) ... \u001b[?25l\u001b[?25hdone\n",
            "  Created wheel for fst-pso: filename=fst_pso-1.8.1-py3-none-any.whl size=20443 sha256=4d1b02ab9c51a14239d1c32a86f27d168ad708e3e1fe7cb2dab7e525b54b809a\n",
            "  Stored in directory: /root/.cache/pip/wheels/6a/65/c4/d27eeee9ba3fc150a0dae150519591103b9e0dbffde3ae77dc\n",
            "  Building wheel for miniful (setup.py) ... \u001b[?25l\u001b[?25hdone\n",
            "  Created wheel for miniful: filename=miniful-0.0.6-py3-none-any.whl size=3530 sha256=d307bc120070a08336c447bbd8db86a7f8ec785fd871e0274bac0ba49ea69203\n",
            "  Stored in directory: /root/.cache/pip/wheels/ba/d9/a0/ddd93af16d5855dd9bad417623e70948fdac119d1d34fb17c8\n",
            "Successfully built fst-pso miniful\n",
            "Installing collected packages: simpful, miniful, fst-pso, pyfume, FuzzyTM, gensim\n",
            "Successfully installed FuzzyTM-2.0.5 fst-pso-1.8.1 gensim-4.3.0 miniful-0.0.6 pyfume-0.2.25 simpful-2.10.0\n"
          ]
        }
      ]
    },
    {
      "cell_type": "code",
      "source": [
        "nord['rev']= nord['review_translate'].apply(spellcorrection)"
      ],
      "metadata": {
        "id": "lS4JLPZwmpjB"
      },
      "execution_count": 9,
      "outputs": []
    },
    {
      "cell_type": "code",
      "source": [
        "nord.head()"
      ],
      "metadata": {
        "colab": {
          "base_uri": "https://localhost:8080/",
          "height": 528
        },
        "id": "6tBcCd4tn2PX",
        "outputId": "09855ea2-5494-4d52-a123-6838bf176878"
      },
      "execution_count": 10,
      "outputs": [
        {
          "output_type": "execute_result",
          "data": {
            "text/plain": [
              "   Unnamed: 0  Unnamed: 0.1  \\\n",
              "0           0             0   \n",
              "1           1             1   \n",
              "2           2             2   \n",
              "3           3             3   \n",
              "4           4             4   \n",
              "\n",
              "                                             product          title  rating  \\\n",
              "0  OnePlus Nord 2T 5G (Jade Fog, 8GB RAM, 128GB S...     Good phone       4   \n",
              "1  OnePlus Nord 2T 5G (Jade Fog, 8GB RAM, 128GB S...   Good product       4   \n",
              "2  OnePlus Nord 2T 5G (Jade Fog, 8GB RAM, 128GB S...        Oneplus       4   \n",
              "3  OnePlus Nord 2T 5G (Jade Fog, 8GB RAM, 128GB S...             Ok       4   \n",
              "4  OnePlus Nord 2T 5G (Jade Fog, 8GB RAM, 128GB S...  Not upto mark       4   \n",
              "\n",
              "                                                body  \\\n",
              "0  Camera quality all overall good but only nagat...   \n",
              "1  Over all good product. But I want to upgrade t...   \n",
              "2  So far I'm enjoying it. I hope this will be a ...   \n",
              "3  Phone is good but camera is not that good acco...   \n",
              "4  Battery drain very fast ..camera quality is no...   \n",
              "\n",
              "                                              review   lang  \\\n",
              "0  good phone camera quality all overall good but...  Other   \n",
              "1  good product over all good product. but i want...  Other   \n",
              "2  oneplus so far i'm enjoying it. i hope this wi...  Other   \n",
              "3  ok phone is good but camera is not that good a...  Other   \n",
              "4  not upto mark battery drain very fast ..camera...  Other   \n",
              "\n",
              "                                    review_translate  \\\n",
              "0  good phone camera quality all overall good but...   \n",
              "1  good product over all good product. but i want...   \n",
              "2  oneplus so far i'm enjoying it. i hope this wi...   \n",
              "3  ok phone is good but camera is not that good a...   \n",
              "4  not upto mark battery drain very fast ..camera...   \n",
              "\n",
              "                                                 rev  \n",
              "0  good phone camera quality all overall good but...  \n",
              "1  good product over all good product. but i want...  \n",
              "2  oneplus so far i'm enjoying it. i hope this wi...  \n",
              "3  ok phone is good but camera is not that good a...  \n",
              "4  not upto mark battery drain very fast ..camera...  "
            ],
            "text/html": [
              "\n",
              "  <div id=\"df-f640527b-9c3e-42c5-ae85-e5b76684247e\">\n",
              "    <div class=\"colab-df-container\">\n",
              "      <div>\n",
              "<style scoped>\n",
              "    .dataframe tbody tr th:only-of-type {\n",
              "        vertical-align: middle;\n",
              "    }\n",
              "\n",
              "    .dataframe tbody tr th {\n",
              "        vertical-align: top;\n",
              "    }\n",
              "\n",
              "    .dataframe thead th {\n",
              "        text-align: right;\n",
              "    }\n",
              "</style>\n",
              "<table border=\"1\" class=\"dataframe\">\n",
              "  <thead>\n",
              "    <tr style=\"text-align: right;\">\n",
              "      <th></th>\n",
              "      <th>Unnamed: 0</th>\n",
              "      <th>Unnamed: 0.1</th>\n",
              "      <th>product</th>\n",
              "      <th>title</th>\n",
              "      <th>rating</th>\n",
              "      <th>body</th>\n",
              "      <th>review</th>\n",
              "      <th>lang</th>\n",
              "      <th>review_translate</th>\n",
              "      <th>rev</th>\n",
              "    </tr>\n",
              "  </thead>\n",
              "  <tbody>\n",
              "    <tr>\n",
              "      <th>0</th>\n",
              "      <td>0</td>\n",
              "      <td>0</td>\n",
              "      <td>OnePlus Nord 2T 5G (Jade Fog, 8GB RAM, 128GB S...</td>\n",
              "      <td>Good phone</td>\n",
              "      <td>4</td>\n",
              "      <td>Camera quality all overall good but only nagat...</td>\n",
              "      <td>good phone camera quality all overall good but...</td>\n",
              "      <td>Other</td>\n",
              "      <td>good phone camera quality all overall good but...</td>\n",
              "      <td>good phone camera quality all overall good but...</td>\n",
              "    </tr>\n",
              "    <tr>\n",
              "      <th>1</th>\n",
              "      <td>1</td>\n",
              "      <td>1</td>\n",
              "      <td>OnePlus Nord 2T 5G (Jade Fog, 8GB RAM, 128GB S...</td>\n",
              "      <td>Good product</td>\n",
              "      <td>4</td>\n",
              "      <td>Over all good product. But I want to upgrade t...</td>\n",
              "      <td>good product over all good product. but i want...</td>\n",
              "      <td>Other</td>\n",
              "      <td>good product over all good product. but i want...</td>\n",
              "      <td>good product over all good product. but i want...</td>\n",
              "    </tr>\n",
              "    <tr>\n",
              "      <th>2</th>\n",
              "      <td>2</td>\n",
              "      <td>2</td>\n",
              "      <td>OnePlus Nord 2T 5G (Jade Fog, 8GB RAM, 128GB S...</td>\n",
              "      <td>Oneplus</td>\n",
              "      <td>4</td>\n",
              "      <td>So far I'm enjoying it. I hope this will be a ...</td>\n",
              "      <td>oneplus so far i'm enjoying it. i hope this wi...</td>\n",
              "      <td>Other</td>\n",
              "      <td>oneplus so far i'm enjoying it. i hope this wi...</td>\n",
              "      <td>oneplus so far i'm enjoying it. i hope this wi...</td>\n",
              "    </tr>\n",
              "    <tr>\n",
              "      <th>3</th>\n",
              "      <td>3</td>\n",
              "      <td>3</td>\n",
              "      <td>OnePlus Nord 2T 5G (Jade Fog, 8GB RAM, 128GB S...</td>\n",
              "      <td>Ok</td>\n",
              "      <td>4</td>\n",
              "      <td>Phone is good but camera is not that good acco...</td>\n",
              "      <td>ok phone is good but camera is not that good a...</td>\n",
              "      <td>Other</td>\n",
              "      <td>ok phone is good but camera is not that good a...</td>\n",
              "      <td>ok phone is good but camera is not that good a...</td>\n",
              "    </tr>\n",
              "    <tr>\n",
              "      <th>4</th>\n",
              "      <td>4</td>\n",
              "      <td>4</td>\n",
              "      <td>OnePlus Nord 2T 5G (Jade Fog, 8GB RAM, 128GB S...</td>\n",
              "      <td>Not upto mark</td>\n",
              "      <td>4</td>\n",
              "      <td>Battery drain very fast ..camera quality is no...</td>\n",
              "      <td>not upto mark battery drain very fast ..camera...</td>\n",
              "      <td>Other</td>\n",
              "      <td>not upto mark battery drain very fast ..camera...</td>\n",
              "      <td>not upto mark battery drain very fast ..camera...</td>\n",
              "    </tr>\n",
              "  </tbody>\n",
              "</table>\n",
              "</div>\n",
              "      <button class=\"colab-df-convert\" onclick=\"convertToInteractive('df-f640527b-9c3e-42c5-ae85-e5b76684247e')\"\n",
              "              title=\"Convert this dataframe to an interactive table.\"\n",
              "              style=\"display:none;\">\n",
              "        \n",
              "  <svg xmlns=\"http://www.w3.org/2000/svg\" height=\"24px\"viewBox=\"0 0 24 24\"\n",
              "       width=\"24px\">\n",
              "    <path d=\"M0 0h24v24H0V0z\" fill=\"none\"/>\n",
              "    <path d=\"M18.56 5.44l.94 2.06.94-2.06 2.06-.94-2.06-.94-.94-2.06-.94 2.06-2.06.94zm-11 1L8.5 8.5l.94-2.06 2.06-.94-2.06-.94L8.5 2.5l-.94 2.06-2.06.94zm10 10l.94 2.06.94-2.06 2.06-.94-2.06-.94-.94-2.06-.94 2.06-2.06.94z\"/><path d=\"M17.41 7.96l-1.37-1.37c-.4-.4-.92-.59-1.43-.59-.52 0-1.04.2-1.43.59L10.3 9.45l-7.72 7.72c-.78.78-.78 2.05 0 2.83L4 21.41c.39.39.9.59 1.41.59.51 0 1.02-.2 1.41-.59l7.78-7.78 2.81-2.81c.8-.78.8-2.07 0-2.86zM5.41 20L4 18.59l7.72-7.72 1.47 1.35L5.41 20z\"/>\n",
              "  </svg>\n",
              "      </button>\n",
              "      \n",
              "  <style>\n",
              "    .colab-df-container {\n",
              "      display:flex;\n",
              "      flex-wrap:wrap;\n",
              "      gap: 12px;\n",
              "    }\n",
              "\n",
              "    .colab-df-convert {\n",
              "      background-color: #E8F0FE;\n",
              "      border: none;\n",
              "      border-radius: 50%;\n",
              "      cursor: pointer;\n",
              "      display: none;\n",
              "      fill: #1967D2;\n",
              "      height: 32px;\n",
              "      padding: 0 0 0 0;\n",
              "      width: 32px;\n",
              "    }\n",
              "\n",
              "    .colab-df-convert:hover {\n",
              "      background-color: #E2EBFA;\n",
              "      box-shadow: 0px 1px 2px rgba(60, 64, 67, 0.3), 0px 1px 3px 1px rgba(60, 64, 67, 0.15);\n",
              "      fill: #174EA6;\n",
              "    }\n",
              "\n",
              "    [theme=dark] .colab-df-convert {\n",
              "      background-color: #3B4455;\n",
              "      fill: #D2E3FC;\n",
              "    }\n",
              "\n",
              "    [theme=dark] .colab-df-convert:hover {\n",
              "      background-color: #434B5C;\n",
              "      box-shadow: 0px 1px 3px 1px rgba(0, 0, 0, 0.15);\n",
              "      filter: drop-shadow(0px 1px 2px rgba(0, 0, 0, 0.3));\n",
              "      fill: #FFFFFF;\n",
              "    }\n",
              "  </style>\n",
              "\n",
              "      <script>\n",
              "        const buttonEl =\n",
              "          document.querySelector('#df-f640527b-9c3e-42c5-ae85-e5b76684247e button.colab-df-convert');\n",
              "        buttonEl.style.display =\n",
              "          google.colab.kernel.accessAllowed ? 'block' : 'none';\n",
              "\n",
              "        async function convertToInteractive(key) {\n",
              "          const element = document.querySelector('#df-f640527b-9c3e-42c5-ae85-e5b76684247e');\n",
              "          const dataTable =\n",
              "            await google.colab.kernel.invokeFunction('convertToInteractive',\n",
              "                                                     [key], {});\n",
              "          if (!dataTable) return;\n",
              "\n",
              "          const docLinkHtml = 'Like what you see? Visit the ' +\n",
              "            '<a target=\"_blank\" href=https://colab.research.google.com/notebooks/data_table.ipynb>data table notebook</a>'\n",
              "            + ' to learn more about interactive tables.';\n",
              "          element.innerHTML = '';\n",
              "          dataTable['output_type'] = 'display_data';\n",
              "          await google.colab.output.renderOutput(dataTable, element);\n",
              "          const docLink = document.createElement('div');\n",
              "          docLink.innerHTML = docLinkHtml;\n",
              "          element.appendChild(docLink);\n",
              "        }\n",
              "      </script>\n",
              "    </div>\n",
              "  </div>\n",
              "  "
            ]
          },
          "metadata": {},
          "execution_count": 10
        }
      ]
    },
    {
      "cell_type": "code",
      "source": [
        "def word_tokenizer(text):\n",
        "    text = str(text).lower()\n",
        "    text = str(text).split()\n",
        "\n",
        "    return text"
      ],
      "metadata": {
        "id": "fwNQqvCY3rAg"
      },
      "execution_count": 11,
      "outputs": []
    },
    {
      "cell_type": "code",
      "source": [
        "!pip install spacy "
      ],
      "metadata": {
        "colab": {
          "base_uri": "https://localhost:8080/"
        },
        "id": "XH5cv5kW3OAO",
        "outputId": "18dbeb54-fd9f-4970-e71c-743c4434c4d9"
      },
      "execution_count": 12,
      "outputs": [
        {
          "output_type": "stream",
          "name": "stdout",
          "text": [
            "Looking in indexes: https://pypi.org/simple, https://us-python.pkg.dev/colab-wheels/public/simple/\n",
            "Requirement already satisfied: spacy in /usr/local/lib/python3.8/dist-packages (3.4.4)\n",
            "Requirement already satisfied: cymem<2.1.0,>=2.0.2 in /usr/local/lib/python3.8/dist-packages (from spacy) (2.0.7)\n",
            "Requirement already satisfied: langcodes<4.0.0,>=3.2.0 in /usr/local/lib/python3.8/dist-packages (from spacy) (3.3.0)\n",
            "Requirement already satisfied: spacy-legacy<3.1.0,>=3.0.10 in /usr/local/lib/python3.8/dist-packages (from spacy) (3.0.12)\n",
            "Requirement already satisfied: typer<0.8.0,>=0.3.0 in /usr/local/lib/python3.8/dist-packages (from spacy) (0.7.0)\n",
            "Requirement already satisfied: tqdm<5.0.0,>=4.38.0 in /usr/local/lib/python3.8/dist-packages (from spacy) (4.64.1)\n",
            "Requirement already satisfied: catalogue<2.1.0,>=2.0.6 in /usr/local/lib/python3.8/dist-packages (from spacy) (2.0.8)\n",
            "Requirement already satisfied: srsly<3.0.0,>=2.4.3 in /usr/local/lib/python3.8/dist-packages (from spacy) (2.4.6)\n",
            "Requirement already satisfied: jinja2 in /usr/local/lib/python3.8/dist-packages (from spacy) (3.1.2)\n",
            "Requirement already satisfied: wasabi<1.1.0,>=0.9.1 in /usr/local/lib/python3.8/dist-packages (from spacy) (0.10.1)\n",
            "Requirement already satisfied: murmurhash<1.1.0,>=0.28.0 in /usr/local/lib/python3.8/dist-packages (from spacy) (1.0.9)\n",
            "Requirement already satisfied: smart-open<7.0.0,>=5.2.1 in /usr/local/lib/python3.8/dist-packages (from spacy) (6.3.0)\n",
            "Requirement already satisfied: numpy>=1.15.0 in /usr/local/lib/python3.8/dist-packages (from spacy) (1.22.4)\n",
            "Requirement already satisfied: preshed<3.1.0,>=3.0.2 in /usr/local/lib/python3.8/dist-packages (from spacy) (3.0.8)\n",
            "Requirement already satisfied: requests<3.0.0,>=2.13.0 in /usr/local/lib/python3.8/dist-packages (from spacy) (2.25.1)\n",
            "Requirement already satisfied: setuptools in /usr/local/lib/python3.8/dist-packages (from spacy) (57.4.0)\n",
            "Requirement already satisfied: packaging>=20.0 in /usr/local/lib/python3.8/dist-packages (from spacy) (23.0)\n",
            "Requirement already satisfied: pydantic!=1.8,!=1.8.1,<1.11.0,>=1.7.4 in /usr/local/lib/python3.8/dist-packages (from spacy) (1.10.5)\n",
            "Requirement already satisfied: pathy>=0.3.5 in /usr/local/lib/python3.8/dist-packages (from spacy) (0.10.1)\n",
            "Requirement already satisfied: thinc<8.2.0,>=8.1.0 in /usr/local/lib/python3.8/dist-packages (from spacy) (8.1.7)\n",
            "Requirement already satisfied: spacy-loggers<2.0.0,>=1.0.0 in /usr/local/lib/python3.8/dist-packages (from spacy) (1.0.4)\n",
            "Requirement already satisfied: typing-extensions>=4.2.0 in /usr/local/lib/python3.8/dist-packages (from pydantic!=1.8,!=1.8.1,<1.11.0,>=1.7.4->spacy) (4.5.0)\n",
            "Requirement already satisfied: urllib3<1.27,>=1.21.1 in /usr/local/lib/python3.8/dist-packages (from requests<3.0.0,>=2.13.0->spacy) (1.26.14)\n",
            "Requirement already satisfied: certifi>=2017.4.17 in /usr/local/lib/python3.8/dist-packages (from requests<3.0.0,>=2.13.0->spacy) (2022.12.7)\n",
            "Requirement already satisfied: idna<3,>=2.5 in /usr/local/lib/python3.8/dist-packages (from requests<3.0.0,>=2.13.0->spacy) (2.10)\n",
            "Requirement already satisfied: chardet<5,>=3.0.2 in /usr/local/lib/python3.8/dist-packages (from requests<3.0.0,>=2.13.0->spacy) (4.0.0)\n",
            "Requirement already satisfied: blis<0.8.0,>=0.7.8 in /usr/local/lib/python3.8/dist-packages (from thinc<8.2.0,>=8.1.0->spacy) (0.7.9)\n",
            "Requirement already satisfied: confection<1.0.0,>=0.0.1 in /usr/local/lib/python3.8/dist-packages (from thinc<8.2.0,>=8.1.0->spacy) (0.0.4)\n",
            "Requirement already satisfied: click<9.0.0,>=7.1.1 in /usr/local/lib/python3.8/dist-packages (from typer<0.8.0,>=0.3.0->spacy) (8.1.3)\n",
            "Requirement already satisfied: MarkupSafe>=2.0 in /usr/local/lib/python3.8/dist-packages (from jinja2->spacy) (2.1.2)\n"
          ]
        }
      ]
    },
    {
      "cell_type": "code",
      "source": [
        "import spacy\n",
        "\n",
        "sp = spacy.load(\"en_core_web_sm\")"
      ],
      "metadata": {
        "colab": {
          "base_uri": "https://localhost:8080/"
        },
        "id": "WvV4Byf23Kqu",
        "outputId": "dac2d1f2-26f5-4b3e-f01e-60694c2ccf89"
      },
      "execution_count": 13,
      "outputs": [
        {
          "output_type": "stream",
          "name": "stderr",
          "text": [
            "/usr/local/lib/python3.8/dist-packages/torch/cuda/__init__.py:497: UserWarning: Can't initialize NVML\n",
            "  warnings.warn(\"Can't initialize NVML\")\n"
          ]
        }
      ]
    },
    {
      "cell_type": "code",
      "source": [
        "def lemmatization(text):\n",
        "    text = \" \".join(text)\n",
        "    token = sp(text)\n",
        "\n",
        "    text = [word.lemma_ for word in token]\n",
        "    return text"
      ],
      "metadata": {
        "id": "qVsvaPa63CH0"
      },
      "execution_count": 14,
      "outputs": []
    },
    {
      "cell_type": "code",
      "source": [
        "from nltk.stem.porter import PorterStemmer\n",
        "from nltk.stem.lancaster import LancasterStemmer\n",
        "\n",
        "stemmer = PorterStemmer()\n",
        "\n",
        "def stemming(text):\n",
        "\n",
        "    text = [stemmer.stem(word) for word in text]\n",
        "    return text\n",
        "\n"
      ],
      "metadata": {
        "id": "O0knIabN3Yok"
      },
      "execution_count": 15,
      "outputs": []
    },
    {
      "cell_type": "code",
      "source": [
        "import nltk\n",
        "nltk.download('stopwords')\n",
        "\n",
        "from nltk.corpus import stopwords\n",
        "\n",
        "en_stopwords = set(stopwords.words('english'))\n",
        "\n",
        "def remove_stopwords(text):\n",
        "    text = [word for word in text if word not in en_stopwords]\n",
        "    return text"
      ],
      "metadata": {
        "colab": {
          "base_uri": "https://localhost:8080/"
        },
        "id": "qOJKeNeu3Hyp",
        "outputId": "791617a6-f2f0-449b-bc53-3655478bcf75"
      },
      "execution_count": 16,
      "outputs": [
        {
          "output_type": "stream",
          "name": "stderr",
          "text": [
            "[nltk_data] Downloading package stopwords to /root/nltk_data...\n",
            "[nltk_data]   Unzipping corpora/stopwords.zip.\n"
          ]
        }
      ]
    },
    {
      "cell_type": "code",
      "source": [
        "def preprocessing(text):\n",
        "    text = word_tokenizer(text)\n",
        "    text = stemming(text)\n",
        "    text = lemmatization(text)\n",
        "    text = remove_stopwords(text)\n",
        "    text = \" \".join(text)\n",
        "\n",
        "    return text"
      ],
      "metadata": {
        "id": "WSucVvp_wpO0"
      },
      "execution_count": 17,
      "outputs": []
    },
    {
      "cell_type": "markdown",
      "source": [
        "# **Data Augmentation**"
      ],
      "metadata": {
        "id": "jbK-0Q4sQtzM"
      }
    },
    {
      "cell_type": "code",
      "source": [
        "df_temp = nord.copy()"
      ],
      "metadata": {
        "id": "tbAbFUWkizAD"
      },
      "execution_count": 18,
      "outputs": []
    },
    {
      "cell_type": "code",
      "source": [
        "def label(y):\n",
        "    if y == 5:\n",
        "      return 1\n",
        "    elif y == 4 :\n",
        "      return 1\n",
        "    else:\n",
        "      return 0\n",
        "    \n",
        "from tqdm import tqdm\n",
        "\n",
        "tqdm.pandas()\n",
        "\n",
        "df_temp['y'] = df_temp['rating'].apply(label)"
      ],
      "metadata": {
        "id": "-TZAOa9PjBE9"
      },
      "execution_count": 19,
      "outputs": []
    },
    {
      "cell_type": "code",
      "source": [
        "df_temp = df_temp[['review', 'y', 'rating']]"
      ],
      "metadata": {
        "id": "AXK4GG98jIwl"
      },
      "execution_count": 20,
      "outputs": []
    },
    {
      "cell_type": "code",
      "source": [
        "df_temp.head()"
      ],
      "metadata": {
        "colab": {
          "base_uri": "https://localhost:8080/",
          "height": 206
        },
        "id": "9wKcUSXojSIb",
        "outputId": "54ee5961-9988-4e6e-c26b-3d8b8e5e3512"
      },
      "execution_count": 21,
      "outputs": [
        {
          "output_type": "execute_result",
          "data": {
            "text/plain": [
              "                                              review  y  rating\n",
              "0  good phone camera quality all overall good but...  1       4\n",
              "1  good product over all good product. but i want...  1       4\n",
              "2  oneplus so far i'm enjoying it. i hope this wi...  1       4\n",
              "3  ok phone is good but camera is not that good a...  1       4\n",
              "4  not upto mark battery drain very fast ..camera...  1       4"
            ],
            "text/html": [
              "\n",
              "  <div id=\"df-e358bbee-516b-485b-824b-957bf08801cd\">\n",
              "    <div class=\"colab-df-container\">\n",
              "      <div>\n",
              "<style scoped>\n",
              "    .dataframe tbody tr th:only-of-type {\n",
              "        vertical-align: middle;\n",
              "    }\n",
              "\n",
              "    .dataframe tbody tr th {\n",
              "        vertical-align: top;\n",
              "    }\n",
              "\n",
              "    .dataframe thead th {\n",
              "        text-align: right;\n",
              "    }\n",
              "</style>\n",
              "<table border=\"1\" class=\"dataframe\">\n",
              "  <thead>\n",
              "    <tr style=\"text-align: right;\">\n",
              "      <th></th>\n",
              "      <th>review</th>\n",
              "      <th>y</th>\n",
              "      <th>rating</th>\n",
              "    </tr>\n",
              "  </thead>\n",
              "  <tbody>\n",
              "    <tr>\n",
              "      <th>0</th>\n",
              "      <td>good phone camera quality all overall good but...</td>\n",
              "      <td>1</td>\n",
              "      <td>4</td>\n",
              "    </tr>\n",
              "    <tr>\n",
              "      <th>1</th>\n",
              "      <td>good product over all good product. but i want...</td>\n",
              "      <td>1</td>\n",
              "      <td>4</td>\n",
              "    </tr>\n",
              "    <tr>\n",
              "      <th>2</th>\n",
              "      <td>oneplus so far i'm enjoying it. i hope this wi...</td>\n",
              "      <td>1</td>\n",
              "      <td>4</td>\n",
              "    </tr>\n",
              "    <tr>\n",
              "      <th>3</th>\n",
              "      <td>ok phone is good but camera is not that good a...</td>\n",
              "      <td>1</td>\n",
              "      <td>4</td>\n",
              "    </tr>\n",
              "    <tr>\n",
              "      <th>4</th>\n",
              "      <td>not upto mark battery drain very fast ..camera...</td>\n",
              "      <td>1</td>\n",
              "      <td>4</td>\n",
              "    </tr>\n",
              "  </tbody>\n",
              "</table>\n",
              "</div>\n",
              "      <button class=\"colab-df-convert\" onclick=\"convertToInteractive('df-e358bbee-516b-485b-824b-957bf08801cd')\"\n",
              "              title=\"Convert this dataframe to an interactive table.\"\n",
              "              style=\"display:none;\">\n",
              "        \n",
              "  <svg xmlns=\"http://www.w3.org/2000/svg\" height=\"24px\"viewBox=\"0 0 24 24\"\n",
              "       width=\"24px\">\n",
              "    <path d=\"M0 0h24v24H0V0z\" fill=\"none\"/>\n",
              "    <path d=\"M18.56 5.44l.94 2.06.94-2.06 2.06-.94-2.06-.94-.94-2.06-.94 2.06-2.06.94zm-11 1L8.5 8.5l.94-2.06 2.06-.94-2.06-.94L8.5 2.5l-.94 2.06-2.06.94zm10 10l.94 2.06.94-2.06 2.06-.94-2.06-.94-.94-2.06-.94 2.06-2.06.94z\"/><path d=\"M17.41 7.96l-1.37-1.37c-.4-.4-.92-.59-1.43-.59-.52 0-1.04.2-1.43.59L10.3 9.45l-7.72 7.72c-.78.78-.78 2.05 0 2.83L4 21.41c.39.39.9.59 1.41.59.51 0 1.02-.2 1.41-.59l7.78-7.78 2.81-2.81c.8-.78.8-2.07 0-2.86zM5.41 20L4 18.59l7.72-7.72 1.47 1.35L5.41 20z\"/>\n",
              "  </svg>\n",
              "      </button>\n",
              "      \n",
              "  <style>\n",
              "    .colab-df-container {\n",
              "      display:flex;\n",
              "      flex-wrap:wrap;\n",
              "      gap: 12px;\n",
              "    }\n",
              "\n",
              "    .colab-df-convert {\n",
              "      background-color: #E8F0FE;\n",
              "      border: none;\n",
              "      border-radius: 50%;\n",
              "      cursor: pointer;\n",
              "      display: none;\n",
              "      fill: #1967D2;\n",
              "      height: 32px;\n",
              "      padding: 0 0 0 0;\n",
              "      width: 32px;\n",
              "    }\n",
              "\n",
              "    .colab-df-convert:hover {\n",
              "      background-color: #E2EBFA;\n",
              "      box-shadow: 0px 1px 2px rgba(60, 64, 67, 0.3), 0px 1px 3px 1px rgba(60, 64, 67, 0.15);\n",
              "      fill: #174EA6;\n",
              "    }\n",
              "\n",
              "    [theme=dark] .colab-df-convert {\n",
              "      background-color: #3B4455;\n",
              "      fill: #D2E3FC;\n",
              "    }\n",
              "\n",
              "    [theme=dark] .colab-df-convert:hover {\n",
              "      background-color: #434B5C;\n",
              "      box-shadow: 0px 1px 3px 1px rgba(0, 0, 0, 0.15);\n",
              "      filter: drop-shadow(0px 1px 2px rgba(0, 0, 0, 0.3));\n",
              "      fill: #FFFFFF;\n",
              "    }\n",
              "  </style>\n",
              "\n",
              "      <script>\n",
              "        const buttonEl =\n",
              "          document.querySelector('#df-e358bbee-516b-485b-824b-957bf08801cd button.colab-df-convert');\n",
              "        buttonEl.style.display =\n",
              "          google.colab.kernel.accessAllowed ? 'block' : 'none';\n",
              "\n",
              "        async function convertToInteractive(key) {\n",
              "          const element = document.querySelector('#df-e358bbee-516b-485b-824b-957bf08801cd');\n",
              "          const dataTable =\n",
              "            await google.colab.kernel.invokeFunction('convertToInteractive',\n",
              "                                                     [key], {});\n",
              "          if (!dataTable) return;\n",
              "\n",
              "          const docLinkHtml = 'Like what you see? Visit the ' +\n",
              "            '<a target=\"_blank\" href=https://colab.research.google.com/notebooks/data_table.ipynb>data table notebook</a>'\n",
              "            + ' to learn more about interactive tables.';\n",
              "          element.innerHTML = '';\n",
              "          dataTable['output_type'] = 'display_data';\n",
              "          await google.colab.output.renderOutput(dataTable, element);\n",
              "          const docLink = document.createElement('div');\n",
              "          docLink.innerHTML = docLinkHtml;\n",
              "          element.appendChild(docLink);\n",
              "        }\n",
              "      </script>\n",
              "    </div>\n",
              "  </div>\n",
              "  "
            ]
          },
          "metadata": {},
          "execution_count": 21
        }
      ]
    },
    {
      "cell_type": "code",
      "source": [
        "df_temp.y.value_counts()"
      ],
      "metadata": {
        "colab": {
          "base_uri": "https://localhost:8080/"
        },
        "id": "tfbQ1NnKlCpH",
        "outputId": "a4b4f357-cc88-425a-d63c-26c6557bbf76"
      },
      "execution_count": 22,
      "outputs": [
        {
          "output_type": "execute_result",
          "data": {
            "text/plain": [
              "1    1152\n",
              "0     446\n",
              "Name: y, dtype: int64"
            ]
          },
          "metadata": {},
          "execution_count": 22
        }
      ]
    },
    {
      "cell_type": "code",
      "source": [
        "import seaborn as sns\n",
        "\n",
        "sns.countplot(x = \"y\", data = df_temp)\n",
        "plt.show()"
      ],
      "metadata": {
        "colab": {
          "base_uri": "https://localhost:8080/",
          "height": 282
        },
        "id": "chMdlv4alK-6",
        "outputId": "aa029af3-d8ad-468d-b9c0-6bbe8f103034"
      },
      "execution_count": 23,
      "outputs": [
        {
          "output_type": "display_data",
          "data": {
            "text/plain": [
              "<Figure size 432x288 with 1 Axes>"
            ],
            "image/png": "[encoded data removed]"
          },
          "metadata": {
            "needs_background": "light"
          }
        }
      ]
    },
    {
      "cell_type": "code",
      "source": [
        "df_temp2 = df_temp[(df_temp['rating'] == 5)]"
      ],
      "metadata": {
        "id": "H96VqDSPlRPX"
      },
      "execution_count": 24,
      "outputs": []
    },
    {
      "cell_type": "code",
      "source": [
        "positive = list(df_temp2[(df_temp2['review'].str.len() > 100) & (df_temp2['review'].str.len() < 350)]['review'])\n",
        "len(positive)"
      ],
      "metadata": {
        "colab": {
          "base_uri": "https://localhost:8080/"
        },
        "id": "z_jVIF-XlYnR",
        "outputId": "650fccaf-7233-4ca9-ffe1-a7bff20f5cd7"
      },
      "execution_count": 25,
      "outputs": [
        {
          "output_type": "execute_result",
          "data": {
            "text/plain": [
              "220"
            ]
          },
          "metadata": {},
          "execution_count": 25
        }
      ]
    },
    {
      "cell_type": "code",
      "source": [
        "!pip install nlpaug"
      ],
      "metadata": {
        "colab": {
          "base_uri": "https://localhost:8080/"
        },
        "id": "NJpddlrOls2J",
        "outputId": "6d802e6b-d284-4f77-84af-c8ded5acaacd"
      },
      "execution_count": 26,
      "outputs": [
        {
          "output_type": "stream",
          "name": "stdout",
          "text": [
            "Looking in indexes: https://pypi.org/simple, https://us-python.pkg.dev/colab-wheels/public/simple/\n",
            "Collecting nlpaug\n",
            "  Downloading nlpaug-1.1.11-py3-none-any.whl (410 kB)\n",
            "\u001b[2K     \u001b[90m━━━━━━━━━━━━━━━━━━━━━━━━━━━━━━━━━━━━━━━\u001b[0m \u001b[32m410.5/410.5 KB\u001b[0m \u001b[31m8.5 MB/s\u001b[0m eta \u001b[36m0:00:00\u001b[0m\n",
            "\u001b[?25hRequirement already satisfied: numpy>=1.16.2 in /usr/local/lib/python3.8/dist-packages (from nlpaug) (1.22.4)\n",
            "Requirement already satisfied: gdown>=4.0.0 in /usr/local/lib/python3.8/dist-packages (from nlpaug) (4.4.0)\n",
            "Requirement already satisfied: pandas>=1.2.0 in /usr/local/lib/python3.8/dist-packages (from nlpaug) (1.3.5)\n",
            "Requirement already satisfied: requests>=2.22.0 in /usr/local/lib/python3.8/dist-packages (from nlpaug) (2.25.1)\n",
            "Requirement already satisfied: filelock in /usr/local/lib/python3.8/dist-packages (from gdown>=4.0.0->nlpaug) (3.9.0)\n",
            "Requirement already satisfied: six in /usr/local/lib/python3.8/dist-packages (from gdown>=4.0.0->nlpaug) (1.15.0)\n",
            "Requirement already satisfied: tqdm in /usr/local/lib/python3.8/dist-packages (from gdown>=4.0.0->nlpaug) (4.64.1)\n",
            "Requirement already satisfied: beautifulsoup4 in /usr/local/lib/python3.8/dist-packages (from gdown>=4.0.0->nlpaug) (4.6.3)\n",
            "Requirement already satisfied: python-dateutil>=2.7.3 in /usr/local/lib/python3.8/dist-packages (from pandas>=1.2.0->nlpaug) (2.8.2)\n",
            "Requirement already satisfied: pytz>=2017.3 in /usr/local/lib/python3.8/dist-packages (from pandas>=1.2.0->nlpaug) (2022.7.1)\n",
            "Requirement already satisfied: certifi>=2017.4.17 in /usr/local/lib/python3.8/dist-packages (from requests>=2.22.0->nlpaug) (2022.12.7)\n",
            "Requirement already satisfied: idna<3,>=2.5 in /usr/local/lib/python3.8/dist-packages (from requests>=2.22.0->nlpaug) (2.10)\n",
            "Requirement already satisfied: chardet<5,>=3.0.2 in /usr/local/lib/python3.8/dist-packages (from requests>=2.22.0->nlpaug) (4.0.0)\n",
            "Requirement already satisfied: urllib3<1.27,>=1.21.1 in /usr/local/lib/python3.8/dist-packages (from requests>=2.22.0->nlpaug) (1.26.14)\n",
            "Requirement already satisfied: PySocks!=1.5.7,>=1.5.6 in /usr/local/lib/python3.8/dist-packages (from requests>=2.22.0->nlpaug) (1.7.1)\n",
            "Installing collected packages: nlpaug\n",
            "Successfully installed nlpaug-1.1.11\n"
          ]
        }
      ]
    },
    {
      "cell_type": "code",
      "source": [
        "import nlpaug.augmenter.word as naw"
      ],
      "metadata": {
        "id": "LJVOVJPklwD9"
      },
      "execution_count": 27,
      "outputs": []
    },
    {
      "cell_type": "code",
      "source": [
        "positive[41:49]"
      ],
      "metadata": {
        "colab": {
          "base_uri": "https://localhost:8080/"
        },
        "id": "p8bsR-8Mly1a",
        "outputId": "cf4725bc-27e3-4d59-ddd1-f269d1f5c230"
      },
      "execution_count": 28,
      "outputs": [
        {
          "output_type": "execute_result",
          "data": {
            "text/plain": [
              "['only smartphone with ois camera in this budget the media could not be loaded.\\n                \\n\\n\\n\\n super performance best oxygen os version camera quality awesome with ois but there is cost cutting in display quality after all budget wise good',\n",
              " 'a great phone in this range. writing review after    days use.liked the phone so far..camera is good ans so is battery life.it charges very quick in almost    mins.good experience overall.go for it.',\n",
              " \"good camera  good performance  battery issues again  you can't have everything in a phone just perfect and tailor made. camera quality and specially the night mode is just amazing. ui is smooth. overall worth the money.\",\n",
              " \"camra quality is awesome. camra quality is awesome. good  batery back up with normal use.. display is also very good. can't notice any lap.\",\n",
              " 'very nice phones after one month review phone is very good but should be     hz refresh rate at this price. and battery should be more lasting but charge very fast     minutes ',\n",
              " 'mobile processor as far i have used many smartphone as samsung a series this tops the lists at this price',\n",
              " 'such a good phone and speed is great  camera is fantastic camera   speed  ui  design everything is super. nord   and nord  t both are great and very similar but design is different and some of the features are higher in  t',\n",
              " 'nice deal nice deal i got  k discount on   gb variant  but following need to improve  . camera . battery consumption . software sometimes hangs ']"
            ]
          },
          "metadata": {},
          "execution_count": 28
        }
      ]
    },
    {
      "cell_type": "code",
      "source": [
        "aug = naw.AntonymAug(name='Antonym_Aug', aug_min=1, aug_max=10, aug_p=0.3, lang='eng', stopwords=en_stopwords, tokenizer=None, \n",
        "                     reverse_tokenizer=None, stopwords_regex=None, verbose=0)\n",
        " \n",
        "aug_negative = aug.augment(positive)"
      ],
      "metadata": {
        "colab": {
          "base_uri": "https://localhost:8080/"
        },
        "id": "P-nFwGupl2e9",
        "outputId": "e394fee5-f94e-4e1c-bdae-79e1d27d33e3"
      },
      "execution_count": 29,
      "outputs": [
        {
          "output_type": "stream",
          "name": "stderr",
          "text": [
            "[nltk_data] Downloading package wordnet to /root/nltk_data...\n",
            "[nltk_data] Downloading package omw-1.4 to /root/nltk_data...\n",
            "[nltk_data] Downloading package averaged_perceptron_tagger to\n",
            "[nltk_data]     /root/nltk_data...\n",
            "[nltk_data]   Unzipping taggers/averaged_perceptron_tagger.zip.\n"
          ]
        }
      ]
    },
    {
      "cell_type": "code",
      "source": [
        "len(aug_negative)"
      ],
      "metadata": {
        "colab": {
          "base_uri": "https://localhost:8080/"
        },
        "id": "r3oX_LXyl4IV",
        "outputId": "5a399e8b-2298-4ebc-e788-4c06b593e451"
      },
      "execution_count": 30,
      "outputs": [
        {
          "output_type": "execute_result",
          "data": {
            "text/plain": [
              "220"
            ]
          },
          "metadata": {},
          "execution_count": 30
        }
      ]
    },
    {
      "cell_type": "code",
      "source": [
        "aug_negative[41:49]"
      ],
      "metadata": {
        "colab": {
          "base_uri": "https://localhost:8080/"
        },
        "id": "UHTmM5Lil7BS",
        "outputId": "cc0f696e-11da-4bb3-cb71-07f3e2d7ead2"
      },
      "execution_count": 31,
      "outputs": [
        {
          "output_type": "execute_result",
          "data": {
            "text/plain": [
              "['only smartphone with ois camera in this budget the media could not be loaded. super performance bad oxygen os version camera quality awesome with ois but there is cost switch on in display quality after all budget wise bad',\n",
              " 'a great phone in this range. writing review after days use. dislike the phone so far. . camera is evil ans so is battery life. it discharge very quick in almost mins. bad experience overall. malfunction for it.',\n",
              " \"evil camera evil performance battery issues again you can ' t have everything in a phone just imperfect and tailor unmake. camera quality and specially the night mode is just amazing. ui is rough. overall worth the money.\",\n",
              " \"camra quality is awesome. camra quality is awesome. bad batery ahead up with abnormal use. . display is also very bad. can ' t notice any lap.\",\n",
              " 'very nasty phones after one month review phone is very bad but should be hz refresh rate at this price. and battery should be more impermanent but charge very fast minutes',\n",
              " 'mobile processor as far i have used few smartphone as samsung a series this tops the lists at this price',\n",
              " 'such a evil phone and speed is great camera is fantastic camera speed ui design everything is super. nord and nord t both are great and very unlike but design is same and some of the features are low in t',\n",
              " 'nasty deal nasty deal i end k discount on gb variant but predate need to worsen. camera. battery consumption. software sometimes hangs']"
            ]
          },
          "metadata": {},
          "execution_count": 31
        }
      ]
    },
    {
      "cell_type": "code",
      "source": [
        "df_negative = pd.DataFrame({\"review\" : aug_negative, 'y' : [0]*len(aug_negative)})"
      ],
      "metadata": {
        "id": "PV7LHVMtmAu8"
      },
      "execution_count": 32,
      "outputs": []
    },
    {
      "cell_type": "code",
      "source": [
        "df_positive = pd.DataFrame({\"review\" : positive, 'y' : [1]*len(positive)})"
      ],
      "metadata": {
        "id": "qTwW-mbdmD7V"
      },
      "execution_count": 33,
      "outputs": []
    },
    {
      "cell_type": "code",
      "source": [
        "df_temp = pd.concat([df_negative, df_positive]).sample(frac = 1, random_state = 11).reset_index(drop=True)"
      ],
      "metadata": {
        "id": "kawsGyl_mGmA"
      },
      "execution_count": 34,
      "outputs": []
    },
    {
      "cell_type": "code",
      "source": [
        "df_temp.info()"
      ],
      "metadata": {
        "colab": {
          "base_uri": "https://localhost:8080/"
        },
        "id": "zp5BlqV1oHWP",
        "outputId": "b9560442-f058-4d7b-8de2-4bb8f8461c5c"
      },
      "execution_count": 35,
      "outputs": [
        {
          "output_type": "stream",
          "name": "stdout",
          "text": [
            "<class 'pandas.core.frame.DataFrame'>\n",
            "RangeIndex: 440 entries, 0 to 439\n",
            "Data columns (total 2 columns):\n",
            " #   Column  Non-Null Count  Dtype \n",
            "---  ------  --------------  ----- \n",
            " 0   review  440 non-null    object\n",
            " 1   y       440 non-null    int64 \n",
            "dtypes: int64(1), object(1)\n",
            "memory usage: 7.0+ KB\n"
          ]
        }
      ]
    },
    {
      "cell_type": "code",
      "source": [
        "df_temp.head()"
      ],
      "metadata": {
        "colab": {
          "base_uri": "https://localhost:8080/",
          "height": 206
        },
        "id": "uKAhwxbhoNx1",
        "outputId": "4d550f18-478c-4f60-9018-164b24316e3c"
      },
      "execution_count": 36,
      "outputs": [
        {
          "output_type": "execute_result",
          "data": {
            "text/plain": [
              "                                              review  y\n",
              "0  awesome product was a bit skeptical while stop...  0\n",
              "1  fantastic phone  everything works perfectly  t...  1\n",
              "2  good phone under   k fingerprint work very wel...  1\n",
              "3  it ' s awesome value for money super powerfull...  0\n",
              "4  that ' s awesome wonderful phone that ' s grea...  0"
            ],
            "text/html": [
              "\n",
              "  <div id=\"df-5a89bac8-8ef7-4d66-bdfd-9156ec755a40\">\n",
              "    <div class=\"colab-df-container\">\n",
              "      <div>\n",
              "<style scoped>\n",
              "    .dataframe tbody tr th:only-of-type {\n",
              "        vertical-align: middle;\n",
              "    }\n",
              "\n",
              "    .dataframe tbody tr th {\n",
              "        vertical-align: top;\n",
              "    }\n",
              "\n",
              "    .dataframe thead th {\n",
              "        text-align: right;\n",
              "    }\n",
              "</style>\n",
              "<table border=\"1\" class=\"dataframe\">\n",
              "  <thead>\n",
              "    <tr style=\"text-align: right;\">\n",
              "      <th></th>\n",
              "      <th>review</th>\n",
              "      <th>y</th>\n",
              "    </tr>\n",
              "  </thead>\n",
              "  <tbody>\n",
              "    <tr>\n",
              "      <th>0</th>\n",
              "      <td>awesome product was a bit skeptical while stop...</td>\n",
              "      <td>0</td>\n",
              "    </tr>\n",
              "    <tr>\n",
              "      <th>1</th>\n",
              "      <td>fantastic phone  everything works perfectly  t...</td>\n",
              "      <td>1</td>\n",
              "    </tr>\n",
              "    <tr>\n",
              "      <th>2</th>\n",
              "      <td>good phone under   k fingerprint work very wel...</td>\n",
              "      <td>1</td>\n",
              "    </tr>\n",
              "    <tr>\n",
              "      <th>3</th>\n",
              "      <td>it ' s awesome value for money super powerfull...</td>\n",
              "      <td>0</td>\n",
              "    </tr>\n",
              "    <tr>\n",
              "      <th>4</th>\n",
              "      <td>that ' s awesome wonderful phone that ' s grea...</td>\n",
              "      <td>0</td>\n",
              "    </tr>\n",
              "  </tbody>\n",
              "</table>\n",
              "</div>\n",
              "      <button class=\"colab-df-convert\" onclick=\"convertToInteractive('df-5a89bac8-8ef7-4d66-bdfd-9156ec755a40')\"\n",
              "              title=\"Convert this dataframe to an interactive table.\"\n",
              "              style=\"display:none;\">\n",
              "        \n",
              "  <svg xmlns=\"http://www.w3.org/2000/svg\" height=\"24px\"viewBox=\"0 0 24 24\"\n",
              "       width=\"24px\">\n",
              "    <path d=\"M0 0h24v24H0V0z\" fill=\"none\"/>\n",
              "    <path d=\"M18.56 5.44l.94 2.06.94-2.06 2.06-.94-2.06-.94-.94-2.06-.94 2.06-2.06.94zm-11 1L8.5 8.5l.94-2.06 2.06-.94-2.06-.94L8.5 2.5l-.94 2.06-2.06.94zm10 10l.94 2.06.94-2.06 2.06-.94-2.06-.94-.94-2.06-.94 2.06-2.06.94z\"/><path d=\"M17.41 7.96l-1.37-1.37c-.4-.4-.92-.59-1.43-.59-.52 0-1.04.2-1.43.59L10.3 9.45l-7.72 7.72c-.78.78-.78 2.05 0 2.83L4 21.41c.39.39.9.59 1.41.59.51 0 1.02-.2 1.41-.59l7.78-7.78 2.81-2.81c.8-.78.8-2.07 0-2.86zM5.41 20L4 18.59l7.72-7.72 1.47 1.35L5.41 20z\"/>\n",
              "  </svg>\n",
              "      </button>\n",
              "      \n",
              "  <style>\n",
              "    .colab-df-container {\n",
              "      display:flex;\n",
              "      flex-wrap:wrap;\n",
              "      gap: 12px;\n",
              "    }\n",
              "\n",
              "    .colab-df-convert {\n",
              "      background-color: #E8F0FE;\n",
              "      border: none;\n",
              "      border-radius: 50%;\n",
              "      cursor: pointer;\n",
              "      display: none;\n",
              "      fill: #1967D2;\n",
              "      height: 32px;\n",
              "      padding: 0 0 0 0;\n",
              "      width: 32px;\n",
              "    }\n",
              "\n",
              "    .colab-df-convert:hover {\n",
              "      background-color: #E2EBFA;\n",
              "      box-shadow: 0px 1px 2px rgba(60, 64, 67, 0.3), 0px 1px 3px 1px rgba(60, 64, 67, 0.15);\n",
              "      fill: #174EA6;\n",
              "    }\n",
              "\n",
              "    [theme=dark] .colab-df-convert {\n",
              "      background-color: #3B4455;\n",
              "      fill: #D2E3FC;\n",
              "    }\n",
              "\n",
              "    [theme=dark] .colab-df-convert:hover {\n",
              "      background-color: #434B5C;\n",
              "      box-shadow: 0px 1px 3px 1px rgba(0, 0, 0, 0.15);\n",
              "      filter: drop-shadow(0px 1px 2px rgba(0, 0, 0, 0.3));\n",
              "      fill: #FFFFFF;\n",
              "    }\n",
              "  </style>\n",
              "\n",
              "      <script>\n",
              "        const buttonEl =\n",
              "          document.querySelector('#df-5a89bac8-8ef7-4d66-bdfd-9156ec755a40 button.colab-df-convert');\n",
              "        buttonEl.style.display =\n",
              "          google.colab.kernel.accessAllowed ? 'block' : 'none';\n",
              "\n",
              "        async function convertToInteractive(key) {\n",
              "          const element = document.querySelector('#df-5a89bac8-8ef7-4d66-bdfd-9156ec755a40');\n",
              "          const dataTable =\n",
              "            await google.colab.kernel.invokeFunction('convertToInteractive',\n",
              "                                                     [key], {});\n",
              "          if (!dataTable) return;\n",
              "\n",
              "          const docLinkHtml = 'Like what you see? Visit the ' +\n",
              "            '<a target=\"_blank\" href=https://colab.research.google.com/notebooks/data_table.ipynb>data table notebook</a>'\n",
              "            + ' to learn more about interactive tables.';\n",
              "          element.innerHTML = '';\n",
              "          dataTable['output_type'] = 'display_data';\n",
              "          await google.colab.output.renderOutput(dataTable, element);\n",
              "          const docLink = document.createElement('div');\n",
              "          docLink.innerHTML = docLinkHtml;\n",
              "          element.appendChild(docLink);\n",
              "        }\n",
              "      </script>\n",
              "    </div>\n",
              "  </div>\n",
              "  "
            ]
          },
          "metadata": {},
          "execution_count": 36
        }
      ]
    },
    {
      "cell_type": "code",
      "source": [
        "df = df_temp"
      ],
      "metadata": {
        "id": "JM93eH1EoQ8_"
      },
      "execution_count": 37,
      "outputs": []
    },
    {
      "cell_type": "code",
      "source": [
        "from tqdm import tqdm\n",
        "\n",
        "tqdm.pandas()\n",
        "\n",
        "df['clean_review'] = df['review'].progress_map(preprocessing)"
      ],
      "metadata": {
        "colab": {
          "base_uri": "https://localhost:8080/"
        },
        "id": "QSKWv3H4pKPG",
        "outputId": "25416b6c-a494-4567-ed51-7bcf0d9a5ec0"
      },
      "execution_count": 38,
      "outputs": [
        {
          "output_type": "stream",
          "name": "stderr",
          "text": [
            "100%|██████████| 440/440 [00:08<00:00, 54.36it/s]\n"
          ]
        }
      ]
    },
    {
      "cell_type": "code",
      "source": [
        "df.head()"
      ],
      "metadata": {
        "colab": {
          "base_uri": "https://localhost:8080/",
          "height": 206
        },
        "id": "ebvLdHLepbnn",
        "outputId": "7cfcc896-c462-46cf-c9c7-192d3194db93"
      },
      "execution_count": 39,
      "outputs": [
        {
          "output_type": "execute_result",
          "data": {
            "text/plain": [
              "                                              review  y  \\\n",
              "0  awesome product was a bit skeptical while stop...  0   \n",
              "1  fantastic phone  everything works perfectly  t...  1   \n",
              "2  good phone under   k fingerprint work very wel...  1   \n",
              "3  it ' s awesome value for money super powerfull...  0   \n",
              "4  that ' s awesome wonderful phone that ' s grea...  0   \n",
              "\n",
              "                                        clean_review  \n",
              "0  awesom product wa bit skeptic stop back thi I ...  \n",
              "1  fantast phone everyth work perfectli respon pe...  \n",
              "2  good phone k fingerprint work veri well . batt...  \n",
              "3  ' awesom valu money super powerful experiencec...  \n",
              "4  ' awesom wonder phone ' great wonder phone I l...  "
            ],
            "text/html": [
              "\n",
              "  <div id=\"df-ee9b75b9-518d-4daa-b839-42a77a74a7f3\">\n",
              "    <div class=\"colab-df-container\">\n",
              "      <div>\n",
              "<style scoped>\n",
              "    .dataframe tbody tr th:only-of-type {\n",
              "        vertical-align: middle;\n",
              "    }\n",
              "\n",
              "    .dataframe tbody tr th {\n",
              "        vertical-align: top;\n",
              "    }\n",
              "\n",
              "    .dataframe thead th {\n",
              "        text-align: right;\n",
              "    }\n",
              "</style>\n",
              "<table border=\"1\" class=\"dataframe\">\n",
              "  <thead>\n",
              "    <tr style=\"text-align: right;\">\n",
              "      <th></th>\n",
              "      <th>review</th>\n",
              "      <th>y</th>\n",
              "      <th>clean_review</th>\n",
              "    </tr>\n",
              "  </thead>\n",
              "  <tbody>\n",
              "    <tr>\n",
              "      <th>0</th>\n",
              "      <td>awesome product was a bit skeptical while stop...</td>\n",
              "      <td>0</td>\n",
              "      <td>awesom product wa bit skeptic stop back thi I ...</td>\n",
              "    </tr>\n",
              "    <tr>\n",
              "      <th>1</th>\n",
              "      <td>fantastic phone  everything works perfectly  t...</td>\n",
              "      <td>1</td>\n",
              "      <td>fantast phone everyth work perfectli respon pe...</td>\n",
              "    </tr>\n",
              "    <tr>\n",
              "      <th>2</th>\n",
              "      <td>good phone under   k fingerprint work very wel...</td>\n",
              "      <td>1</td>\n",
              "      <td>good phone k fingerprint work veri well . batt...</td>\n",
              "    </tr>\n",
              "    <tr>\n",
              "      <th>3</th>\n",
              "      <td>it ' s awesome value for money super powerfull...</td>\n",
              "      <td>0</td>\n",
              "      <td>' awesom valu money super powerful experiencec...</td>\n",
              "    </tr>\n",
              "    <tr>\n",
              "      <th>4</th>\n",
              "      <td>that ' s awesome wonderful phone that ' s grea...</td>\n",
              "      <td>0</td>\n",
              "      <td>' awesom wonder phone ' great wonder phone I l...</td>\n",
              "    </tr>\n",
              "  </tbody>\n",
              "</table>\n",
              "</div>\n",
              "      <button class=\"colab-df-convert\" onclick=\"convertToInteractive('df-ee9b75b9-518d-4daa-b839-42a77a74a7f3')\"\n",
              "              title=\"Convert this dataframe to an interactive table.\"\n",
              "              style=\"display:none;\">\n",
              "        \n",
              "  <svg xmlns=\"http://www.w3.org/2000/svg\" height=\"24px\"viewBox=\"0 0 24 24\"\n",
              "       width=\"24px\">\n",
              "    <path d=\"M0 0h24v24H0V0z\" fill=\"none\"/>\n",
              "    <path d=\"M18.56 5.44l.94 2.06.94-2.06 2.06-.94-2.06-.94-.94-2.06-.94 2.06-2.06.94zm-11 1L8.5 8.5l.94-2.06 2.06-.94-2.06-.94L8.5 2.5l-.94 2.06-2.06.94zm10 10l.94 2.06.94-2.06 2.06-.94-2.06-.94-.94-2.06-.94 2.06-2.06.94z\"/><path d=\"M17.41 7.96l-1.37-1.37c-.4-.4-.92-.59-1.43-.59-.52 0-1.04.2-1.43.59L10.3 9.45l-7.72 7.72c-.78.78-.78 2.05 0 2.83L4 21.41c.39.39.9.59 1.41.59.51 0 1.02-.2 1.41-.59l7.78-7.78 2.81-2.81c.8-.78.8-2.07 0-2.86zM5.41 20L4 18.59l7.72-7.72 1.47 1.35L5.41 20z\"/>\n",
              "  </svg>\n",
              "      </button>\n",
              "      \n",
              "  <style>\n",
              "    .colab-df-container {\n",
              "      display:flex;\n",
              "      flex-wrap:wrap;\n",
              "      gap: 12px;\n",
              "    }\n",
              "\n",
              "    .colab-df-convert {\n",
              "      background-color: #E8F0FE;\n",
              "      border: none;\n",
              "      border-radius: 50%;\n",
              "      cursor: pointer;\n",
              "      display: none;\n",
              "      fill: #1967D2;\n",
              "      height: 32px;\n",
              "      padding: 0 0 0 0;\n",
              "      width: 32px;\n",
              "    }\n",
              "\n",
              "    .colab-df-convert:hover {\n",
              "      background-color: #E2EBFA;\n",
              "      box-shadow: 0px 1px 2px rgba(60, 64, 67, 0.3), 0px 1px 3px 1px rgba(60, 64, 67, 0.15);\n",
              "      fill: #174EA6;\n",
              "    }\n",
              "\n",
              "    [theme=dark] .colab-df-convert {\n",
              "      background-color: #3B4455;\n",
              "      fill: #D2E3FC;\n",
              "    }\n",
              "\n",
              "    [theme=dark] .colab-df-convert:hover {\n",
              "      background-color: #434B5C;\n",
              "      box-shadow: 0px 1px 3px 1px rgba(0, 0, 0, 0.15);\n",
              "      filter: drop-shadow(0px 1px 2px rgba(0, 0, 0, 0.3));\n",
              "      fill: #FFFFFF;\n",
              "    }\n",
              "  </style>\n",
              "\n",
              "      <script>\n",
              "        const buttonEl =\n",
              "          document.querySelector('#df-ee9b75b9-518d-4daa-b839-42a77a74a7f3 button.colab-df-convert');\n",
              "        buttonEl.style.display =\n",
              "          google.colab.kernel.accessAllowed ? 'block' : 'none';\n",
              "\n",
              "        async function convertToInteractive(key) {\n",
              "          const element = document.querySelector('#df-ee9b75b9-518d-4daa-b839-42a77a74a7f3');\n",
              "          const dataTable =\n",
              "            await google.colab.kernel.invokeFunction('convertToInteractive',\n",
              "                                                     [key], {});\n",
              "          if (!dataTable) return;\n",
              "\n",
              "          const docLinkHtml = 'Like what you see? Visit the ' +\n",
              "            '<a target=\"_blank\" href=https://colab.research.google.com/notebooks/data_table.ipynb>data table notebook</a>'\n",
              "            + ' to learn more about interactive tables.';\n",
              "          element.innerHTML = '';\n",
              "          dataTable['output_type'] = 'display_data';\n",
              "          await google.colab.output.renderOutput(dataTable, element);\n",
              "          const docLink = document.createElement('div');\n",
              "          docLink.innerHTML = docLinkHtml;\n",
              "          element.appendChild(docLink);\n",
              "        }\n",
              "      </script>\n",
              "    </div>\n",
              "  </div>\n",
              "  "
            ]
          },
          "metadata": {},
          "execution_count": 39
        }
      ]
    },
    {
      "cell_type": "code",
      "source": [
        "reviews = df.clean_review.values.tolist()"
      ],
      "metadata": {
        "id": "vEMoZeHmpf-H"
      },
      "execution_count": 40,
      "outputs": []
    },
    {
      "cell_type": "code",
      "source": [
        "from tqdm import tqdm\n",
        "\n",
        "tqdm.pandas()\n",
        "\n",
        "df['clean_review2'] = df['clean_review'].progress_map(word_tokenizer)"
      ],
      "metadata": {
        "colab": {
          "base_uri": "https://localhost:8080/"
        },
        "id": "PTplPo5vpo1T",
        "outputId": "91fa1375-0aff-4b92-dbd0-98108cef5b0d"
      },
      "execution_count": 41,
      "outputs": [
        {
          "output_type": "stream",
          "name": "stderr",
          "text": [
            "100%|██████████| 440/440 [00:00<00:00, 27725.52it/s]\n"
          ]
        }
      ]
    },
    {
      "cell_type": "code",
      "source": [
        "df.head()"
      ],
      "metadata": {
        "colab": {
          "base_uri": "https://localhost:8080/",
          "height": 250
        },
        "id": "Ic9rtpw_pxov",
        "outputId": "315184af-f680-417a-d9f2-4ddf2367a87e"
      },
      "execution_count": 42,
      "outputs": [
        {
          "output_type": "execute_result",
          "data": {
            "text/plain": [
              "                                              review  y  \\\n",
              "0  awesome product was a bit skeptical while stop...  0   \n",
              "1  fantastic phone  everything works perfectly  t...  1   \n",
              "2  good phone under   k fingerprint work very wel...  1   \n",
              "3  it ' s awesome value for money super powerfull...  0   \n",
              "4  that ' s awesome wonderful phone that ' s grea...  0   \n",
              "\n",
              "                                        clean_review  \\\n",
              "0  awesom product wa bit skeptic stop back thi I ...   \n",
              "1  fantast phone everyth work perfectli respon pe...   \n",
              "2  good phone k fingerprint work veri well . batt...   \n",
              "3  ' awesom valu money super powerful experiencec...   \n",
              "4  ' awesom wonder phone ' great wonder phone I l...   \n",
              "\n",
              "                                       clean_review2  \n",
              "0  [awesom, product, wa, bit, skeptic, stop, back...  \n",
              "1  [fantast, phone, everyth, work, perfectli, res...  \n",
              "2  [good, phone, k, fingerprint, work, veri, well...  \n",
              "3  [', awesom, valu, money, super, powerful, expe...  \n",
              "4  [', awesom, wonder, phone, ', great, wonder, p...  "
            ],
            "text/html": [
              "\n",
              "  <div id=\"df-ff812fe9-ad69-4f8c-aa7e-f6f654e98485\">\n",
              "    <div class=\"colab-df-container\">\n",
              "      <div>\n",
              "<style scoped>\n",
              "    .dataframe tbody tr th:only-of-type {\n",
              "        vertical-align: middle;\n",
              "    }\n",
              "\n",
              "    .dataframe tbody tr th {\n",
              "        vertical-align: top;\n",
              "    }\n",
              "\n",
              "    .dataframe thead th {\n",
              "        text-align: right;\n",
              "    }\n",
              "</style>\n",
              "<table border=\"1\" class=\"dataframe\">\n",
              "  <thead>\n",
              "    <tr style=\"text-align: right;\">\n",
              "      <th></th>\n",
              "      <th>review</th>\n",
              "      <th>y</th>\n",
              "      <th>clean_review</th>\n",
              "      <th>clean_review2</th>\n",
              "    </tr>\n",
              "  </thead>\n",
              "  <tbody>\n",
              "    <tr>\n",
              "      <th>0</th>\n",
              "      <td>awesome product was a bit skeptical while stop...</td>\n",
              "      <td>0</td>\n",
              "      <td>awesom product wa bit skeptic stop back thi I ...</td>\n",
              "      <td>[awesom, product, wa, bit, skeptic, stop, back...</td>\n",
              "    </tr>\n",
              "    <tr>\n",
              "      <th>1</th>\n",
              "      <td>fantastic phone  everything works perfectly  t...</td>\n",
              "      <td>1</td>\n",
              "      <td>fantast phone everyth work perfectli respon pe...</td>\n",
              "      <td>[fantast, phone, everyth, work, perfectli, res...</td>\n",
              "    </tr>\n",
              "    <tr>\n",
              "      <th>2</th>\n",
              "      <td>good phone under   k fingerprint work very wel...</td>\n",
              "      <td>1</td>\n",
              "      <td>good phone k fingerprint work veri well . batt...</td>\n",
              "      <td>[good, phone, k, fingerprint, work, veri, well...</td>\n",
              "    </tr>\n",
              "    <tr>\n",
              "      <th>3</th>\n",
              "      <td>it ' s awesome value for money super powerfull...</td>\n",
              "      <td>0</td>\n",
              "      <td>' awesom valu money super powerful experiencec...</td>\n",
              "      <td>[', awesom, valu, money, super, powerful, expe...</td>\n",
              "    </tr>\n",
              "    <tr>\n",
              "      <th>4</th>\n",
              "      <td>that ' s awesome wonderful phone that ' s grea...</td>\n",
              "      <td>0</td>\n",
              "      <td>' awesom wonder phone ' great wonder phone I l...</td>\n",
              "      <td>[', awesom, wonder, phone, ', great, wonder, p...</td>\n",
              "    </tr>\n",
              "  </tbody>\n",
              "</table>\n",
              "</div>\n",
              "      <button class=\"colab-df-convert\" onclick=\"convertToInteractive('df-ff812fe9-ad69-4f8c-aa7e-f6f654e98485')\"\n",
              "              title=\"Convert this dataframe to an interactive table.\"\n",
              "              style=\"display:none;\">\n",
              "        \n",
              "  <svg xmlns=\"http://www.w3.org/2000/svg\" height=\"24px\"viewBox=\"0 0 24 24\"\n",
              "       width=\"24px\">\n",
              "    <path d=\"M0 0h24v24H0V0z\" fill=\"none\"/>\n",
              "    <path d=\"M18.56 5.44l.94 2.06.94-2.06 2.06-.94-2.06-.94-.94-2.06-.94 2.06-2.06.94zm-11 1L8.5 8.5l.94-2.06 2.06-.94-2.06-.94L8.5 2.5l-.94 2.06-2.06.94zm10 10l.94 2.06.94-2.06 2.06-.94-2.06-.94-.94-2.06-.94 2.06-2.06.94z\"/><path d=\"M17.41 7.96l-1.37-1.37c-.4-.4-.92-.59-1.43-.59-.52 0-1.04.2-1.43.59L10.3 9.45l-7.72 7.72c-.78.78-.78 2.05 0 2.83L4 21.41c.39.39.9.59 1.41.59.51 0 1.02-.2 1.41-.59l7.78-7.78 2.81-2.81c.8-.78.8-2.07 0-2.86zM5.41 20L4 18.59l7.72-7.72 1.47 1.35L5.41 20z\"/>\n",
              "  </svg>\n",
              "      </button>\n",
              "      \n",
              "  <style>\n",
              "    .colab-df-container {\n",
              "      display:flex;\n",
              "      flex-wrap:wrap;\n",
              "      gap: 12px;\n",
              "    }\n",
              "\n",
              "    .colab-df-convert {\n",
              "      background-color: #E8F0FE;\n",
              "      border: none;\n",
              "      border-radius: 50%;\n",
              "      cursor: pointer;\n",
              "      display: none;\n",
              "      fill: #1967D2;\n",
              "      height: 32px;\n",
              "      padding: 0 0 0 0;\n",
              "      width: 32px;\n",
              "    }\n",
              "\n",
              "    .colab-df-convert:hover {\n",
              "      background-color: #E2EBFA;\n",
              "      box-shadow: 0px 1px 2px rgba(60, 64, 67, 0.3), 0px 1px 3px 1px rgba(60, 64, 67, 0.15);\n",
              "      fill: #174EA6;\n",
              "    }\n",
              "\n",
              "    [theme=dark] .colab-df-convert {\n",
              "      background-color: #3B4455;\n",
              "      fill: #D2E3FC;\n",
              "    }\n",
              "\n",
              "    [theme=dark] .colab-df-convert:hover {\n",
              "      background-color: #434B5C;\n",
              "      box-shadow: 0px 1px 3px 1px rgba(0, 0, 0, 0.15);\n",
              "      filter: drop-shadow(0px 1px 2px rgba(0, 0, 0, 0.3));\n",
              "      fill: #FFFFFF;\n",
              "    }\n",
              "  </style>\n",
              "\n",
              "      <script>\n",
              "        const buttonEl =\n",
              "          document.querySelector('#df-ff812fe9-ad69-4f8c-aa7e-f6f654e98485 button.colab-df-convert');\n",
              "        buttonEl.style.display =\n",
              "          google.colab.kernel.accessAllowed ? 'block' : 'none';\n",
              "\n",
              "        async function convertToInteractive(key) {\n",
              "          const element = document.querySelector('#df-ff812fe9-ad69-4f8c-aa7e-f6f654e98485');\n",
              "          const dataTable =\n",
              "            await google.colab.kernel.invokeFunction('convertToInteractive',\n",
              "                                                     [key], {});\n",
              "          if (!dataTable) return;\n",
              "\n",
              "          const docLinkHtml = 'Like what you see? Visit the ' +\n",
              "            '<a target=\"_blank\" href=https://colab.research.google.com/notebooks/data_table.ipynb>data table notebook</a>'\n",
              "            + ' to learn more about interactive tables.';\n",
              "          element.innerHTML = '';\n",
              "          dataTable['output_type'] = 'display_data';\n",
              "          await google.colab.output.renderOutput(dataTable, element);\n",
              "          const docLink = document.createElement('div');\n",
              "          docLink.innerHTML = docLinkHtml;\n",
              "          element.appendChild(docLink);\n",
              "        }\n",
              "      </script>\n",
              "    </div>\n",
              "  </div>\n",
              "  "
            ]
          },
          "metadata": {},
          "execution_count": 42
        }
      ]
    },
    {
      "cell_type": "markdown",
      "source": [
        "## **Latent Dirichlet Allocation (LDA)**"
      ],
      "metadata": {
        "id": "feEVW3EplZKu"
      }
    },
    {
      "cell_type": "code",
      "source": [
        "data_words = df['clean_review2'].values.tolist()\n",
        "len(data_words)"
      ],
      "metadata": {
        "colab": {
          "base_uri": "https://localhost:8080/"
        },
        "id": "Uu1H53TX4r41",
        "outputId": "dd7f740b-46a7-4257-c262-e0f5ccd09a0b"
      },
      "execution_count": 43,
      "outputs": [
        {
          "output_type": "execute_result",
          "data": {
            "text/plain": [
              "440"
            ]
          },
          "metadata": {},
          "execution_count": 43
        }
      ]
    },
    {
      "cell_type": "code",
      "source": [
        "import gensim.corpora as corpora\n",
        "\n",
        "# Create Dictionary\n",
        "id2word = corpora.Dictionary(data_words)\n",
        "# Create Corpus\n",
        "texts = data_words\n",
        "# Term Document Frequency\n",
        "corpus = [id2word.doc2bow(text) for text in texts]\n",
        "print(corpus[:1][0][:30])\n"
      ],
      "metadata": {
        "id": "VWsGIvIS9m7h",
        "colab": {
          "base_uri": "https://localhost:8080/"
        },
        "outputId": "b00f7561-e9b2-43e7-a529-994f5a7e83b0"
      },
      "execution_count": 44,
      "outputs": [
        {
          "output_type": "stream",
          "name": "stdout",
          "text": [
            "[(0, 1), (1, 3), (2, 2), (3, 1), (4, 3), (5, 1), (6, 1), (7, 1), (8, 1), (9, 1), (10, 1), (11, 1), (12, 1), (13, 1), (14, 1), (15, 3), (16, 1), (17, 1), (18, 1), (19, 1), (20, 1), (21, 1), (22, 1), (23, 1), (24, 1), (25, 1), (26, 1), (27, 1), (28, 1)]\n"
          ]
        }
      ]
    },
    {
      "cell_type": "code",
      "source": [
        "from gensim.models import LdaMulticore\n",
        "from gensim.models import LdaModel\n",
        "from pprint import pprint\n",
        "\n",
        "# number of topics\n",
        "num_topics = 10\n",
        "# Build LDA model\n",
        "lda_model = LdaMulticore(corpus=corpus, id2word=id2word,\n",
        "                     num_topics=num_topics, iterations=400)\n",
        "# Print the Keyword in the 10 topics\n",
        "pprint(lda_model.print_topics())\n",
        "doc_lda = lda_model[corpus]"
      ],
      "metadata": {
        "colab": {
          "base_uri": "https://localhost:8080/"
        },
        "id": "efmxDUGZAG6u",
        "outputId": "3da333ef-e064-49bf-8d5b-dd4dfa5f016b"
      },
      "execution_count": 45,
      "outputs": [
        {
          "output_type": "stream",
          "name": "stderr",
          "text": [
            "WARNING:gensim.models.ldamulticore:too few updates, training might not converge; consider increasing the number of passes or iterations to improve accuracy\n"
          ]
        },
        {
          "output_type": "stream",
          "name": "stdout",
          "text": [
            "[(0,\n",
            "  '0.026*\"perform\" + 0.026*\"veri\" + 0.020*\"camera\" + 0.020*\"\\'\" + 0.020*\"gud\" '\n",
            "  '+ 0.017*\"display\" + 0.017*\"oneplu\" + 0.017*\"batteri\" + 0.013*\".\" + '\n",
            "  '0.013*\"speed\"'),\n",
            " (1,\n",
            "  '0.045*\"camera\" + 0.036*\".\" + 0.031*\"thi\" + 0.028*\"good\" + 0.020*\"phone\" + '\n",
            "  '0.017*\"wa\" + 0.017*\"qualiti\" + 0.014*\"perform\" + 0.011*\"back\" + '\n",
            "  '0.011*\"make\"'),\n",
            " (2,\n",
            "  '0.021*\"batteri\" + 0.017*\"day\" + 0.017*\"bad\" + 0.017*\"one\" + 0.013*\".\" + '\n",
            "  '0.013*\"veri\" + 0.013*\"product\" + 0.013*\"k\" + 0.013*\"\\'\" + 0.008*\"i\"'),\n",
            " (3,\n",
            "  '0.064*\".\" + 0.033*\"camera\" + 0.022*\"thi\" + 0.021*\"phone\" + 0.020*\"batteri\" '\n",
            "  '+ 0.018*\"oneplu\" + 0.018*\"i\" + 0.016*\"super\" + 0.016*\"fast\" + 0.015*\"bad\"'),\n",
            " (4,\n",
            "  '0.087*\".\" + 0.046*\"good\" + 0.028*\"batteri\" + 0.025*\"camera\" + 0.019*\"..\" + '\n",
            "  '0.016*\"veri\" + 0.015*\"phone\" + 0.014*\"fast\" + 0.013*\"look\" + 0.012*\"thi\"'),\n",
            " (5,\n",
            "  '0.033*\"phone\" + 0.030*\"thi\" + 0.026*\".\" + 0.019*\"camera\" + 0.016*\"one\" + '\n",
            "  '0.016*\"i\" + 0.016*\"good\" + 0.015*\"awesom\" + 0.013*\"veri\" + 0.013*\"hai\"'),\n",
            " (6,\n",
            "  '0.104*\".\" + 0.046*\"phone\" + 0.034*\"i\" + 0.031*\"thi\" + 0.020*\"camera\" + '\n",
            "  '0.019*\"bad\" + 0.017*\"veri\" + 0.016*\"evil\" + 0.015*\"qualiti\" + 0.015*\"..\"'),\n",
            " (7,\n",
            "  '0.052*\".\" + 0.042*\"good\" + 0.042*\"phone\" + 0.034*\"veri\" + 0.033*\"/\" + '\n",
            "  '0.022*\"one\" + 0.015*\"product\" + 0.015*\"camera\" + 0.013*\"great\" + '\n",
            "  '0.013*\"qualiti\"'),\n",
            " (8,\n",
            "  '0.069*\".\" + 0.031*\"good\" + 0.023*\"batteri\" + 0.023*\"mobil\" + 0.022*\"phone\" '\n",
            "  '+ 0.020*\"veri\" + 0.019*\"thi\" + 0.019*\"camera\" + 0.019*\"i\" + 0.013*\"oneplu\"'),\n",
            " (9,\n",
            "  '0.055*\"phone\" + 0.044*\".\" + 0.035*\"camera\" + 0.027*\"good\" + 0.026*\"veri\" + '\n",
            "  '0.025*\"batteri\" + 0.024*\"qualiti\" + 0.020*\"\\'\" + 0.018*\"i\" + 0.016*\"fast\"')]\n"
          ]
        }
      ]
    },
    {
      "cell_type": "code",
      "source": [
        "%%time\n",
        "import gensim\n",
        "from gensim.models.fasttext import FastText as FT_gensim\n",
        "\n",
        "def gen_words(data_words):\n",
        "    yield data_words   \n",
        "\n",
        "fasttext_model = FT_gensim(data_words, vector_size= 100, window=5, min_count=5, workers=4,sg=1)\n"
      ],
      "metadata": {
        "colab": {
          "base_uri": "https://localhost:8080/"
        },
        "id": "gddiKq0vARyo",
        "outputId": "82d77c72-c845-4e97-d1c8-a8f255bde5d2"
      },
      "execution_count": 46,
      "outputs": [
        {
          "output_type": "stream",
          "name": "stdout",
          "text": [
            "CPU times: user 1.55 s, sys: 419 ms, total: 1.97 s\n",
            "Wall time: 2.02 s\n"
          ]
        }
      ]
    },
    {
      "cell_type": "code",
      "source": [
        "fasttext_model.save(\"FastText-Model-For-ABSA.bin\")"
      ],
      "metadata": {
        "id": "39Xwf_TrBR4t"
      },
      "execution_count": 47,
      "outputs": []
    },
    {
      "cell_type": "code",
      "source": [
        "fasttext_model.wv.similarity(\"I really like the camera of this phone\", \"battery\")"
      ],
      "metadata": {
        "colab": {
          "base_uri": "https://localhost:8080/"
        },
        "id": "XsOidfHTBU2F",
        "outputId": "e29d338d-ab72-4c43-fab3-cf2eb863b599"
      },
      "execution_count": 48,
      "outputs": [
        {
          "output_type": "execute_result",
          "data": {
            "text/plain": [
              "0.999449"
            ]
          },
          "metadata": {},
          "execution_count": 48
        }
      ]
    },
    {
      "cell_type": "code",
      "source": [
        "aspects = [\"phone\", \"camera\", \"battery\", \"delivery\", \"processor\"]\n",
        "\n",
        "def get_similarity(text, aspect):\n",
        "  try:\n",
        "    text = \"\".join(text)\n",
        "    return fasttext_model.wv.similarity(text, aspect)\n",
        "  except:\n",
        "    return 0  "
      ],
      "metadata": {
        "id": "KEAQbAeUCMZ_"
      },
      "execution_count": 49,
      "outputs": []
    },
    {
      "cell_type": "code",
      "source": [
        "from tqdm import tqdm\n",
        "tqdm.pandas()\n",
        "for aspect in aspects:\n",
        "    df[aspect] = df['clean_review2'].progress_map(lambda text: get_similarity(text, aspect))"
      ],
      "metadata": {
        "colab": {
          "base_uri": "https://localhost:8080/"
        },
        "id": "zIKNvcGBCRJZ",
        "outputId": "c6960149-f0bd-4f37-e391-12d5ac3cb863"
      },
      "execution_count": 50,
      "outputs": [
        {
          "output_type": "stream",
          "name": "stderr",
          "text": [
            "100%|██████████| 440/440 [00:00<00:00, 1045.87it/s]\n",
            "100%|██████████| 440/440 [00:00<00:00, 1096.54it/s]\n",
            "100%|██████████| 440/440 [00:00<00:00, 1024.38it/s]\n",
            "100%|██████████| 440/440 [00:00<00:00, 1107.21it/s]\n",
            "100%|██████████| 440/440 [00:00<00:00, 1038.82it/s]\n"
          ]
        }
      ]
    },
    {
      "cell_type": "code",
      "source": [
        "df.head()"
      ],
      "metadata": {
        "colab": {
          "base_uri": "https://localhost:8080/",
          "height": 354
        },
        "id": "yL2bT4RWCfNL",
        "outputId": "019cfe31-8fac-44bc-9cd7-959550d82f0b"
      },
      "execution_count": 51,
      "outputs": [
        {
          "output_type": "execute_result",
          "data": {
            "text/plain": [
              "                                              review  y  \\\n",
              "0  awesome product was a bit skeptical while stop...  0   \n",
              "1  fantastic phone  everything works perfectly  t...  1   \n",
              "2  good phone under   k fingerprint work very wel...  1   \n",
              "3  it ' s awesome value for money super powerfull...  0   \n",
              "4  that ' s awesome wonderful phone that ' s grea...  0   \n",
              "\n",
              "                                        clean_review  \\\n",
              "0  awesom product wa bit skeptic stop back thi I ...   \n",
              "1  fantast phone everyth work perfectli respon pe...   \n",
              "2  good phone k fingerprint work veri well . batt...   \n",
              "3  ' awesom valu money super powerful experiencec...   \n",
              "4  ' awesom wonder phone ' great wonder phone I l...   \n",
              "\n",
              "                                       clean_review2     phone    camera  \\\n",
              "0  [awesom, product, wa, bit, skeptic, stop, back...  0.999667  0.999844   \n",
              "1  [fantast, phone, everyth, work, perfectli, res...  0.999685  0.999838   \n",
              "2  [good, phone, k, fingerprint, work, veri, well...  0.999540  0.999871   \n",
              "3  [', awesom, valu, money, super, powerful, expe...  0.999523  0.999885   \n",
              "4  [', awesom, wonder, phone, ', great, wonder, p...  0.999789  0.999744   \n",
              "\n",
              "    battery  delivery  processor  \n",
              "0  0.999765  0.999884   0.999909  \n",
              "1  0.999743  0.999880   0.999925  \n",
              "2  0.999799  0.999821   0.999904  \n",
              "3  0.999763  0.999821   0.999900  \n",
              "4  0.999595  0.999848   0.999861  "
            ],
            "text/html": [
              "\n",
              "  <div id=\"df-a224cf66-f155-4838-8138-337cd946f054\">\n",
              "    <div class=\"colab-df-container\">\n",
              "      <div>\n",
              "<style scoped>\n",
              "    .dataframe tbody tr th:only-of-type {\n",
              "        vertical-align: middle;\n",
              "    }\n",
              "\n",
              "    .dataframe tbody tr th {\n",
              "        vertical-align: top;\n",
              "    }\n",
              "\n",
              "    .dataframe thead th {\n",
              "        text-align: right;\n",
              "    }\n",
              "</style>\n",
              "<table border=\"1\" class=\"dataframe\">\n",
              "  <thead>\n",
              "    <tr style=\"text-align: right;\">\n",
              "      <th></th>\n",
              "      <th>review</th>\n",
              "      <th>y</th>\n",
              "      <th>clean_review</th>\n",
              "      <th>clean_review2</th>\n",
              "      <th>phone</th>\n",
              "      <th>camera</th>\n",
              "      <th>battery</th>\n",
              "      <th>delivery</th>\n",
              "      <th>processor</th>\n",
              "    </tr>\n",
              "  </thead>\n",
              "  <tbody>\n",
              "    <tr>\n",
              "      <th>0</th>\n",
              "      <td>awesome product was a bit skeptical while stop...</td>\n",
              "      <td>0</td>\n",
              "      <td>awesom product wa bit skeptic stop back thi I ...</td>\n",
              "      <td>[awesom, product, wa, bit, skeptic, stop, back...</td>\n",
              "      <td>0.999667</td>\n",
              "      <td>0.999844</td>\n",
              "      <td>0.999765</td>\n",
              "      <td>0.999884</td>\n",
              "      <td>0.999909</td>\n",
              "    </tr>\n",
              "    <tr>\n",
              "      <th>1</th>\n",
              "      <td>fantastic phone  everything works perfectly  t...</td>\n",
              "      <td>1</td>\n",
              "      <td>fantast phone everyth work perfectli respon pe...</td>\n",
              "      <td>[fantast, phone, everyth, work, perfectli, res...</td>\n",
              "      <td>0.999685</td>\n",
              "      <td>0.999838</td>\n",
              "      <td>0.999743</td>\n",
              "      <td>0.999880</td>\n",
              "      <td>0.999925</td>\n",
              "    </tr>\n",
              "    <tr>\n",
              "      <th>2</th>\n",
              "      <td>good phone under   k fingerprint work very wel...</td>\n",
              "      <td>1</td>\n",
              "      <td>good phone k fingerprint work veri well . batt...</td>\n",
              "      <td>[good, phone, k, fingerprint, work, veri, well...</td>\n",
              "      <td>0.999540</td>\n",
              "      <td>0.999871</td>\n",
              "      <td>0.999799</td>\n",
              "      <td>0.999821</td>\n",
              "      <td>0.999904</td>\n",
              "    </tr>\n",
              "    <tr>\n",
              "      <th>3</th>\n",
              "      <td>it ' s awesome value for money super powerfull...</td>\n",
              "      <td>0</td>\n",
              "      <td>' awesom valu money super powerful experiencec...</td>\n",
              "      <td>[', awesom, valu, money, super, powerful, expe...</td>\n",
              "      <td>0.999523</td>\n",
              "      <td>0.999885</td>\n",
              "      <td>0.999763</td>\n",
              "      <td>0.999821</td>\n",
              "      <td>0.999900</td>\n",
              "    </tr>\n",
              "    <tr>\n",
              "      <th>4</th>\n",
              "      <td>that ' s awesome wonderful phone that ' s grea...</td>\n",
              "      <td>0</td>\n",
              "      <td>' awesom wonder phone ' great wonder phone I l...</td>\n",
              "      <td>[', awesom, wonder, phone, ', great, wonder, p...</td>\n",
              "      <td>0.999789</td>\n",
              "      <td>0.999744</td>\n",
              "      <td>0.999595</td>\n",
              "      <td>0.999848</td>\n",
              "      <td>0.999861</td>\n",
              "    </tr>\n",
              "  </tbody>\n",
              "</table>\n",
              "</div>\n",
              "      <button class=\"colab-df-convert\" onclick=\"convertToInteractive('df-a224cf66-f155-4838-8138-337cd946f054')\"\n",
              "              title=\"Convert this dataframe to an interactive table.\"\n",
              "              style=\"display:none;\">\n",
              "        \n",
              "  <svg xmlns=\"http://www.w3.org/2000/svg\" height=\"24px\"viewBox=\"0 0 24 24\"\n",
              "       width=\"24px\">\n",
              "    <path d=\"M0 0h24v24H0V0z\" fill=\"none\"/>\n",
              "    <path d=\"M18.56 5.44l.94 2.06.94-2.06 2.06-.94-2.06-.94-.94-2.06-.94 2.06-2.06.94zm-11 1L8.5 8.5l.94-2.06 2.06-.94-2.06-.94L8.5 2.5l-.94 2.06-2.06.94zm10 10l.94 2.06.94-2.06 2.06-.94-2.06-.94-.94-2.06-.94 2.06-2.06.94z\"/><path d=\"M17.41 7.96l-1.37-1.37c-.4-.4-.92-.59-1.43-.59-.52 0-1.04.2-1.43.59L10.3 9.45l-7.72 7.72c-.78.78-.78 2.05 0 2.83L4 21.41c.39.39.9.59 1.41.59.51 0 1.02-.2 1.41-.59l7.78-7.78 2.81-2.81c.8-.78.8-2.07 0-2.86zM5.41 20L4 18.59l7.72-7.72 1.47 1.35L5.41 20z\"/>\n",
              "  </svg>\n",
              "      </button>\n",
              "      \n",
              "  <style>\n",
              "    .colab-df-container {\n",
              "      display:flex;\n",
              "      flex-wrap:wrap;\n",
              "      gap: 12px;\n",
              "    }\n",
              "\n",
              "    .colab-df-convert {\n",
              "      background-color: #E8F0FE;\n",
              "      border: none;\n",
              "      border-radius: 50%;\n",
              "      cursor: pointer;\n",
              "      display: none;\n",
              "      fill: #1967D2;\n",
              "      height: 32px;\n",
              "      padding: 0 0 0 0;\n",
              "      width: 32px;\n",
              "    }\n",
              "\n",
              "    .colab-df-convert:hover {\n",
              "      background-color: #E2EBFA;\n",
              "      box-shadow: 0px 1px 2px rgba(60, 64, 67, 0.3), 0px 1px 3px 1px rgba(60, 64, 67, 0.15);\n",
              "      fill: #174EA6;\n",
              "    }\n",
              "\n",
              "    [theme=dark] .colab-df-convert {\n",
              "      background-color: #3B4455;\n",
              "      fill: #D2E3FC;\n",
              "    }\n",
              "\n",
              "    [theme=dark] .colab-df-convert:hover {\n",
              "      background-color: #434B5C;\n",
              "      box-shadow: 0px 1px 3px 1px rgba(0, 0, 0, 0.15);\n",
              "      filter: drop-shadow(0px 1px 2px rgba(0, 0, 0, 0.3));\n",
              "      fill: #FFFFFF;\n",
              "    }\n",
              "  </style>\n",
              "\n",
              "      <script>\n",
              "        const buttonEl =\n",
              "          document.querySelector('#df-a224cf66-f155-4838-8138-337cd946f054 button.colab-df-convert');\n",
              "        buttonEl.style.display =\n",
              "          google.colab.kernel.accessAllowed ? 'block' : 'none';\n",
              "\n",
              "        async function convertToInteractive(key) {\n",
              "          const element = document.querySelector('#df-a224cf66-f155-4838-8138-337cd946f054');\n",
              "          const dataTable =\n",
              "            await google.colab.kernel.invokeFunction('convertToInteractive',\n",
              "                                                     [key], {});\n",
              "          if (!dataTable) return;\n",
              "\n",
              "          const docLinkHtml = 'Like what you see? Visit the ' +\n",
              "            '<a target=\"_blank\" href=https://colab.research.google.com/notebooks/data_table.ipynb>data table notebook</a>'\n",
              "            + ' to learn more about interactive tables.';\n",
              "          element.innerHTML = '';\n",
              "          dataTable['output_type'] = 'display_data';\n",
              "          await google.colab.output.renderOutput(dataTable, element);\n",
              "          const docLink = document.createElement('div');\n",
              "          docLink.innerHTML = docLinkHtml;\n",
              "          element.appendChild(docLink);\n",
              "        }\n",
              "      </script>\n",
              "    </div>\n",
              "  </div>\n",
              "  "
            ]
          },
          "metadata": {},
          "execution_count": 51
        }
      ]
    },
    {
      "cell_type": "code",
      "source": [
        "df.to_csv(\"Clean_Rev.csv\", index = False)"
      ],
      "metadata": {
        "id": "vsxhgtDnlN6p"
      },
      "execution_count": 52,
      "outputs": []
    },
    {
      "cell_type": "markdown",
      "source": [
        "### **MODEL**"
      ],
      "metadata": {
        "id": "QJ8R07vPQWcU"
      }
    },
    {
      "cell_type": "code",
      "execution_count": 53,
      "metadata": {
        "id": "LDB74jrcmptm"
      },
      "outputs": [],
      "source": [
        "import torch\n",
        "from torch import nn\n",
        "from torch.utils.data import Dataset\n",
        "from torch.utils.data import DataLoader\n",
        "from torch.utils.data import RandomSampler\n",
        "import warnings"
      ]
    },
    {
      "cell_type": "markdown",
      "source": [
        "# **Configurations**"
      ],
      "metadata": {
        "id": "iXUj9bHtQSJS"
      }
    },
    {
      "cell_type": "code",
      "execution_count": 54,
      "metadata": {
        "id": "7dqnFenFmxlo"
      },
      "outputs": [],
      "source": [
        "class config:\n",
        "  warnings.filterwarnings(\"ignore\", category = UserWarning)\n",
        "  IMG_SIZE = (224,224)\n",
        "  DEVICE = (\"cuda\" if torch.cuda.is_available() else \"cpu\")\n",
        "  FOLDS = 5\n",
        "  SHUFFLE = True\n",
        "  BATCH_SIZE = 32\n",
        "  LR = 0.01\n",
        "  EPOCHS = 30\n",
        "  EMB_DIM = 100\n",
        "  MAX_LEN = 20\n",
        "  MODEL_PATH = \"./Models/MyModel.pt\""
      ]
    },
    {
      "cell_type": "code",
      "execution_count": 55,
      "metadata": {
        "id": "GndU5sr8m5e-",
        "colab": {
          "base_uri": "https://localhost:8080/",
          "height": 354
        },
        "outputId": "14223515-26b4-4301-f925-0544367d70db"
      },
      "outputs": [
        {
          "output_type": "execute_result",
          "data": {
            "text/plain": [
              "                                              review  y  \\\n",
              "0  awesome product was a bit skeptical while stop...  0   \n",
              "1  fantastic phone  everything works perfectly  t...  1   \n",
              "2  good phone under   k fingerprint work very wel...  1   \n",
              "3  it ' s awesome value for money super powerfull...  0   \n",
              "4  that ' s awesome wonderful phone that ' s grea...  0   \n",
              "\n",
              "                                        clean_review  \\\n",
              "0  awesom product wa bit skeptic stop back thi I ...   \n",
              "1  fantast phone everyth work perfectli respon pe...   \n",
              "2  good phone k fingerprint work veri well . batt...   \n",
              "3  ' awesom valu money super powerful experiencec...   \n",
              "4  ' awesom wonder phone ' great wonder phone I l...   \n",
              "\n",
              "                                       clean_review2     phone    camera  \\\n",
              "0  [awesom, product, wa, bit, skeptic, stop, back...  0.999667  0.999844   \n",
              "1  [fantast, phone, everyth, work, perfectli, res...  0.999685  0.999838   \n",
              "2  [good, phone, k, fingerprint, work, veri, well...  0.999540  0.999871   \n",
              "3  [', awesom, valu, money, super, powerful, expe...  0.999523  0.999885   \n",
              "4  [', awesom, wonder, phone, ', great, wonder, p...  0.999789  0.999744   \n",
              "\n",
              "    battery  delivery  processor  \n",
              "0  0.999765  0.999884   0.999909  \n",
              "1  0.999743  0.999880   0.999925  \n",
              "2  0.999799  0.999821   0.999904  \n",
              "3  0.999763  0.999821   0.999900  \n",
              "4  0.999595  0.999848   0.999861  "
            ],
            "text/html": [
              "\n",
              "  <div id=\"df-8fe4920c-6ba1-4350-8324-cb1da9decffe\">\n",
              "    <div class=\"colab-df-container\">\n",
              "      <div>\n",
              "<style scoped>\n",
              "    .dataframe tbody tr th:only-of-type {\n",
              "        vertical-align: middle;\n",
              "    }\n",
              "\n",
              "    .dataframe tbody tr th {\n",
              "        vertical-align: top;\n",
              "    }\n",
              "\n",
              "    .dataframe thead th {\n",
              "        text-align: right;\n",
              "    }\n",
              "</style>\n",
              "<table border=\"1\" class=\"dataframe\">\n",
              "  <thead>\n",
              "    <tr style=\"text-align: right;\">\n",
              "      <th></th>\n",
              "      <th>review</th>\n",
              "      <th>y</th>\n",
              "      <th>clean_review</th>\n",
              "      <th>clean_review2</th>\n",
              "      <th>phone</th>\n",
              "      <th>camera</th>\n",
              "      <th>battery</th>\n",
              "      <th>delivery</th>\n",
              "      <th>processor</th>\n",
              "    </tr>\n",
              "  </thead>\n",
              "  <tbody>\n",
              "    <tr>\n",
              "      <th>0</th>\n",
              "      <td>awesome product was a bit skeptical while stop...</td>\n",
              "      <td>0</td>\n",
              "      <td>awesom product wa bit skeptic stop back thi I ...</td>\n",
              "      <td>[awesom, product, wa, bit, skeptic, stop, back...</td>\n",
              "      <td>0.999667</td>\n",
              "      <td>0.999844</td>\n",
              "      <td>0.999765</td>\n",
              "      <td>0.999884</td>\n",
              "      <td>0.999909</td>\n",
              "    </tr>\n",
              "    <tr>\n",
              "      <th>1</th>\n",
              "      <td>fantastic phone  everything works perfectly  t...</td>\n",
              "      <td>1</td>\n",
              "      <td>fantast phone everyth work perfectli respon pe...</td>\n",
              "      <td>[fantast, phone, everyth, work, perfectli, res...</td>\n",
              "      <td>0.999685</td>\n",
              "      <td>0.999838</td>\n",
              "      <td>0.999743</td>\n",
              "      <td>0.999880</td>\n",
              "      <td>0.999925</td>\n",
              "    </tr>\n",
              "    <tr>\n",
              "      <th>2</th>\n",
              "      <td>good phone under   k fingerprint work very wel...</td>\n",
              "      <td>1</td>\n",
              "      <td>good phone k fingerprint work veri well . batt...</td>\n",
              "      <td>[good, phone, k, fingerprint, work, veri, well...</td>\n",
              "      <td>0.999540</td>\n",
              "      <td>0.999871</td>\n",
              "      <td>0.999799</td>\n",
              "      <td>0.999821</td>\n",
              "      <td>0.999904</td>\n",
              "    </tr>\n",
              "    <tr>\n",
              "      <th>3</th>\n",
              "      <td>it ' s awesome value for money super powerfull...</td>\n",
              "      <td>0</td>\n",
              "      <td>' awesom valu money super powerful experiencec...</td>\n",
              "      <td>[', awesom, valu, money, super, powerful, expe...</td>\n",
              "      <td>0.999523</td>\n",
              "      <td>0.999885</td>\n",
              "      <td>0.999763</td>\n",
              "      <td>0.999821</td>\n",
              "      <td>0.999900</td>\n",
              "    </tr>\n",
              "    <tr>\n",
              "      <th>4</th>\n",
              "      <td>that ' s awesome wonderful phone that ' s grea...</td>\n",
              "      <td>0</td>\n",
              "      <td>' awesom wonder phone ' great wonder phone I l...</td>\n",
              "      <td>[', awesom, wonder, phone, ', great, wonder, p...</td>\n",
              "      <td>0.999789</td>\n",
              "      <td>0.999744</td>\n",
              "      <td>0.999595</td>\n",
              "      <td>0.999848</td>\n",
              "      <td>0.999861</td>\n",
              "    </tr>\n",
              "  </tbody>\n",
              "</table>\n",
              "</div>\n",
              "      <button class=\"colab-df-convert\" onclick=\"convertToInteractive('df-8fe4920c-6ba1-4350-8324-cb1da9decffe')\"\n",
              "              title=\"Convert this dataframe to an interactive table.\"\n",
              "              style=\"display:none;\">\n",
              "        \n",
              "  <svg xmlns=\"http://www.w3.org/2000/svg\" height=\"24px\"viewBox=\"0 0 24 24\"\n",
              "       width=\"24px\">\n",
              "    <path d=\"M0 0h24v24H0V0z\" fill=\"none\"/>\n",
              "    <path d=\"M18.56 5.44l.94 2.06.94-2.06 2.06-.94-2.06-.94-.94-2.06-.94 2.06-2.06.94zm-11 1L8.5 8.5l.94-2.06 2.06-.94-2.06-.94L8.5 2.5l-.94 2.06-2.06.94zm10 10l.94 2.06.94-2.06 2.06-.94-2.06-.94-.94-2.06-.94 2.06-2.06.94z\"/><path d=\"M17.41 7.96l-1.37-1.37c-.4-.4-.92-.59-1.43-.59-.52 0-1.04.2-1.43.59L10.3 9.45l-7.72 7.72c-.78.78-.78 2.05 0 2.83L4 21.41c.39.39.9.59 1.41.59.51 0 1.02-.2 1.41-.59l7.78-7.78 2.81-2.81c.8-.78.8-2.07 0-2.86zM5.41 20L4 18.59l7.72-7.72 1.47 1.35L5.41 20z\"/>\n",
              "  </svg>\n",
              "      </button>\n",
              "      \n",
              "  <style>\n",
              "    .colab-df-container {\n",
              "      display:flex;\n",
              "      flex-wrap:wrap;\n",
              "      gap: 12px;\n",
              "    }\n",
              "\n",
              "    .colab-df-convert {\n",
              "      background-color: #E8F0FE;\n",
              "      border: none;\n",
              "      border-radius: 50%;\n",
              "      cursor: pointer;\n",
              "      display: none;\n",
              "      fill: #1967D2;\n",
              "      height: 32px;\n",
              "      padding: 0 0 0 0;\n",
              "      width: 32px;\n",
              "    }\n",
              "\n",
              "    .colab-df-convert:hover {\n",
              "      background-color: #E2EBFA;\n",
              "      box-shadow: 0px 1px 2px rgba(60, 64, 67, 0.3), 0px 1px 3px 1px rgba(60, 64, 67, 0.15);\n",
              "      fill: #174EA6;\n",
              "    }\n",
              "\n",
              "    [theme=dark] .colab-df-convert {\n",
              "      background-color: #3B4455;\n",
              "      fill: #D2E3FC;\n",
              "    }\n",
              "\n",
              "    [theme=dark] .colab-df-convert:hover {\n",
              "      background-color: #434B5C;\n",
              "      box-shadow: 0px 1px 3px 1px rgba(0, 0, 0, 0.15);\n",
              "      filter: drop-shadow(0px 1px 2px rgba(0, 0, 0, 0.3));\n",
              "      fill: #FFFFFF;\n",
              "    }\n",
              "  </style>\n",
              "\n",
              "      <script>\n",
              "        const buttonEl =\n",
              "          document.querySelector('#df-8fe4920c-6ba1-4350-8324-cb1da9decffe button.colab-df-convert');\n",
              "        buttonEl.style.display =\n",
              "          google.colab.kernel.accessAllowed ? 'block' : 'none';\n",
              "\n",
              "        async function convertToInteractive(key) {\n",
              "          const element = document.querySelector('#df-8fe4920c-6ba1-4350-8324-cb1da9decffe');\n",
              "          const dataTable =\n",
              "            await google.colab.kernel.invokeFunction('convertToInteractive',\n",
              "                                                     [key], {});\n",
              "          if (!dataTable) return;\n",
              "\n",
              "          const docLinkHtml = 'Like what you see? Visit the ' +\n",
              "            '<a target=\"_blank\" href=https://colab.research.google.com/notebooks/data_table.ipynb>data table notebook</a>'\n",
              "            + ' to learn more about interactive tables.';\n",
              "          element.innerHTML = '';\n",
              "          dataTable['output_type'] = 'display_data';\n",
              "          await google.colab.output.renderOutput(dataTable, element);\n",
              "          const docLink = document.createElement('div');\n",
              "          docLink.innerHTML = docLinkHtml;\n",
              "          element.appendChild(docLink);\n",
              "        }\n",
              "      </script>\n",
              "    </div>\n",
              "  </div>\n",
              "  "
            ]
          },
          "metadata": {},
          "execution_count": 55
        }
      ],
      "source": [
        "df.head()"
      ]
    },
    {
      "cell_type": "markdown",
      "source": [
        "# **Vocabulary Creation and Dataset Generator**"
      ],
      "metadata": {
        "id": "uqSE0TQ9QGVj"
      }
    },
    {
      "cell_type": "code",
      "source": [
        "class Vocabulary:\n",
        "  \n",
        "    '''\n",
        "    __init__ method is called by default as soon as an object of this class is initiated\n",
        "    we use this method to initiate our vocab dictionaries\n",
        "    '''\n",
        "    def __init__(self, freq_threshold, max_size):\n",
        "        '''\n",
        "        freq_threshold : the minimum times a word must occur in corpus to be treated in vocab\n",
        "        max_size : max source vocab size. Eg. if set to 10,000, we pick the top 10,000 most frequent words and discard others\n",
        "        '''\n",
        "        #initiate the index to token dict\n",
        "        ## <PAD> -> padding, used for padding the shorter sentences in a batch to match the length of longest sentence in the batch\n",
        "        ## <SOS> -> start token, added in front of each sentence to signify the start of sentence\n",
        "        ## <EOS> -> End of sentence token, added to the end of each sentence to signify the end of sentence\n",
        "        ## <UNK> -> words which are not found in the vocab are replace by this token\n",
        "        self.itos = {0: '<PAD>', 1:'<SOS>', 2:'<EOS>', 3: '<UNK>'}\n",
        "        #initiate the token to index dict\n",
        "        self.stoi = {k:j for j,k in self.itos.items()} \n",
        "        \n",
        "        self.freq_threshold = freq_threshold\n",
        "        self.max_size = max_size\n",
        "    \n",
        "    '''\n",
        "    __len__ is used by dataloader later to create batches\n",
        "    '''\n",
        "    def __len__(self):\n",
        "        return len(self.itos)\n",
        "    \n",
        "    '''\n",
        "    a simple tokenizer to split on space and converts the sentence to list of words\n",
        "    '''\n",
        "    @staticmethod\n",
        "    def tokenizer(text):\n",
        "        return [tok.lower().strip() for tok in text.split(' ')]\n",
        "    \n",
        "    '''\n",
        "    build the vocab: create a dictionary mapping of index to string (itos) and string to index (stoi)\n",
        "    output ex. for stoi -> {'the':5, 'a':6, 'an':7}\n",
        "    '''\n",
        "    def build_vocabulary(self, sentence_list):\n",
        "        #calculate the frequencies of each word first to remove the words with freq < freq_threshold\n",
        "        frequencies = {}  #init the freq dict\n",
        "        idx = 4 #index from which we want our dict to start. We already used 4 indexes for pad, start, end, unk\n",
        "        \n",
        "        #calculate freq of words\n",
        "        for sentence in sentence_list:\n",
        "            for word in self.tokenizer(sentence):\n",
        "                if word not in frequencies.keys():\n",
        "                    frequencies[word]=1\n",
        "                else:\n",
        "                    frequencies[word]+=1\n",
        "                    \n",
        "                    \n",
        "        #limit vocab by removing low freq words\n",
        "        frequencies = {k:v for k,v in frequencies.items() if v>self.freq_threshold} \n",
        "        \n",
        "        #limit vocab to the max_size specified\n",
        "        frequencies = dict(sorted(frequencies.items(), key = lambda x: -x[1])[:self.max_size-idx]) # idx =4 for pad, start, end , unk\n",
        "            \n",
        "        #create vocab\n",
        "        for word in frequencies.keys():\n",
        "            self.stoi[word] = idx\n",
        "            self.itos[idx] = word\n",
        "            idx+=1\n",
        "            \n",
        "     \n",
        "    '''\n",
        "    convert the list of words to a list of corresponding indexes\n",
        "    '''    \n",
        "    def numericalize(self, text):\n",
        "        #tokenize text\n",
        "        tokenized_text = self.tokenizer(text)\n",
        "        numericalized_text = []\n",
        "        for token in tokenized_text:\n",
        "            if token in self.stoi.keys():\n",
        "                numericalized_text.append(self.stoi[token])\n",
        "            else: #out-of-vocab words are represented by UNK token index\n",
        "                numericalized_text.append(self.stoi['<UNK>'])\n",
        "                \n",
        "        return numericalized_text"
      ],
      "metadata": {
        "id": "Nf2qU-3yNDTV"
      },
      "execution_count": 56,
      "outputs": []
    },
    {
      "cell_type": "code",
      "execution_count": 57,
      "metadata": {
        "id": "8ZfFKrgloxtS"
      },
      "outputs": [],
      "source": [
        "from torch.utils.data import Dataset\n",
        "\n",
        "class CustomDataset(Dataset):\n",
        "    '''\n",
        "    Initiating Variables\n",
        "    df: the training dataframe\n",
        "    source_column : the name of source text column in the dataframe\n",
        "    transform : If we want to add any augmentation\n",
        "    freq_threshold : the minimum times a word must occur in corpus to be treated in vocab\n",
        "    source_vocab_max_size : max source vocab size\n",
        "    '''\n",
        "    \n",
        "    def __init__(self, df, source_column,freq_threshold = 3,\n",
        "                source_vocab_max_size = 10000 , transform=None):\n",
        "    \n",
        "        self.df = df\n",
        "        self.transform = transform\n",
        "        \n",
        "        #get source and target texts\n",
        "        self.source_texts = self.df[source_column]\n",
        "        \n",
        "        \n",
        "        ##VOCAB class has been created above\n",
        "        #Initialize source vocab object and build vocabulary\n",
        "        self.source_vocab = Vocabulary(freq_threshold, source_vocab_max_size)\n",
        "        self.source_vocab.build_vocabulary(self.source_texts.tolist())\n",
        "\n",
        "        \n",
        "    def __len__(self):\n",
        "        return len(self.df)\n",
        "    \n",
        "    '''\n",
        "    __getitem__ runs on 1 example at a time. Here, we get an example at index and return its numericalize source and\n",
        "    target values using the vocabulary objects we created in __init__\n",
        "    '''\n",
        "    def __getitem__(self, index):\n",
        "        source_text = self.source_texts[index]\n",
        "        \n",
        "        if self.transform is not None:\n",
        "            source_text = self.transform(source_text)\n",
        "            \n",
        "        #numericalize texts ['<SOS>','cat', 'in', 'a', 'bag','<EOS>'] -> [1,12,2,9,24,2]\n",
        "        numerialized_source = [self.source_vocab.stoi[\"<SOS>\"]]\n",
        "        numerialized_source += self.source_vocab.numericalize(source_text)\n",
        "        numerialized_source.append(self.source_vocab.stoi[\"<EOS>\"])\n",
        "        \n",
        "        #convert the list to tensor and return\n",
        "        return torch.tensor(numerialized_source), torch.tensor(self.df.y[index])"
      ]
    },
    {
      "cell_type": "code",
      "execution_count": 58,
      "metadata": {
        "colab": {
          "base_uri": "https://localhost:8080/",
          "height": 354
        },
        "id": "MidFWf2cy5sq",
        "outputId": "b3e5f9e4-d1f9-4fd8-d0b5-2ffe3f9853df"
      },
      "outputs": [
        {
          "output_type": "execute_result",
          "data": {
            "text/plain": [
              "                                              review  y  \\\n",
              "0  awesome product was a bit skeptical while stop...  0   \n",
              "1  fantastic phone  everything works perfectly  t...  1   \n",
              "2  good phone under   k fingerprint work very wel...  1   \n",
              "3  it ' s awesome value for money super powerfull...  0   \n",
              "4  that ' s awesome wonderful phone that ' s grea...  0   \n",
              "\n",
              "                                        clean_review  \\\n",
              "0  awesom product wa bit skeptic stop back thi I ...   \n",
              "1  fantast phone everyth work perfectli respon pe...   \n",
              "2  good phone k fingerprint work veri well . batt...   \n",
              "3  ' awesom valu money super powerful experiencec...   \n",
              "4  ' awesom wonder phone ' great wonder phone I l...   \n",
              "\n",
              "                                       clean_review2     phone    camera  \\\n",
              "0  [awesom, product, wa, bit, skeptic, stop, back...  0.999667  0.999844   \n",
              "1  [fantast, phone, everyth, work, perfectli, res...  0.999685  0.999838   \n",
              "2  [good, phone, k, fingerprint, work, veri, well...  0.999540  0.999871   \n",
              "3  [', awesom, valu, money, super, powerful, expe...  0.999523  0.999885   \n",
              "4  [', awesom, wonder, phone, ', great, wonder, p...  0.999789  0.999744   \n",
              "\n",
              "    battery  delivery  processor  \n",
              "0  0.999765  0.999884   0.999909  \n",
              "1  0.999743  0.999880   0.999925  \n",
              "2  0.999799  0.999821   0.999904  \n",
              "3  0.999763  0.999821   0.999900  \n",
              "4  0.999595  0.999848   0.999861  "
            ],
            "text/html": [
              "\n",
              "  <div id=\"df-af829451-f5cb-452f-9233-529400a97815\">\n",
              "    <div class=\"colab-df-container\">\n",
              "      <div>\n",
              "<style scoped>\n",
              "    .dataframe tbody tr th:only-of-type {\n",
              "        vertical-align: middle;\n",
              "    }\n",
              "\n",
              "    .dataframe tbody tr th {\n",
              "        vertical-align: top;\n",
              "    }\n",
              "\n",
              "    .dataframe thead th {\n",
              "        text-align: right;\n",
              "    }\n",
              "</style>\n",
              "<table border=\"1\" class=\"dataframe\">\n",
              "  <thead>\n",
              "    <tr style=\"text-align: right;\">\n",
              "      <th></th>\n",
              "      <th>review</th>\n",
              "      <th>y</th>\n",
              "      <th>clean_review</th>\n",
              "      <th>clean_review2</th>\n",
              "      <th>phone</th>\n",
              "      <th>camera</th>\n",
              "      <th>battery</th>\n",
              "      <th>delivery</th>\n",
              "      <th>processor</th>\n",
              "    </tr>\n",
              "  </thead>\n",
              "  <tbody>\n",
              "    <tr>\n",
              "      <th>0</th>\n",
              "      <td>awesome product was a bit skeptical while stop...</td>\n",
              "      <td>0</td>\n",
              "      <td>awesom product wa bit skeptic stop back thi I ...</td>\n",
              "      <td>[awesom, product, wa, bit, skeptic, stop, back...</td>\n",
              "      <td>0.999667</td>\n",
              "      <td>0.999844</td>\n",
              "      <td>0.999765</td>\n",
              "      <td>0.999884</td>\n",
              "      <td>0.999909</td>\n",
              "    </tr>\n",
              "    <tr>\n",
              "      <th>1</th>\n",
              "      <td>fantastic phone  everything works perfectly  t...</td>\n",
              "      <td>1</td>\n",
              "      <td>fantast phone everyth work perfectli respon pe...</td>\n",
              "      <td>[fantast, phone, everyth, work, perfectli, res...</td>\n",
              "      <td>0.999685</td>\n",
              "      <td>0.999838</td>\n",
              "      <td>0.999743</td>\n",
              "      <td>0.999880</td>\n",
              "      <td>0.999925</td>\n",
              "    </tr>\n",
              "    <tr>\n",
              "      <th>2</th>\n",
              "      <td>good phone under   k fingerprint work very wel...</td>\n",
              "      <td>1</td>\n",
              "      <td>good phone k fingerprint work veri well . batt...</td>\n",
              "      <td>[good, phone, k, fingerprint, work, veri, well...</td>\n",
              "      <td>0.999540</td>\n",
              "      <td>0.999871</td>\n",
              "      <td>0.999799</td>\n",
              "      <td>0.999821</td>\n",
              "      <td>0.999904</td>\n",
              "    </tr>\n",
              "    <tr>\n",
              "      <th>3</th>\n",
              "      <td>it ' s awesome value for money super powerfull...</td>\n",
              "      <td>0</td>\n",
              "      <td>' awesom valu money super powerful experiencec...</td>\n",
              "      <td>[', awesom, valu, money, super, powerful, expe...</td>\n",
              "      <td>0.999523</td>\n",
              "      <td>0.999885</td>\n",
              "      <td>0.999763</td>\n",
              "      <td>0.999821</td>\n",
              "      <td>0.999900</td>\n",
              "    </tr>\n",
              "    <tr>\n",
              "      <th>4</th>\n",
              "      <td>that ' s awesome wonderful phone that ' s grea...</td>\n",
              "      <td>0</td>\n",
              "      <td>' awesom wonder phone ' great wonder phone I l...</td>\n",
              "      <td>[', awesom, wonder, phone, ', great, wonder, p...</td>\n",
              "      <td>0.999789</td>\n",
              "      <td>0.999744</td>\n",
              "      <td>0.999595</td>\n",
              "      <td>0.999848</td>\n",
              "      <td>0.999861</td>\n",
              "    </tr>\n",
              "  </tbody>\n",
              "</table>\n",
              "</div>\n",
              "      <button class=\"colab-df-convert\" onclick=\"convertToInteractive('df-af829451-f5cb-452f-9233-529400a97815')\"\n",
              "              title=\"Convert this dataframe to an interactive table.\"\n",
              "              style=\"display:none;\">\n",
              "        \n",
              "  <svg xmlns=\"http://www.w3.org/2000/svg\" height=\"24px\"viewBox=\"0 0 24 24\"\n",
              "       width=\"24px\">\n",
              "    <path d=\"M0 0h24v24H0V0z\" fill=\"none\"/>\n",
              "    <path d=\"M18.56 5.44l.94 2.06.94-2.06 2.06-.94-2.06-.94-.94-2.06-.94 2.06-2.06.94zm-11 1L8.5 8.5l.94-2.06 2.06-.94-2.06-.94L8.5 2.5l-.94 2.06-2.06.94zm10 10l.94 2.06.94-2.06 2.06-.94-2.06-.94-.94-2.06-.94 2.06-2.06.94z\"/><path d=\"M17.41 7.96l-1.37-1.37c-.4-.4-.92-.59-1.43-.59-.52 0-1.04.2-1.43.59L10.3 9.45l-7.72 7.72c-.78.78-.78 2.05 0 2.83L4 21.41c.39.39.9.59 1.41.59.51 0 1.02-.2 1.41-.59l7.78-7.78 2.81-2.81c.8-.78.8-2.07 0-2.86zM5.41 20L4 18.59l7.72-7.72 1.47 1.35L5.41 20z\"/>\n",
              "  </svg>\n",
              "      </button>\n",
              "      \n",
              "  <style>\n",
              "    .colab-df-container {\n",
              "      display:flex;\n",
              "      flex-wrap:wrap;\n",
              "      gap: 12px;\n",
              "    }\n",
              "\n",
              "    .colab-df-convert {\n",
              "      background-color: #E8F0FE;\n",
              "      border: none;\n",
              "      border-radius: 50%;\n",
              "      cursor: pointer;\n",
              "      display: none;\n",
              "      fill: #1967D2;\n",
              "      height: 32px;\n",
              "      padding: 0 0 0 0;\n",
              "      width: 32px;\n",
              "    }\n",
              "\n",
              "    .colab-df-convert:hover {\n",
              "      background-color: #E2EBFA;\n",
              "      box-shadow: 0px 1px 2px rgba(60, 64, 67, 0.3), 0px 1px 3px 1px rgba(60, 64, 67, 0.15);\n",
              "      fill: #174EA6;\n",
              "    }\n",
              "\n",
              "    [theme=dark] .colab-df-convert {\n",
              "      background-color: #3B4455;\n",
              "      fill: #D2E3FC;\n",
              "    }\n",
              "\n",
              "    [theme=dark] .colab-df-convert:hover {\n",
              "      background-color: #434B5C;\n",
              "      box-shadow: 0px 1px 3px 1px rgba(0, 0, 0, 0.15);\n",
              "      filter: drop-shadow(0px 1px 2px rgba(0, 0, 0, 0.3));\n",
              "      fill: #FFFFFF;\n",
              "    }\n",
              "  </style>\n",
              "\n",
              "      <script>\n",
              "        const buttonEl =\n",
              "          document.querySelector('#df-af829451-f5cb-452f-9233-529400a97815 button.colab-df-convert');\n",
              "        buttonEl.style.display =\n",
              "          google.colab.kernel.accessAllowed ? 'block' : 'none';\n",
              "\n",
              "        async function convertToInteractive(key) {\n",
              "          const element = document.querySelector('#df-af829451-f5cb-452f-9233-529400a97815');\n",
              "          const dataTable =\n",
              "            await google.colab.kernel.invokeFunction('convertToInteractive',\n",
              "                                                     [key], {});\n",
              "          if (!dataTable) return;\n",
              "\n",
              "          const docLinkHtml = 'Like what you see? Visit the ' +\n",
              "            '<a target=\"_blank\" href=https://colab.research.google.com/notebooks/data_table.ipynb>data table notebook</a>'\n",
              "            + ' to learn more about interactive tables.';\n",
              "          element.innerHTML = '';\n",
              "          dataTable['output_type'] = 'display_data';\n",
              "          await google.colab.output.renderOutput(dataTable, element);\n",
              "          const docLink = document.createElement('div');\n",
              "          docLink.innerHTML = docLinkHtml;\n",
              "          element.appendChild(docLink);\n",
              "        }\n",
              "      </script>\n",
              "    </div>\n",
              "  </div>\n",
              "  "
            ]
          },
          "metadata": {},
          "execution_count": 58
        }
      ],
      "source": [
        "df.head()"
      ]
    },
    {
      "cell_type": "code",
      "execution_count": 59,
      "metadata": {
        "id": "XI4lJAjszMo8"
      },
      "outputs": [],
      "source": [
        "dataset = CustomDataset(df, \"clean_review\")"
      ]
    },
    {
      "cell_type": "code",
      "execution_count": null,
      "metadata": {
        "colab": {
          "base_uri": "https://localhost:8080/"
        },
        "id": "WpRBM1ne0LCK",
        "outputId": "28d655d5-6f3c-4de7-f2c1-72e092e60a3e"
      },
      "outputs": [
        {
          "output_type": "execute_result",
          "data": {
            "text/plain": [
              "426"
            ]
          },
          "metadata": {},
          "execution_count": 415
        }
      ],
      "source": [
        "len(dataset.source_vocab.stoi)"
      ]
    },
    {
      "cell_type": "code",
      "execution_count": 60,
      "metadata": {
        "id": "2-XzF9gj2bto"
      },
      "outputs": [],
      "source": [
        "import pickle\n",
        "\n",
        "with open('dataset-new', 'wb') as dataset_file:\n",
        " \n",
        "  # Step 3\n",
        "    pickle.dump(dataset, dataset_file, pickle.HIGHEST_PROTOCOL)"
      ]
    },
    {
      "cell_type": "markdown",
      "source": [
        "# **Word Embeddings**"
      ],
      "metadata": {
        "id": "H-tEzLPmP8oG"
      }
    },
    {
      "cell_type": "code",
      "execution_count": 61,
      "metadata": {
        "id": "xsImIEax2i9-"
      },
      "outputs": [],
      "source": [
        "def get_emb_layer_with_weights(target_vocab, emb_model, trainable = False):\n",
        "\n",
        "    weights_matrix = np.zeros((len(target_vocab), config.EMB_DIM))\n",
        "    words_found = 0\n",
        "    \n",
        "    for i, word in enumerate(target_vocab):\n",
        "        weights_matrix[i] = np.concatenate([emb_model.wv[word]])\n",
        "        words_found += 1\n",
        "                \n",
        "    print(f\"Words found are : {words_found}\")\n",
        "    \n",
        "    weights_matrix = torch.tensor(weights_matrix, dtype = torch.float32).reshape(len(target_vocab), config.EMB_DIM)\n",
        "    emb_layer = nn.Embedding.from_pretrained(weights_matrix)\n",
        "    print(emb_layer)\n",
        "    if trainable:\n",
        "        emb_layer.weight.requires_grad = True\n",
        "    else:\n",
        "        emb_layer.weight.requires_grad = False\n",
        "\n",
        "    return emb_layer"
      ]
    },
    {
      "cell_type": "code",
      "source": [
        "class MyCollate:\n",
        "    def __init__(self, pad_idx, maxlen):\n",
        "        self.pad_idx = pad_idx\n",
        "        self.maxlen = maxlen\n",
        "        \n",
        "    \n",
        "    #__call__: a default method\n",
        "    ##   First the obj is created using MyCollate(pad_idx) in data loader\n",
        "    ##   Then if obj(batch) is called -> __call__ runs by default\n",
        "    def __call__(self, batch):\n",
        "        #get all source indexed sentences of the batch\n",
        "        source = [item[0] for item in batch] \n",
        "        #pad them using pad_sequence method from pytorch. \n",
        "#         source = pad_sequence(source, batch_first=False, padding_value = self.pad_idx)\n",
        "        \n",
        "        padded_sequence = torch.zeros((self.maxlen, len(batch)), dtype = torch.int)\n",
        "        \n",
        "        for idx, text in enumerate(source):\n",
        "            \n",
        "            if len(text) > self.maxlen:\n",
        "                padded_sequence[:, idx] = source[idx][: self.maxlen]\n",
        "            else:\n",
        "                padded_sequence[:len(source[idx]), idx] = padded_sequence[:len(source[idx]), idx] + source[idx]\n",
        "                \n",
        "        \n",
        "        #get all target indexed sentences of the batch\n",
        "        target = [item[1] for item in batch] \n",
        "        \n",
        "        target = torch.tensor(target, dtype = torch.float32).reshape(-1)\n",
        "        return padded_sequence, target"
      ],
      "metadata": {
        "id": "3eWOsMcaKmrf"
      },
      "execution_count": 62,
      "outputs": []
    },
    {
      "cell_type": "markdown",
      "source": [
        "# **Initializing the Model**"
      ],
      "metadata": {
        "id": "ZeT0nKe9PwGv"
      }
    },
    {
      "cell_type": "code",
      "source": [
        "class Model(nn.Module):\n",
        "    def __init__(self, input_dim, embedding_dim, hidden_dim, output_dim, embedding_layer):\n",
        "        super().__init__()\n",
        "#         self.embedding = nn.Embedding(input_dim, embedding_dim)\n",
        "        self.hidden_dim = hidden_dim\n",
        "        self.embedding = embedding_layer\n",
        "        self.lstm = nn.LSTM(embedding_dim, hidden_dim, bidirectional = True)\n",
        "        self.fc1 = nn.Linear(2*hidden_dim, 128)\n",
        "        self.fc2 = nn.Linear(128, output_dim)\n",
        "        self.dropout = nn.Dropout(0.3)\n",
        "        self.sigmoid = nn.Sigmoid()\n",
        "\n",
        "\n",
        "        \n",
        "    def forward(self, text):\n",
        "        \n",
        "        max_len, N = text.shape\n",
        "        hidden = torch.zeros((2, N , self.hidden_dim),\n",
        "                          dtype=torch.float)\n",
        "        memory = torch.zeros((2, N , self.hidden_dim),\n",
        "                          dtype=torch.float)\n",
        "        hidden = hidden.to(config.DEVICE)\n",
        "        memory = memory.to(config.DEVICE)\n",
        "        embedded = self.embedding(text)\n",
        "        output, hidden = self.lstm(embedded, (hidden, memory))\n",
        "#         assert torch.equal(output[-1,:,:], hidden.squeeze(0))\n",
        "        y_pred = output[-1,:,:]\n",
        "        y_pred = self.fc1(y_pred)\n",
        "        y_pred = self.fc2(y_pred)\n",
        "        y_pred = self.sigmoid(y_pred)\n",
        "                         \n",
        "        return y_pred  "
      ],
      "metadata": {
        "id": "NHTiTBlIKyzM"
      },
      "execution_count": 63,
      "outputs": []
    },
    {
      "cell_type": "markdown",
      "source": [
        "# **Training and K-fold Cross Validation**"
      ],
      "metadata": {
        "id": "tJV6VcKSPiY9"
      }
    },
    {
      "cell_type": "code",
      "source": [
        "def train_epochs(dataloader,model, loss_fn, optimizer):\n",
        "    train_correct = 0\n",
        "    train_loss = 0\n",
        "    \n",
        "    model.train()\n",
        "\n",
        "    for review, label in tqdm(dataloader):\n",
        "        \n",
        "        review, label = review.to(config.DEVICE), label.to(config.DEVICE)\n",
        "        optimizer.zero_grad()\n",
        "        output = model(review)\n",
        "        output = output.reshape(-1)\n",
        "        loss = loss_fn(output, label)\n",
        "        loss.backward()\n",
        "        optimizer.step()\n",
        "        \n",
        "        train_loss += loss.item()*review.size(1)\n",
        "        prediction = (output > 0.5).float()\n",
        "        train_correct += (prediction == label).float().sum()\n",
        "        \n",
        "    return train_loss, train_correct"
      ],
      "metadata": {
        "id": "LOQvXSe3K6zl"
      },
      "execution_count": 64,
      "outputs": []
    },
    {
      "cell_type": "code",
      "source": [
        "def val_epochs(dataloader, model, loss_fn):\n",
        "    val_correct = 0\n",
        "    val_loss = 0\n",
        "    \n",
        "    model.eval()\n",
        "#     hidden = model.init_hidden(config.BATCH_SIZE)\n",
        "\n",
        "    for review, label in dataloader:\n",
        "        \n",
        "        review, label = review.to(config.DEVICE), label.to(config.DEVICE)\n",
        "        \n",
        "        output = model(review)\n",
        "        output = output.reshape(-1)\n",
        "\n",
        "        loss = loss_fn(output, label)\n",
        "        \n",
        "        val_loss += loss.item()*review.size(1)\n",
        "        prediction = (output > 0.5).float()\n",
        "        val_correct += (prediction == label).float().sum()\n",
        "#         prediction = \n",
        "    return val_loss, val_correct\n"
      ],
      "metadata": {
        "id": "98axs10yK_9h"
      },
      "execution_count": 65,
      "outputs": []
    },
    {
      "cell_type": "code",
      "source": [
        "from sklearn.model_selection import StratifiedKFold\n",
        "from sklearn.model_selection import KFold\n",
        "from torch.utils.data import SubsetRandomSampler\n",
        "from torch.optim import Adam\n",
        "from tqdm import tqdm\n",
        "from torch.utils.data import DataLoader \n",
        "import matplotlib.pyplot as plt\n",
        "\n",
        "\n",
        "# sfk = StratifiedKFold(n_splits = config.FOLDS)\n",
        "kfold = KFold(n_splits = config.FOLDS)\n",
        "model_state_dicts = {}\n",
        " \n",
        "for fold, (train_idx, val_idx) in enumerate(kfold.split(np.arange(len(dataset)))):\n",
        "    \n",
        "    train_sampler = SubsetRandomSampler(train_idx)\n",
        "    val_sampler = SubsetRandomSampler(val_idx)\n",
        "    \n",
        "    train_loader = DataLoader(dataset, batch_size = config.BATCH_SIZE, sampler = train_sampler, collate_fn = MyCollate(0, config.MAX_LEN))\n",
        "    val_loader = DataLoader(dataset, batch_size = config.BATCH_SIZE, sampler = val_sampler, collate_fn = MyCollate(0, config.MAX_LEN))  \n",
        "    \n",
        "    VOCAB_SIZE = len(dataset.source_vocab)\n",
        "    HIDDEN_DIM = 128\n",
        "    OUTPUT_DIM = 1\n",
        "    VOCAB = list(dataset.source_vocab.stoi)\n",
        "\n",
        "    embedding_layer = get_emb_layer_with_weights(target_vocab = VOCAB, emb_model = fasttext_model, trainable = False)\n",
        "\n",
        "    model = Model(VOCAB_SIZE, config.EMB_DIM, HIDDEN_DIM, OUTPUT_DIM, embedding_layer)\n",
        "    model = model.to(config.DEVICE)\n",
        "    \n",
        "#     model\n",
        "#     model = Model(2, len(dataset.source_vocab), 128, 100, 1 ).to(config.DEVICE)\n",
        "#     hidden = model.init_hidden(config.BATCH_SIZE)\n",
        "#     model.hidden = hidden\n",
        "\n",
        "    loss_fn = nn.BCELoss()\n",
        "    optimizer = torch.optim.SGD(model.parameters(), lr = 0.1)\n",
        "    \n",
        "    train_losses = []\n",
        "    val_losses = []\n",
        "    train_accs = []\n",
        "    val_accs = []\n",
        "\n",
        "    print(f\"-----------------------------------------------------------{fold}-fold of the model-----------------------------------------------------------\")\n",
        "    for epoch in range(config.EPOCHS):\n",
        "        train_loss, train_correct = train_epochs(train_loader, model, loss_fn, optimizer)\n",
        "        val_loss, val_correct = val_epochs(val_loader, model, loss_fn)  \n",
        "        \n",
        "        train_loss = train_loss/len(train_loader.sampler)\n",
        "        val_loss = val_loss/len(val_loader.sampler)\n",
        "        train_acc = (train_correct/len(train_loader.sampler))*100\n",
        "        val_acc = (val_correct/len(val_loader.sampler))*100\n",
        "        \n",
        "        train_losses.append(train_loss)\n",
        "        val_losses.append(val_loss)\n",
        "        train_accs.append(train_acc.cpu().numpy().tolist())\n",
        "        val_accs.append(val_acc.cpu().numpy().tolist())\n",
        "        \n",
        "        print(f\"| Train Loss : {train_loss} |\", end = \" \")\n",
        "        print(f\" Val Loss : {val_loss} |\", end = \" \")\n",
        "        print(f\"Train Acc : {train_acc} |\", end = \" \")\n",
        "        print(f\"Val Acc : {val_acc} |\")\n",
        "\n",
        "        \n",
        "    # Saving the state dicts for the model\n",
        "    model_state_dicts.update({f\"LSTM-Model-for-{fold}\" : model.state_dict(),\n",
        "                             f\"Model-Optimizer-for-{fold}\" : optimizer.state_dict()})\n",
        "    "
      ],
      "metadata": {
        "colab": {
          "base_uri": "https://localhost:8080/"
        },
        "id": "keiWKBIELFWv",
        "outputId": "7203f227-b339-48ab-bc22-6097bdee0ff9"
      },
      "execution_count": 66,
      "outputs": [
        {
          "output_type": "stream",
          "name": "stdout",
          "text": [
            "Words found are : 433\n",
            "Embedding(433, 100)\n",
            "-----------------------------------------------------------0-fold of the model-----------------------------------------------------------\n"
          ]
        },
        {
          "output_type": "stream",
          "name": "stderr",
          "text": [
            "100%|██████████| 11/11 [00:00<00:00, 16.01it/s]\n"
          ]
        },
        {
          "output_type": "stream",
          "name": "stdout",
          "text": [
            "| Train Loss : 0.6947418613867327 |  Val Loss : 0.6952222748236223 | Train Acc : 50.28409194946289 | Val Acc : 48.8636360168457 |\n"
          ]
        },
        {
          "output_type": "stream",
          "name": "stderr",
          "text": [
            "100%|██████████| 11/11 [00:00<00:00, 21.89it/s]\n"
          ]
        },
        {
          "output_type": "stream",
          "name": "stdout",
          "text": [
            "| Train Loss : 0.6944420825351368 |  Val Loss : 0.6942451921376315 | Train Acc : 50.28409194946289 | Val Acc : 48.8636360168457 |\n"
          ]
        },
        {
          "output_type": "stream",
          "name": "stderr",
          "text": [
            "100%|██████████| 11/11 [00:00<00:00, 24.93it/s]\n"
          ]
        },
        {
          "output_type": "stream",
          "name": "stdout",
          "text": [
            "| Train Loss : 0.6935523043979298 |  Val Loss : 0.6937025893818248 | Train Acc : 50.28409194946289 | Val Acc : 48.8636360168457 |\n"
          ]
        },
        {
          "output_type": "stream",
          "name": "stderr",
          "text": [
            "100%|██████████| 11/11 [00:00<00:00, 23.40it/s]\n"
          ]
        },
        {
          "output_type": "stream",
          "name": "stdout",
          "text": [
            "| Train Loss : 0.693639256737449 |  Val Loss : 0.6935049457983538 | Train Acc : 50.28409194946289 | Val Acc : 48.8636360168457 |\n"
          ]
        },
        {
          "output_type": "stream",
          "name": "stderr",
          "text": [
            "100%|██████████| 11/11 [00:00<00:00, 24.44it/s]\n"
          ]
        },
        {
          "output_type": "stream",
          "name": "stdout",
          "text": [
            "| Train Loss : 0.6945897286588495 |  Val Loss : 0.6936140873215415 | Train Acc : 43.46590805053711 | Val Acc : 48.8636360168457 |\n"
          ]
        },
        {
          "output_type": "stream",
          "name": "stderr",
          "text": [
            "100%|██████████| 11/11 [00:00<00:00, 24.17it/s]\n"
          ]
        },
        {
          "output_type": "stream",
          "name": "stdout",
          "text": [
            "| Train Loss : 0.6937443072145636 |  Val Loss : 0.6934812068939209 | Train Acc : 49.147727966308594 | Val Acc : 48.8636360168457 |\n"
          ]
        },
        {
          "output_type": "stream",
          "name": "stderr",
          "text": [
            "100%|██████████| 11/11 [00:00<00:00, 23.88it/s]\n"
          ]
        },
        {
          "output_type": "stream",
          "name": "stdout",
          "text": [
            "| Train Loss : 0.6935450001196428 |  Val Loss : 0.6934854496609081 | Train Acc : 47.727272033691406 | Val Acc : 48.8636360168457 |\n"
          ]
        },
        {
          "output_type": "stream",
          "name": "stderr",
          "text": [
            "100%|██████████| 11/11 [00:00<00:00, 23.46it/s]\n"
          ]
        },
        {
          "output_type": "stream",
          "name": "stdout",
          "text": [
            "| Train Loss : 0.6944221529093656 |  Val Loss : 0.6934127645059065 | Train Acc : 46.875 | Val Acc : 48.8636360168457 |\n"
          ]
        },
        {
          "output_type": "stream",
          "name": "stderr",
          "text": [
            "100%|██████████| 11/11 [00:00<00:00, 22.37it/s]\n"
          ]
        },
        {
          "output_type": "stream",
          "name": "stdout",
          "text": [
            "| Train Loss : 0.6937776641412214 |  Val Loss : 0.6934133226221258 | Train Acc : 48.29545211791992 | Val Acc : 48.8636360168457 |\n"
          ]
        },
        {
          "output_type": "stream",
          "name": "stderr",
          "text": [
            "100%|██████████| 11/11 [00:00<00:00, 25.04it/s]\n"
          ]
        },
        {
          "output_type": "stream",
          "name": "stdout",
          "text": [
            "| Train Loss : 0.6936521801081571 |  Val Loss : 0.6932895400307395 | Train Acc : 50.28409194946289 | Val Acc : 48.8636360168457 |\n"
          ]
        },
        {
          "output_type": "stream",
          "name": "stderr",
          "text": [
            "100%|██████████| 11/11 [00:00<00:00, 22.61it/s]\n"
          ]
        },
        {
          "output_type": "stream",
          "name": "stdout",
          "text": [
            "| Train Loss : 0.6937990838831122 |  Val Loss : 0.6933217265389182 | Train Acc : 44.8863639831543 | Val Acc : 48.8636360168457 |\n"
          ]
        },
        {
          "output_type": "stream",
          "name": "stderr",
          "text": [
            "100%|██████████| 11/11 [00:00<00:00, 24.15it/s]\n"
          ]
        },
        {
          "output_type": "stream",
          "name": "stdout",
          "text": [
            "| Train Loss : 0.693470916964791 |  Val Loss : 0.6932288083163175 | Train Acc : 50.28409194946289 | Val Acc : 48.8636360168457 |\n"
          ]
        },
        {
          "output_type": "stream",
          "name": "stderr",
          "text": [
            "100%|██████████| 11/11 [00:00<00:00, 23.49it/s]\n"
          ]
        },
        {
          "output_type": "stream",
          "name": "stdout",
          "text": [
            "| Train Loss : 0.6936580213633451 |  Val Loss : 0.6931701790202748 | Train Acc : 49.147727966308594 | Val Acc : 48.8636360168457 |\n"
          ]
        },
        {
          "output_type": "stream",
          "name": "stderr",
          "text": [
            "100%|██████████| 11/11 [00:00<00:00, 24.68it/s]\n"
          ]
        },
        {
          "output_type": "stream",
          "name": "stdout",
          "text": [
            "| Train Loss : 0.6940160664645109 |  Val Loss : 0.6931843757629395 | Train Acc : 47.443180084228516 | Val Acc : 48.8636360168457 |\n"
          ]
        },
        {
          "output_type": "stream",
          "name": "stderr",
          "text": [
            "100%|██████████| 11/11 [00:00<00:00, 22.07it/s]\n"
          ]
        },
        {
          "output_type": "stream",
          "name": "stdout",
          "text": [
            "| Train Loss : 0.6940160068598661 |  Val Loss : 0.6930925412611528 | Train Acc : 46.306819915771484 | Val Acc : 48.8636360168457 |\n"
          ]
        },
        {
          "output_type": "stream",
          "name": "stderr",
          "text": [
            "100%|██████████| 11/11 [00:00<00:00, 15.62it/s]\n"
          ]
        },
        {
          "output_type": "stream",
          "name": "stdout",
          "text": [
            "| Train Loss : 0.6934887008233503 |  Val Loss : 0.6931011243300005 | Train Acc : 49.147727966308594 | Val Acc : 48.8636360168457 |\n"
          ]
        },
        {
          "output_type": "stream",
          "name": "stderr",
          "text": [
            "100%|██████████| 11/11 [00:00<00:00, 15.14it/s]\n"
          ]
        },
        {
          "output_type": "stream",
          "name": "stdout",
          "text": [
            "| Train Loss : 0.6934902342883024 |  Val Loss : 0.6930657029151917 | Train Acc : 49.147727966308594 | Val Acc : 48.8636360168457 |\n"
          ]
        },
        {
          "output_type": "stream",
          "name": "stderr",
          "text": [
            "100%|██████████| 11/11 [00:00<00:00, 15.36it/s]\n"
          ]
        },
        {
          "output_type": "stream",
          "name": "stdout",
          "text": [
            "| Train Loss : 0.6938994364304976 |  Val Loss : 0.6930633945898577 | Train Acc : 46.875 | Val Acc : 48.8636360168457 |\n"
          ]
        },
        {
          "output_type": "stream",
          "name": "stderr",
          "text": [
            "100%|██████████| 11/11 [00:00<00:00, 15.47it/s]\n"
          ]
        },
        {
          "output_type": "stream",
          "name": "stdout",
          "text": [
            "| Train Loss : 0.6935127052393827 |  Val Loss : 0.6929972605271773 | Train Acc : 49.431819915771484 | Val Acc : 59.09090805053711 |\n"
          ]
        },
        {
          "output_type": "stream",
          "name": "stderr",
          "text": [
            "100%|██████████| 11/11 [00:00<00:00, 24.22it/s]\n"
          ]
        },
        {
          "output_type": "stream",
          "name": "stdout",
          "text": [
            "| Train Loss : 0.6935571540485729 |  Val Loss : 0.6929339712316339 | Train Acc : 51.9886360168457 | Val Acc : 52.27272415161133 |\n"
          ]
        },
        {
          "output_type": "stream",
          "name": "stderr",
          "text": [
            "100%|██████████| 11/11 [00:00<00:00, 23.53it/s]\n"
          ]
        },
        {
          "output_type": "stream",
          "name": "stdout",
          "text": [
            "| Train Loss : 0.6938882145014676 |  Val Loss : 0.6930424137548967 | Train Acc : 49.147727966308594 | Val Acc : 48.8636360168457 |\n"
          ]
        },
        {
          "output_type": "stream",
          "name": "stderr",
          "text": [
            "100%|██████████| 11/11 [00:00<00:00, 23.87it/s]\n"
          ]
        },
        {
          "output_type": "stream",
          "name": "stdout",
          "text": [
            "| Train Loss : 0.6932209730148315 |  Val Loss : 0.6930042125961997 | Train Acc : 51.70454406738281 | Val Acc : 48.8636360168457 |\n"
          ]
        },
        {
          "output_type": "stream",
          "name": "stderr",
          "text": [
            "100%|██████████| 11/11 [00:00<00:00, 23.76it/s]\n"
          ]
        },
        {
          "output_type": "stream",
          "name": "stdout",
          "text": [
            "| Train Loss : 0.693782470443032 |  Val Loss : 0.6930195201526989 | Train Acc : 45.17045211791992 | Val Acc : 48.8636360168457 |\n"
          ]
        },
        {
          "output_type": "stream",
          "name": "stderr",
          "text": [
            "100%|██████████| 11/11 [00:00<00:00, 24.71it/s]\n"
          ]
        },
        {
          "output_type": "stream",
          "name": "stdout",
          "text": [
            "| Train Loss : 0.693466993895444 |  Val Loss : 0.6929104978388007 | Train Acc : 50.85227584838867 | Val Acc : 60.22727584838867 |\n"
          ]
        },
        {
          "output_type": "stream",
          "name": "stderr",
          "text": [
            "100%|██████████| 11/11 [00:00<00:00, 23.03it/s]\n"
          ]
        },
        {
          "output_type": "stream",
          "name": "stdout",
          "text": [
            "| Train Loss : 0.6936615055257623 |  Val Loss : 0.6928838979114186 | Train Acc : 51.42045593261719 | Val Acc : 57.95454406738281 |\n"
          ]
        },
        {
          "output_type": "stream",
          "name": "stderr",
          "text": [
            "100%|██████████| 11/11 [00:00<00:00, 23.76it/s]\n"
          ]
        },
        {
          "output_type": "stream",
          "name": "stdout",
          "text": [
            "| Train Loss : 0.6934478391300548 |  Val Loss : 0.6929001753980463 | Train Acc : 48.29545211791992 | Val Acc : 56.818180084228516 |\n"
          ]
        },
        {
          "output_type": "stream",
          "name": "stderr",
          "text": [
            "100%|██████████| 11/11 [00:00<00:00, 23.40it/s]\n"
          ]
        },
        {
          "output_type": "stream",
          "name": "stdout",
          "text": [
            "| Train Loss : 0.693779625675895 |  Val Loss : 0.6928966641426086 | Train Acc : 46.306819915771484 | Val Acc : 53.40909194946289 |\n"
          ]
        },
        {
          "output_type": "stream",
          "name": "stderr",
          "text": [
            "100%|██████████| 11/11 [00:00<00:00, 24.93it/s]\n"
          ]
        },
        {
          "output_type": "stream",
          "name": "stdout",
          "text": [
            "| Train Loss : 0.6938638145273383 |  Val Loss : 0.6931394230235707 | Train Acc : 48.29545211791992 | Val Acc : 48.8636360168457 |\n"
          ]
        },
        {
          "output_type": "stream",
          "name": "stderr",
          "text": [
            "100%|██████████| 11/11 [00:00<00:00, 22.32it/s]\n"
          ]
        },
        {
          "output_type": "stream",
          "name": "stdout",
          "text": [
            "| Train Loss : 0.6934014667164196 |  Val Loss : 0.6930972175164656 | Train Acc : 49.71590805053711 | Val Acc : 48.8636360168457 |\n"
          ]
        },
        {
          "output_type": "stream",
          "name": "stderr",
          "text": [
            "100%|██████████| 11/11 [00:00<00:00, 24.60it/s]\n"
          ]
        },
        {
          "output_type": "stream",
          "name": "stdout",
          "text": [
            "| Train Loss : 0.69356923753565 |  Val Loss : 0.6929255453023043 | Train Acc : 50.0 | Val Acc : 48.8636360168457 |\n",
            "Words found are : 433\n",
            "Embedding(433, 100)\n",
            "-----------------------------------------------------------1-fold of the model-----------------------------------------------------------\n"
          ]
        },
        {
          "output_type": "stream",
          "name": "stderr",
          "text": [
            "100%|██████████| 11/11 [00:00<00:00, 23.42it/s]\n"
          ]
        },
        {
          "output_type": "stream",
          "name": "stdout",
          "text": [
            "| Train Loss : 0.6931252587925304 |  Val Loss : 0.6996537392789667 | Train Acc : 51.70454406738281 | Val Acc : 43.181819915771484 |\n"
          ]
        },
        {
          "output_type": "stream",
          "name": "stderr",
          "text": [
            "100%|██████████| 11/11 [00:00<00:00, 24.85it/s]\n"
          ]
        },
        {
          "output_type": "stream",
          "name": "stdout",
          "text": [
            "| Train Loss : 0.6929358677430586 |  Val Loss : 0.6994362256743691 | Train Acc : 51.70454406738281 | Val Acc : 43.181819915771484 |\n"
          ]
        },
        {
          "output_type": "stream",
          "name": "stderr",
          "text": [
            "100%|██████████| 11/11 [00:00<00:00, 23.40it/s]\n"
          ]
        },
        {
          "output_type": "stream",
          "name": "stdout",
          "text": [
            "| Train Loss : 0.6928945508870211 |  Val Loss : 0.6989993236281655 | Train Acc : 51.70454406738281 | Val Acc : 43.181819915771484 |\n"
          ]
        },
        {
          "output_type": "stream",
          "name": "stderr",
          "text": [
            "100%|██████████| 11/11 [00:00<00:00, 23.55it/s]\n"
          ]
        },
        {
          "output_type": "stream",
          "name": "stdout",
          "text": [
            "| Train Loss : 0.693218935619701 |  Val Loss : 0.6990049752322111 | Train Acc : 51.70454406738281 | Val Acc : 43.181819915771484 |\n"
          ]
        },
        {
          "output_type": "stream",
          "name": "stderr",
          "text": [
            "100%|██████████| 11/11 [00:00<00:00, 23.23it/s]\n"
          ]
        },
        {
          "output_type": "stream",
          "name": "stdout",
          "text": [
            "| Train Loss : 0.6941540349613536 |  Val Loss : 0.6979071226986971 | Train Acc : 51.70454406738281 | Val Acc : 43.181819915771484 |\n"
          ]
        },
        {
          "output_type": "stream",
          "name": "stderr",
          "text": [
            "100%|██████████| 11/11 [00:00<00:00, 23.09it/s]\n"
          ]
        },
        {
          "output_type": "stream",
          "name": "stdout",
          "text": [
            "| Train Loss : 0.6931990601799705 |  Val Loss : 0.6980927694927562 | Train Acc : 51.70454406738281 | Val Acc : 43.181819915771484 |\n"
          ]
        },
        {
          "output_type": "stream",
          "name": "stderr",
          "text": [
            "100%|██████████| 11/11 [00:00<00:00, 23.54it/s]\n"
          ]
        },
        {
          "output_type": "stream",
          "name": "stdout",
          "text": [
            "| Train Loss : 0.6929185119542208 |  Val Loss : 0.6977543559941378 | Train Acc : 51.70454406738281 | Val Acc : 43.181819915771484 |\n"
          ]
        },
        {
          "output_type": "stream",
          "name": "stderr",
          "text": [
            "100%|██████████| 11/11 [00:00<00:00, 23.62it/s]\n"
          ]
        },
        {
          "output_type": "stream",
          "name": "stdout",
          "text": [
            "| Train Loss : 0.6929579214616255 |  Val Loss : 0.6984439058737322 | Train Acc : 51.70454406738281 | Val Acc : 43.181819915771484 |\n"
          ]
        },
        {
          "output_type": "stream",
          "name": "stderr",
          "text": [
            "100%|██████████| 11/11 [00:00<00:00, 15.79it/s]\n"
          ]
        },
        {
          "output_type": "stream",
          "name": "stdout",
          "text": [
            "| Train Loss : 0.6928022395480763 |  Val Loss : 0.6983960812742059 | Train Acc : 51.70454406738281 | Val Acc : 43.181819915771484 |\n"
          ]
        },
        {
          "output_type": "stream",
          "name": "stderr",
          "text": [
            "100%|██████████| 11/11 [00:00<00:00, 15.67it/s]\n"
          ]
        },
        {
          "output_type": "stream",
          "name": "stdout",
          "text": [
            "| Train Loss : 0.6933967579494823 |  Val Loss : 0.6971432349898599 | Train Acc : 51.70454406738281 | Val Acc : 43.181819915771484 |\n"
          ]
        },
        {
          "output_type": "stream",
          "name": "stderr",
          "text": [
            "100%|██████████| 11/11 [00:00<00:00, 15.09it/s]\n"
          ]
        },
        {
          "output_type": "stream",
          "name": "stdout",
          "text": [
            "| Train Loss : 0.6929192543029785 |  Val Loss : 0.6979984857819297 | Train Acc : 51.70454406738281 | Val Acc : 43.181819915771484 |\n"
          ]
        },
        {
          "output_type": "stream",
          "name": "stderr",
          "text": [
            "100%|██████████| 11/11 [00:00<00:00, 15.52it/s]\n"
          ]
        },
        {
          "output_type": "stream",
          "name": "stdout",
          "text": [
            "| Train Loss : 0.6933288465846669 |  Val Loss : 0.6988943002440713 | Train Acc : 51.70454406738281 | Val Acc : 43.181819915771484 |\n"
          ]
        },
        {
          "output_type": "stream",
          "name": "stderr",
          "text": [
            "100%|██████████| 11/11 [00:00<00:00, 20.92it/s]\n"
          ]
        },
        {
          "output_type": "stream",
          "name": "stdout",
          "text": [
            "| Train Loss : 0.6925807324322787 |  Val Loss : 0.6983447996052828 | Train Acc : 51.70454406738281 | Val Acc : 43.181819915771484 |\n"
          ]
        },
        {
          "output_type": "stream",
          "name": "stderr",
          "text": [
            "100%|██████████| 11/11 [00:00<00:00, 23.92it/s]\n"
          ]
        },
        {
          "output_type": "stream",
          "name": "stdout",
          "text": [
            "| Train Loss : 0.6929690404371782 |  Val Loss : 0.6984536431052468 | Train Acc : 51.70454406738281 | Val Acc : 43.181819915771484 |\n"
          ]
        },
        {
          "output_type": "stream",
          "name": "stderr",
          "text": [
            "100%|██████████| 11/11 [00:00<00:00, 24.87it/s]\n"
          ]
        },
        {
          "output_type": "stream",
          "name": "stdout",
          "text": [
            "| Train Loss : 0.6928893056782809 |  Val Loss : 0.6984066258777272 | Train Acc : 51.70454406738281 | Val Acc : 43.181819915771484 |\n"
          ]
        },
        {
          "output_type": "stream",
          "name": "stderr",
          "text": [
            "100%|██████████| 11/11 [00:00<00:00, 20.23it/s]\n"
          ]
        },
        {
          "output_type": "stream",
          "name": "stdout",
          "text": [
            "| Train Loss : 0.6929691704836759 |  Val Loss : 0.6986443508755077 | Train Acc : 51.70454406738281 | Val Acc : 43.181819915771484 |\n"
          ]
        },
        {
          "output_type": "stream",
          "name": "stderr",
          "text": [
            "100%|██████████| 11/11 [00:00<00:00, 23.71it/s]\n"
          ]
        },
        {
          "output_type": "stream",
          "name": "stdout",
          "text": [
            "| Train Loss : 0.6931958632035689 |  Val Loss : 0.6993511644276705 | Train Acc : 51.70454406738281 | Val Acc : 43.181819915771484 |\n"
          ]
        },
        {
          "output_type": "stream",
          "name": "stderr",
          "text": [
            "100%|██████████| 11/11 [00:00<00:00, 23.91it/s]\n"
          ]
        },
        {
          "output_type": "stream",
          "name": "stdout",
          "text": [
            "| Train Loss : 0.6930235624313354 |  Val Loss : 0.699583958495747 | Train Acc : 51.70454406738281 | Val Acc : 43.181819915771484 |\n"
          ]
        },
        {
          "output_type": "stream",
          "name": "stderr",
          "text": [
            "100%|██████████| 11/11 [00:00<00:00, 23.88it/s]\n"
          ]
        },
        {
          "output_type": "stream",
          "name": "stdout",
          "text": [
            "| Train Loss : 0.6931147412820295 |  Val Loss : 0.6996583342552185 | Train Acc : 51.70454406738281 | Val Acc : 43.181819915771484 |\n"
          ]
        },
        {
          "output_type": "stream",
          "name": "stderr",
          "text": [
            "100%|██████████| 11/11 [00:00<00:00, 22.79it/s]\n"
          ]
        },
        {
          "output_type": "stream",
          "name": "stdout",
          "text": [
            "| Train Loss : 0.6928456967527216 |  Val Loss : 0.699804506518624 | Train Acc : 51.70454406738281 | Val Acc : 43.181819915771484 |\n"
          ]
        },
        {
          "output_type": "stream",
          "name": "stderr",
          "text": [
            "100%|██████████| 11/11 [00:00<00:00, 24.53it/s]\n"
          ]
        },
        {
          "output_type": "stream",
          "name": "stdout",
          "text": [
            "| Train Loss : 0.6929480325091969 |  Val Loss : 0.6993436379866167 | Train Acc : 51.70454406738281 | Val Acc : 43.181819915771484 |\n"
          ]
        },
        {
          "output_type": "stream",
          "name": "stderr",
          "text": [
            "100%|██████████| 11/11 [00:00<00:00, 24.21it/s]\n"
          ]
        },
        {
          "output_type": "stream",
          "name": "stdout",
          "text": [
            "| Train Loss : 0.6931354999542236 |  Val Loss : 0.6982437968254089 | Train Acc : 51.70454406738281 | Val Acc : 43.181819915771484 |\n"
          ]
        },
        {
          "output_type": "stream",
          "name": "stderr",
          "text": [
            "100%|██████████| 11/11 [00:00<00:00, 24.17it/s]\n"
          ]
        },
        {
          "output_type": "stream",
          "name": "stdout",
          "text": [
            "| Train Loss : 0.6929162415591154 |  Val Loss : 0.6983215971426531 | Train Acc : 51.70454406738281 | Val Acc : 43.181819915771484 |\n"
          ]
        },
        {
          "output_type": "stream",
          "name": "stderr",
          "text": [
            "100%|██████████| 11/11 [00:00<00:00, 22.71it/s]\n"
          ]
        },
        {
          "output_type": "stream",
          "name": "stdout",
          "text": [
            "| Train Loss : 0.6925851919434287 |  Val Loss : 0.6980684833093123 | Train Acc : 51.70454406738281 | Val Acc : 43.181819915771484 |\n"
          ]
        },
        {
          "output_type": "stream",
          "name": "stderr",
          "text": [
            "100%|██████████| 11/11 [00:00<00:00, 22.64it/s]\n"
          ]
        },
        {
          "output_type": "stream",
          "name": "stdout",
          "text": [
            "| Train Loss : 0.6930743672631003 |  Val Loss : 0.6979523951357062 | Train Acc : 51.70454406738281 | Val Acc : 43.181819915771484 |\n"
          ]
        },
        {
          "output_type": "stream",
          "name": "stderr",
          "text": [
            "100%|██████████| 11/11 [00:00<00:00, 24.27it/s]\n"
          ]
        },
        {
          "output_type": "stream",
          "name": "stdout",
          "text": [
            "| Train Loss : 0.6925762837583368 |  Val Loss : 0.6980232108723033 | Train Acc : 51.70454406738281 | Val Acc : 43.181819915771484 |\n"
          ]
        },
        {
          "output_type": "stream",
          "name": "stderr",
          "text": [
            "100%|██████████| 11/11 [00:00<00:00, 22.71it/s]\n"
          ]
        },
        {
          "output_type": "stream",
          "name": "stdout",
          "text": [
            "| Train Loss : 0.6929235837676309 |  Val Loss : 0.6985792029987682 | Train Acc : 51.70454406738281 | Val Acc : 43.181819915771484 |\n"
          ]
        },
        {
          "output_type": "stream",
          "name": "stderr",
          "text": [
            "100%|██████████| 11/11 [00:00<00:00, 23.52it/s]\n"
          ]
        },
        {
          "output_type": "stream",
          "name": "stdout",
          "text": [
            "| Train Loss : 0.6928100477565419 |  Val Loss : 0.6971350095488809 | Train Acc : 51.70454406738281 | Val Acc : 43.181819915771484 |\n"
          ]
        },
        {
          "output_type": "stream",
          "name": "stderr",
          "text": [
            "100%|██████████| 11/11 [00:00<00:00, 23.78it/s]\n"
          ]
        },
        {
          "output_type": "stream",
          "name": "stdout",
          "text": [
            "| Train Loss : 0.6926139430566267 |  Val Loss : 0.6965363404967568 | Train Acc : 51.70454406738281 | Val Acc : 43.181819915771484 |\n"
          ]
        },
        {
          "output_type": "stream",
          "name": "stderr",
          "text": [
            "100%|██████████| 11/11 [00:00<00:00, 25.44it/s]\n"
          ]
        },
        {
          "output_type": "stream",
          "name": "stdout",
          "text": [
            "| Train Loss : 0.6930206418037415 |  Val Loss : 0.6980103200132196 | Train Acc : 51.42045593261719 | Val Acc : 43.181819915771484 |\n",
            "Words found are : 433\n",
            "Embedding(433, 100)\n",
            "-----------------------------------------------------------2-fold of the model-----------------------------------------------------------\n"
          ]
        },
        {
          "output_type": "stream",
          "name": "stderr",
          "text": [
            "100%|██████████| 11/11 [00:00<00:00, 23.17it/s]\n"
          ]
        },
        {
          "output_type": "stream",
          "name": "stdout",
          "text": [
            "| Train Loss : 0.6946618936278603 |  Val Loss : 0.6936017870903015 | Train Acc : 50.0 | Val Acc : 50.0 |\n"
          ]
        },
        {
          "output_type": "stream",
          "name": "stderr",
          "text": [
            "100%|██████████| 11/11 [00:00<00:00, 15.50it/s]\n"
          ]
        },
        {
          "output_type": "stream",
          "name": "stdout",
          "text": [
            "| Train Loss : 0.69388409094377 |  Val Loss : 0.6934041489254344 | Train Acc : 50.0 | Val Acc : 50.0 |\n"
          ]
        },
        {
          "output_type": "stream",
          "name": "stderr",
          "text": [
            "100%|██████████| 11/11 [00:00<00:00, 15.46it/s]\n"
          ]
        },
        {
          "output_type": "stream",
          "name": "stdout",
          "text": [
            "| Train Loss : 0.6942271969535134 |  Val Loss : 0.693279504776001 | Train Acc : 50.0 | Val Acc : 50.0 |\n"
          ]
        },
        {
          "output_type": "stream",
          "name": "stderr",
          "text": [
            "100%|██████████| 11/11 [00:00<00:00, 15.01it/s]\n"
          ]
        },
        {
          "output_type": "stream",
          "name": "stdout",
          "text": [
            "| Train Loss : 0.6938085122541948 |  Val Loss : 0.6932000626217235 | Train Acc : 50.0 | Val Acc : 50.0 |\n"
          ]
        },
        {
          "output_type": "stream",
          "name": "stderr",
          "text": [
            "100%|██████████| 11/11 [00:00<00:00, 14.86it/s]\n"
          ]
        },
        {
          "output_type": "stream",
          "name": "stdout",
          "text": [
            "| Train Loss : 0.6935768831859935 |  Val Loss : 0.6931749419732527 | Train Acc : 48.57954788208008 | Val Acc : 50.0 |\n"
          ]
        },
        {
          "output_type": "stream",
          "name": "stderr",
          "text": [
            "100%|██████████| 11/11 [00:00<00:00, 20.35it/s]\n"
          ]
        },
        {
          "output_type": "stream",
          "name": "stdout",
          "text": [
            "| Train Loss : 0.6936848597093062 |  Val Loss : 0.6931533217430115 | Train Acc : 48.29545211791992 | Val Acc : 50.0 |\n"
          ]
        },
        {
          "output_type": "stream",
          "name": "stderr",
          "text": [
            "100%|██████████| 11/11 [00:00<00:00, 22.57it/s]\n"
          ]
        },
        {
          "output_type": "stream",
          "name": "stdout",
          "text": [
            "| Train Loss : 0.6935472217473116 |  Val Loss : 0.6931413899768483 | Train Acc : 48.8636360168457 | Val Acc : 47.727272033691406 |\n"
          ]
        },
        {
          "output_type": "stream",
          "name": "stderr",
          "text": [
            "100%|██████████| 11/11 [00:00<00:00, 23.48it/s]\n"
          ]
        },
        {
          "output_type": "stream",
          "name": "stdout",
          "text": [
            "| Train Loss : 0.6934117783199657 |  Val Loss : 0.6931327310475436 | Train Acc : 48.0113639831543 | Val Acc : 50.0 |\n"
          ]
        },
        {
          "output_type": "stream",
          "name": "stderr",
          "text": [
            "100%|██████████| 11/11 [00:00<00:00, 24.35it/s]\n"
          ]
        },
        {
          "output_type": "stream",
          "name": "stdout",
          "text": [
            "| Train Loss : 0.6936371326446533 |  Val Loss : 0.6931217583743009 | Train Acc : 48.8636360168457 | Val Acc : 50.0 |\n"
          ]
        },
        {
          "output_type": "stream",
          "name": "stderr",
          "text": [
            "100%|██████████| 11/11 [00:00<00:00, 23.73it/s]\n"
          ]
        },
        {
          "output_type": "stream",
          "name": "stdout",
          "text": [
            "| Train Loss : 0.6936349055983804 |  Val Loss : 0.6931082335385409 | Train Acc : 47.443180084228516 | Val Acc : 50.0 |\n"
          ]
        },
        {
          "output_type": "stream",
          "name": "stderr",
          "text": [
            "100%|██████████| 11/11 [00:00<00:00, 23.95it/s]\n"
          ]
        },
        {
          "output_type": "stream",
          "name": "stdout",
          "text": [
            "| Train Loss : 0.6934445012699474 |  Val Loss : 0.6930976726792075 | Train Acc : 50.0 | Val Acc : 50.0 |\n"
          ]
        },
        {
          "output_type": "stream",
          "name": "stderr",
          "text": [
            "100%|██████████| 11/11 [00:00<00:00, 22.60it/s]\n"
          ]
        },
        {
          "output_type": "stream",
          "name": "stdout",
          "text": [
            "| Train Loss : 0.6942896246910095 |  Val Loss : 0.6930869926105846 | Train Acc : 47.15909194946289 | Val Acc : 54.54545593261719 |\n"
          ]
        },
        {
          "output_type": "stream",
          "name": "stderr",
          "text": [
            "100%|██████████| 11/11 [00:00<00:00, 24.40it/s]\n"
          ]
        },
        {
          "output_type": "stream",
          "name": "stdout",
          "text": [
            "| Train Loss : 0.6934874274513938 |  Val Loss : 0.6930770169604908 | Train Acc : 46.59090805053711 | Val Acc : 50.0 |\n"
          ]
        },
        {
          "output_type": "stream",
          "name": "stderr",
          "text": [
            "100%|██████████| 11/11 [00:00<00:00, 23.74it/s]\n"
          ]
        },
        {
          "output_type": "stream",
          "name": "stdout",
          "text": [
            "| Train Loss : 0.6935073841701854 |  Val Loss : 0.6930749037049033 | Train Acc : 49.71590805053711 | Val Acc : 50.0 |\n"
          ]
        },
        {
          "output_type": "stream",
          "name": "stderr",
          "text": [
            "100%|██████████| 11/11 [00:00<00:00, 24.07it/s]\n"
          ]
        },
        {
          "output_type": "stream",
          "name": "stdout",
          "text": [
            "| Train Loss : 0.6934551975943826 |  Val Loss : 0.6930547031489286 | Train Acc : 50.0 | Val Acc : 48.8636360168457 |\n"
          ]
        },
        {
          "output_type": "stream",
          "name": "stderr",
          "text": [
            "100%|██████████| 11/11 [00:00<00:00, 24.10it/s]\n"
          ]
        },
        {
          "output_type": "stream",
          "name": "stdout",
          "text": [
            "| Train Loss : 0.6939250935207714 |  Val Loss : 0.6930442235686562 | Train Acc : 46.59090805053711 | Val Acc : 50.0 |\n"
          ]
        },
        {
          "output_type": "stream",
          "name": "stderr",
          "text": [
            "100%|██████████| 11/11 [00:00<00:00, 24.33it/s]\n"
          ]
        },
        {
          "output_type": "stream",
          "name": "stdout",
          "text": [
            "| Train Loss : 0.6935446262359619 |  Val Loss : 0.6930334838953885 | Train Acc : 48.8636360168457 | Val Acc : 53.40909194946289 |\n"
          ]
        },
        {
          "output_type": "stream",
          "name": "stderr",
          "text": [
            "100%|██████████| 11/11 [00:00<00:00, 23.85it/s]\n"
          ]
        },
        {
          "output_type": "stream",
          "name": "stdout",
          "text": [
            "| Train Loss : 0.6938504143194719 |  Val Loss : 0.6930253559892828 | Train Acc : 48.29545211791992 | Val Acc : 53.40909194946289 |\n"
          ]
        },
        {
          "output_type": "stream",
          "name": "stderr",
          "text": [
            "100%|██████████| 11/11 [00:00<00:00, 21.07it/s]\n"
          ]
        },
        {
          "output_type": "stream",
          "name": "stdout",
          "text": [
            "| Train Loss : 0.6935357451438904 |  Val Loss : 0.6930135813626376 | Train Acc : 49.71590805053711 | Val Acc : 54.54545593261719 |\n"
          ]
        },
        {
          "output_type": "stream",
          "name": "stderr",
          "text": [
            "100%|██████████| 11/11 [00:00<00:00, 21.99it/s]\n"
          ]
        },
        {
          "output_type": "stream",
          "name": "stdout",
          "text": [
            "| Train Loss : 0.6934780532663519 |  Val Loss : 0.6930152557112954 | Train Acc : 49.147727966308594 | Val Acc : 51.1363639831543 |\n"
          ]
        },
        {
          "output_type": "stream",
          "name": "stderr",
          "text": [
            "100%|██████████| 11/11 [00:00<00:00, 21.98it/s]\n"
          ]
        },
        {
          "output_type": "stream",
          "name": "stdout",
          "text": [
            "| Train Loss : 0.6936416842720725 |  Val Loss : 0.6930408911271528 | Train Acc : 50.0 | Val Acc : 50.0 |\n"
          ]
        },
        {
          "output_type": "stream",
          "name": "stderr",
          "text": [
            "100%|██████████| 11/11 [00:00<00:00, 23.71it/s]\n"
          ]
        },
        {
          "output_type": "stream",
          "name": "stdout",
          "text": [
            "| Train Loss : 0.6932600140571594 |  Val Loss : 0.692996929992329 | Train Acc : 50.85227584838867 | Val Acc : 51.1363639831543 |\n"
          ]
        },
        {
          "output_type": "stream",
          "name": "stderr",
          "text": [
            "100%|██████████| 11/11 [00:00<00:00, 24.15it/s]\n"
          ]
        },
        {
          "output_type": "stream",
          "name": "stdout",
          "text": [
            "| Train Loss : 0.6932278167117726 |  Val Loss : 0.6929768432270397 | Train Acc : 49.431819915771484 | Val Acc : 50.0 |\n"
          ]
        },
        {
          "output_type": "stream",
          "name": "stderr",
          "text": [
            "100%|██████████| 11/11 [00:00<00:00, 21.56it/s]\n"
          ]
        },
        {
          "output_type": "stream",
          "name": "stdout",
          "text": [
            "| Train Loss : 0.6934328837828203 |  Val Loss : 0.6929627982052889 | Train Acc : 49.431819915771484 | Val Acc : 53.40909194946289 |\n"
          ]
        },
        {
          "output_type": "stream",
          "name": "stderr",
          "text": [
            "100%|██████████| 11/11 [00:00<00:00, 15.52it/s]\n"
          ]
        },
        {
          "output_type": "stream",
          "name": "stdout",
          "text": [
            "| Train Loss : 0.6934505267576738 |  Val Loss : 0.6929547732526605 | Train Acc : 46.875 | Val Acc : 47.727272033691406 |\n"
          ]
        },
        {
          "output_type": "stream",
          "name": "stderr",
          "text": [
            "100%|██████████| 11/11 [00:00<00:00, 16.14it/s]\n"
          ]
        },
        {
          "output_type": "stream",
          "name": "stdout",
          "text": [
            "| Train Loss : 0.6938331127166748 |  Val Loss : 0.692947653206912 | Train Acc : 48.8636360168457 | Val Acc : 48.8636360168457 |\n"
          ]
        },
        {
          "output_type": "stream",
          "name": "stderr",
          "text": [
            "100%|██████████| 11/11 [00:00<00:00, 16.02it/s]\n"
          ]
        },
        {
          "output_type": "stream",
          "name": "stdout",
          "text": [
            "| Train Loss : 0.6931861693208868 |  Val Loss : 0.6929344209757718 | Train Acc : 48.0113639831543 | Val Acc : 53.40909194946289 |\n"
          ]
        },
        {
          "output_type": "stream",
          "name": "stderr",
          "text": [
            "100%|██████████| 11/11 [00:00<00:00, 15.10it/s]\n"
          ]
        },
        {
          "output_type": "stream",
          "name": "stdout",
          "text": [
            "| Train Loss : 0.6933704560453241 |  Val Loss : 0.6929237571629611 | Train Acc : 51.9886360168457 | Val Acc : 53.40909194946289 |\n"
          ]
        },
        {
          "output_type": "stream",
          "name": "stderr",
          "text": [
            "100%|██████████| 11/11 [00:00<00:00, 20.05it/s]\n"
          ]
        },
        {
          "output_type": "stream",
          "name": "stdout",
          "text": [
            "| Train Loss : 0.6935613101178949 |  Val Loss : 0.6929253285581415 | Train Acc : 49.147727966308594 | Val Acc : 53.40909194946289 |\n"
          ]
        },
        {
          "output_type": "stream",
          "name": "stderr",
          "text": [
            "100%|██████████| 11/11 [00:00<00:00, 24.10it/s]\n"
          ]
        },
        {
          "output_type": "stream",
          "name": "stdout",
          "text": [
            "| Train Loss : 0.6933116858655756 |  Val Loss : 0.6929054314439947 | Train Acc : 50.568180084228516 | Val Acc : 54.54545593261719 |\n",
            "Words found are : 433\n",
            "Embedding(433, 100)\n",
            "-----------------------------------------------------------3-fold of the model-----------------------------------------------------------\n"
          ]
        },
        {
          "output_type": "stream",
          "name": "stderr",
          "text": [
            "100%|██████████| 11/11 [00:00<00:00, 24.41it/s]\n"
          ]
        },
        {
          "output_type": "stream",
          "name": "stdout",
          "text": [
            "| Train Loss : 0.6940819946202365 |  Val Loss : 0.692036590792916 | Train Acc : 46.306819915771484 | Val Acc : 56.818180084228516 |\n"
          ]
        },
        {
          "output_type": "stream",
          "name": "stderr",
          "text": [
            "100%|██████████| 11/11 [00:00<00:00, 22.77it/s]\n"
          ]
        },
        {
          "output_type": "stream",
          "name": "stdout",
          "text": [
            "| Train Loss : 0.6933649344877764 |  Val Loss : 0.6938118934631348 | Train Acc : 50.28409194946289 | Val Acc : 43.181819915771484 |\n"
          ]
        },
        {
          "output_type": "stream",
          "name": "stderr",
          "text": [
            "100%|██████████| 11/11 [00:00<00:00, 24.15it/s]\n"
          ]
        },
        {
          "output_type": "stream",
          "name": "stdout",
          "text": [
            "| Train Loss : 0.6937053799629211 |  Val Loss : 0.69447861476378 | Train Acc : 51.70454406738281 | Val Acc : 43.181819915771484 |\n"
          ]
        },
        {
          "output_type": "stream",
          "name": "stderr",
          "text": [
            "100%|██████████| 11/11 [00:00<00:00, 24.00it/s]\n"
          ]
        },
        {
          "output_type": "stream",
          "name": "stdout",
          "text": [
            "| Train Loss : 0.6932752674276178 |  Val Loss : 0.6960545615716414 | Train Acc : 51.70454406738281 | Val Acc : 43.181819915771484 |\n"
          ]
        },
        {
          "output_type": "stream",
          "name": "stderr",
          "text": [
            "100%|██████████| 11/11 [00:00<00:00, 23.24it/s]\n"
          ]
        },
        {
          "output_type": "stream",
          "name": "stdout",
          "text": [
            "| Train Loss : 0.6930815848437223 |  Val Loss : 0.6963031671263955 | Train Acc : 51.70454406738281 | Val Acc : 43.181819915771484 |\n"
          ]
        },
        {
          "output_type": "stream",
          "name": "stderr",
          "text": [
            "100%|██████████| 11/11 [00:00<00:00, 23.47it/s]\n"
          ]
        },
        {
          "output_type": "stream",
          "name": "stdout",
          "text": [
            "| Train Loss : 0.6927211609753695 |  Val Loss : 0.6969735622406006 | Train Acc : 51.70454406738281 | Val Acc : 43.181819915771484 |\n"
          ]
        },
        {
          "output_type": "stream",
          "name": "stderr",
          "text": [
            "100%|██████████| 11/11 [00:00<00:00, 24.45it/s]\n"
          ]
        },
        {
          "output_type": "stream",
          "name": "stdout",
          "text": [
            "| Train Loss : 0.693148363720287 |  Val Loss : 0.6969052607362921 | Train Acc : 51.70454406738281 | Val Acc : 43.181819915771484 |\n"
          ]
        },
        {
          "output_type": "stream",
          "name": "stderr",
          "text": [
            "100%|██████████| 11/11 [00:00<00:00, 24.43it/s]\n"
          ]
        },
        {
          "output_type": "stream",
          "name": "stdout",
          "text": [
            "| Train Loss : 0.6932234330610796 |  Val Loss : 0.6967984167012301 | Train Acc : 51.70454406738281 | Val Acc : 43.181819915771484 |\n"
          ]
        },
        {
          "output_type": "stream",
          "name": "stderr",
          "text": [
            "100%|██████████| 11/11 [00:00<00:00, 22.81it/s]\n"
          ]
        },
        {
          "output_type": "stream",
          "name": "stdout",
          "text": [
            "| Train Loss : 0.69313368472186 |  Val Loss : 0.6977502649480646 | Train Acc : 51.70454406738281 | Val Acc : 43.181819915771484 |\n"
          ]
        },
        {
          "output_type": "stream",
          "name": "stderr",
          "text": [
            "100%|██████████| 11/11 [00:00<00:00, 23.18it/s]\n"
          ]
        },
        {
          "output_type": "stream",
          "name": "stdout",
          "text": [
            "| Train Loss : 0.6927729411558672 |  Val Loss : 0.6978084607557817 | Train Acc : 51.70454406738281 | Val Acc : 43.181819915771484 |\n"
          ]
        },
        {
          "output_type": "stream",
          "name": "stderr",
          "text": [
            "100%|██████████| 11/11 [00:00<00:00, 24.22it/s]\n"
          ]
        },
        {
          "output_type": "stream",
          "name": "stdout",
          "text": [
            "| Train Loss : 0.6932142972946167 |  Val Loss : 0.6975519223646685 | Train Acc : 51.70454406738281 | Val Acc : 43.181819915771484 |\n"
          ]
        },
        {
          "output_type": "stream",
          "name": "stderr",
          "text": [
            "100%|██████████| 11/11 [00:00<00:00, 23.63it/s]\n"
          ]
        },
        {
          "output_type": "stream",
          "name": "stdout",
          "text": [
            "| Train Loss : 0.6929899074814536 |  Val Loss : 0.697406297380274 | Train Acc : 51.70454406738281 | Val Acc : 43.181819915771484 |\n"
          ]
        },
        {
          "output_type": "stream",
          "name": "stderr",
          "text": [
            "100%|██████████| 11/11 [00:00<00:00, 22.79it/s]\n"
          ]
        },
        {
          "output_type": "stream",
          "name": "stdout",
          "text": [
            "| Train Loss : 0.6925886219198053 |  Val Loss : 0.6974803913723339 | Train Acc : 51.70454406738281 | Val Acc : 43.181819915771484 |\n"
          ]
        },
        {
          "output_type": "stream",
          "name": "stderr",
          "text": [
            "100%|██████████| 11/11 [00:00<00:00, 22.70it/s]\n"
          ]
        },
        {
          "output_type": "stream",
          "name": "stdout",
          "text": [
            "| Train Loss : 0.6931966163895347 |  Val Loss : 0.6976450410756198 | Train Acc : 51.70454406738281 | Val Acc : 43.181819915771484 |\n"
          ]
        },
        {
          "output_type": "stream",
          "name": "stderr",
          "text": [
            "100%|██████████| 11/11 [00:00<00:00, 22.64it/s]\n"
          ]
        },
        {
          "output_type": "stream",
          "name": "stdout",
          "text": [
            "| Train Loss : 0.6929192868146029 |  Val Loss : 0.6977785446427085 | Train Acc : 51.70454406738281 | Val Acc : 43.181819915771484 |\n"
          ]
        },
        {
          "output_type": "stream",
          "name": "stderr",
          "text": [
            "100%|██████████| 11/11 [00:00<00:00, 23.23it/s]\n"
          ]
        },
        {
          "output_type": "stream",
          "name": "stdout",
          "text": [
            "| Train Loss : 0.693249214779247 |  Val Loss : 0.6980120973153547 | Train Acc : 51.70454406738281 | Val Acc : 43.181819915771484 |\n"
          ]
        },
        {
          "output_type": "stream",
          "name": "stderr",
          "text": [
            "100%|██████████| 11/11 [00:00<00:00, 21.11it/s]\n"
          ]
        },
        {
          "output_type": "stream",
          "name": "stdout",
          "text": [
            "| Train Loss : 0.6931916746226224 |  Val Loss : 0.698727623982863 | Train Acc : 51.1363639831543 | Val Acc : 43.181819915771484 |\n"
          ]
        },
        {
          "output_type": "stream",
          "name": "stderr",
          "text": [
            "100%|██████████| 11/11 [00:00<00:00, 15.12it/s]\n"
          ]
        },
        {
          "output_type": "stream",
          "name": "stdout",
          "text": [
            "| Train Loss : 0.6932788978923451 |  Val Loss : 0.6983015699820085 | Train Acc : 51.70454406738281 | Val Acc : 43.181819915771484 |\n"
          ]
        },
        {
          "output_type": "stream",
          "name": "stderr",
          "text": [
            "100%|██████████| 11/11 [00:00<00:00, 14.30it/s]\n"
          ]
        },
        {
          "output_type": "stream",
          "name": "stdout",
          "text": [
            "| Train Loss : 0.6929435188120062 |  Val Loss : 0.6982908953319896 | Train Acc : 51.70454406738281 | Val Acc : 43.181819915771484 |\n"
          ]
        },
        {
          "output_type": "stream",
          "name": "stderr",
          "text": [
            "100%|██████████| 11/11 [00:00<00:00, 14.11it/s]\n"
          ]
        },
        {
          "output_type": "stream",
          "name": "stdout",
          "text": [
            "| Train Loss : 0.6929521452296864 |  Val Loss : 0.6984801942651923 | Train Acc : 51.70454406738281 | Val Acc : 43.181819915771484 |\n"
          ]
        },
        {
          "output_type": "stream",
          "name": "stderr",
          "text": [
            "100%|██████████| 11/11 [00:00<00:00, 14.14it/s]\n"
          ]
        },
        {
          "output_type": "stream",
          "name": "stdout",
          "text": [
            "| Train Loss : 0.6929158622568304 |  Val Loss : 0.6977726979689165 | Train Acc : 51.70454406738281 | Val Acc : 43.181819915771484 |\n"
          ]
        },
        {
          "output_type": "stream",
          "name": "stderr",
          "text": [
            "100%|██████████| 11/11 [00:00<00:00, 23.11it/s]\n"
          ]
        },
        {
          "output_type": "stream",
          "name": "stdout",
          "text": [
            "| Train Loss : 0.6928360462188721 |  Val Loss : 0.6983921961350874 | Train Acc : 51.70454406738281 | Val Acc : 43.181819915771484 |\n"
          ]
        },
        {
          "output_type": "stream",
          "name": "stderr",
          "text": [
            "100%|██████████| 11/11 [00:00<00:00, 22.92it/s]\n"
          ]
        },
        {
          "output_type": "stream",
          "name": "stdout",
          "text": [
            "| Train Loss : 0.6930335814302618 |  Val Loss : 0.6987062421712008 | Train Acc : 51.70454406738281 | Val Acc : 43.181819915771484 |\n"
          ]
        },
        {
          "output_type": "stream",
          "name": "stderr",
          "text": [
            "100%|██████████| 11/11 [00:00<00:00, 24.11it/s]\n"
          ]
        },
        {
          "output_type": "stream",
          "name": "stdout",
          "text": [
            "| Train Loss : 0.6932203878055919 |  Val Loss : 0.697687642140822 | Train Acc : 51.70454406738281 | Val Acc : 43.181819915771484 |\n"
          ]
        },
        {
          "output_type": "stream",
          "name": "stderr",
          "text": [
            "100%|██████████| 11/11 [00:00<00:00, 21.86it/s]\n"
          ]
        },
        {
          "output_type": "stream",
          "name": "stdout",
          "text": [
            "| Train Loss : 0.6927810690619729 |  Val Loss : 0.697644212029197 | Train Acc : 51.70454406738281 | Val Acc : 43.181819915771484 |\n"
          ]
        },
        {
          "output_type": "stream",
          "name": "stderr",
          "text": [
            "100%|██████████| 11/11 [00:00<00:00, 22.61it/s]\n"
          ]
        },
        {
          "output_type": "stream",
          "name": "stdout",
          "text": [
            "| Train Loss : 0.6931285207921808 |  Val Loss : 0.6972602334889498 | Train Acc : 51.70454406738281 | Val Acc : 43.181819915771484 |\n"
          ]
        },
        {
          "output_type": "stream",
          "name": "stderr",
          "text": [
            "100%|██████████| 11/11 [00:00<00:00, 22.40it/s]\n"
          ]
        },
        {
          "output_type": "stream",
          "name": "stdout",
          "text": [
            "| Train Loss : 0.6929760466922413 |  Val Loss : 0.6977573037147522 | Train Acc : 51.70454406738281 | Val Acc : 43.181819915771484 |\n"
          ]
        },
        {
          "output_type": "stream",
          "name": "stderr",
          "text": [
            "100%|██████████| 11/11 [00:00<00:00, 23.07it/s]\n"
          ]
        },
        {
          "output_type": "stream",
          "name": "stdout",
          "text": [
            "| Train Loss : 0.6927251815795898 |  Val Loss : 0.6980386159636758 | Train Acc : 51.70454406738281 | Val Acc : 43.181819915771484 |\n"
          ]
        },
        {
          "output_type": "stream",
          "name": "stderr",
          "text": [
            "100%|██████████| 11/11 [00:00<00:00, 22.46it/s]\n"
          ]
        },
        {
          "output_type": "stream",
          "name": "stdout",
          "text": [
            "| Train Loss : 0.6928702755407854 |  Val Loss : 0.6976427598433061 | Train Acc : 51.70454406738281 | Val Acc : 43.181819915771484 |\n"
          ]
        },
        {
          "output_type": "stream",
          "name": "stderr",
          "text": [
            "100%|██████████| 11/11 [00:00<00:00, 22.92it/s]\n"
          ]
        },
        {
          "output_type": "stream",
          "name": "stdout",
          "text": [
            "| Train Loss : 0.6928502050313082 |  Val Loss : 0.6977548761801287 | Train Acc : 51.70454406738281 | Val Acc : 43.181819915771484 |\n",
            "Words found are : 433\n",
            "Embedding(433, 100)\n",
            "-----------------------------------------------------------4-fold of the model-----------------------------------------------------------\n"
          ]
        },
        {
          "output_type": "stream",
          "name": "stderr",
          "text": [
            "100%|██████████| 11/11 [00:00<00:00, 23.82it/s]\n"
          ]
        },
        {
          "output_type": "stream",
          "name": "stdout",
          "text": [
            "| Train Loss : 0.6936794519424438 |  Val Loss : 0.6929031664674933 | Train Acc : 49.71590805053711 | Val Acc : 51.1363639831543 |\n"
          ]
        },
        {
          "output_type": "stream",
          "name": "stderr",
          "text": [
            "100%|██████████| 11/11 [00:00<00:00, 24.10it/s]\n"
          ]
        },
        {
          "output_type": "stream",
          "name": "stdout",
          "text": [
            "| Train Loss : 0.693741115656766 |  Val Loss : 0.6931115280498158 | Train Acc : 49.71590805053711 | Val Acc : 50.0 |\n"
          ]
        },
        {
          "output_type": "stream",
          "name": "stderr",
          "text": [
            "100%|██████████| 11/11 [00:00<00:00, 22.09it/s]\n"
          ]
        },
        {
          "output_type": "stream",
          "name": "stdout",
          "text": [
            "| Train Loss : 0.6940405422990973 |  Val Loss : 0.6931493878364563 | Train Acc : 48.57954788208008 | Val Acc : 50.0 |\n"
          ]
        },
        {
          "output_type": "stream",
          "name": "stderr",
          "text": [
            "100%|██████████| 11/11 [00:00<00:00, 21.81it/s]\n"
          ]
        },
        {
          "output_type": "stream",
          "name": "stdout",
          "text": [
            "| Train Loss : 0.694117313081568 |  Val Loss : 0.693036821755496 | Train Acc : 48.8636360168457 | Val Acc : 51.1363639831543 |\n"
          ]
        },
        {
          "output_type": "stream",
          "name": "stderr",
          "text": [
            "100%|██████████| 11/11 [00:00<00:00, 24.15it/s]\n"
          ]
        },
        {
          "output_type": "stream",
          "name": "stdout",
          "text": [
            "| Train Loss : 0.6942191449078646 |  Val Loss : 0.6930682225660845 | Train Acc : 47.443180084228516 | Val Acc : 51.1363639831543 |\n"
          ]
        },
        {
          "output_type": "stream",
          "name": "stderr",
          "text": [
            "100%|██████████| 11/11 [00:00<00:00, 21.68it/s]\n"
          ]
        },
        {
          "output_type": "stream",
          "name": "stdout",
          "text": [
            "| Train Loss : 0.6936742121523077 |  Val Loss : 0.6932725418697704 | Train Acc : 50.28409194946289 | Val Acc : 48.8636360168457 |\n"
          ]
        },
        {
          "output_type": "stream",
          "name": "stderr",
          "text": [
            "100%|██████████| 11/11 [00:00<00:00, 20.41it/s]\n"
          ]
        },
        {
          "output_type": "stream",
          "name": "stdout",
          "text": [
            "| Train Loss : 0.693493664264679 |  Val Loss : 0.6933121681213379 | Train Acc : 49.147727966308594 | Val Acc : 48.8636360168457 |\n"
          ]
        },
        {
          "output_type": "stream",
          "name": "stderr",
          "text": [
            "100%|██████████| 11/11 [00:00<00:00, 24.15it/s]\n"
          ]
        },
        {
          "output_type": "stream",
          "name": "stdout",
          "text": [
            "| Train Loss : 0.6944416111165826 |  Val Loss : 0.693349464373155 | Train Acc : 44.8863639831543 | Val Acc : 48.8636360168457 |\n"
          ]
        },
        {
          "output_type": "stream",
          "name": "stderr",
          "text": [
            "100%|██████████| 11/11 [00:00<00:00, 24.13it/s]\n"
          ]
        },
        {
          "output_type": "stream",
          "name": "stdout",
          "text": [
            "| Train Loss : 0.6938451311805032 |  Val Loss : 0.6933316696773876 | Train Acc : 48.57954788208008 | Val Acc : 48.8636360168457 |\n"
          ]
        },
        {
          "output_type": "stream",
          "name": "stderr",
          "text": [
            "100%|██████████| 11/11 [00:00<00:00, 16.68it/s]\n"
          ]
        },
        {
          "output_type": "stream",
          "name": "stdout",
          "text": [
            "| Train Loss : 0.6938641017133539 |  Val Loss : 0.6933168768882751 | Train Acc : 46.875 | Val Acc : 48.8636360168457 |\n"
          ]
        },
        {
          "output_type": "stream",
          "name": "stderr",
          "text": [
            "100%|██████████| 11/11 [00:00<00:00, 16.02it/s]\n"
          ]
        },
        {
          "output_type": "stream",
          "name": "stdout",
          "text": [
            "| Train Loss : 0.6940354379740629 |  Val Loss : 0.6933606266975403 | Train Acc : 48.29545211791992 | Val Acc : 48.8636360168457 |\n"
          ]
        },
        {
          "output_type": "stream",
          "name": "stderr",
          "text": [
            "100%|██████████| 11/11 [00:00<00:00, 15.47it/s]\n"
          ]
        },
        {
          "output_type": "stream",
          "name": "stdout",
          "text": [
            "| Train Loss : 0.6934883377768777 |  Val Loss : 0.6934188333424655 | Train Acc : 47.443180084228516 | Val Acc : 48.8636360168457 |\n"
          ]
        },
        {
          "output_type": "stream",
          "name": "stderr",
          "text": [
            "100%|██████████| 11/11 [00:00<00:00, 15.53it/s]\n"
          ]
        },
        {
          "output_type": "stream",
          "name": "stdout",
          "text": [
            "| Train Loss : 0.6939094933596525 |  Val Loss : 0.6933339888399298 | Train Acc : 49.147727966308594 | Val Acc : 48.8636360168457 |\n"
          ]
        },
        {
          "output_type": "stream",
          "name": "stderr",
          "text": [
            "100%|██████████| 11/11 [00:00<00:00, 16.24it/s]\n"
          ]
        },
        {
          "output_type": "stream",
          "name": "stdout",
          "text": [
            "| Train Loss : 0.6931587511842902 |  Val Loss : 0.6934699416160583 | Train Acc : 50.85227584838867 | Val Acc : 48.8636360168457 |\n"
          ]
        },
        {
          "output_type": "stream",
          "name": "stderr",
          "text": [
            "100%|██████████| 11/11 [00:00<00:00, 24.26it/s]\n"
          ]
        },
        {
          "output_type": "stream",
          "name": "stdout",
          "text": [
            "| Train Loss : 0.693626506762071 |  Val Loss : 0.6934278173880144 | Train Acc : 50.85227584838867 | Val Acc : 48.8636360168457 |\n"
          ]
        },
        {
          "output_type": "stream",
          "name": "stderr",
          "text": [
            "100%|██████████| 11/11 [00:00<00:00, 22.32it/s]\n"
          ]
        },
        {
          "output_type": "stream",
          "name": "stdout",
          "text": [
            "| Train Loss : 0.6933964490890503 |  Val Loss : 0.6933509599078785 | Train Acc : 50.28409194946289 | Val Acc : 45.45454788208008 |\n"
          ]
        },
        {
          "output_type": "stream",
          "name": "stderr",
          "text": [
            "100%|██████████| 11/11 [00:00<00:00, 22.53it/s]\n"
          ]
        },
        {
          "output_type": "stream",
          "name": "stdout",
          "text": [
            "| Train Loss : 0.6934421712701971 |  Val Loss : 0.6934769749641418 | Train Acc : 50.28409194946289 | Val Acc : 48.8636360168457 |\n"
          ]
        },
        {
          "output_type": "stream",
          "name": "stderr",
          "text": [
            "100%|██████████| 11/11 [00:00<00:00, 23.48it/s]\n"
          ]
        },
        {
          "output_type": "stream",
          "name": "stdout",
          "text": [
            "| Train Loss : 0.694118624383753 |  Val Loss : 0.693524794145064 | Train Acc : 45.45454788208008 | Val Acc : 48.8636360168457 |\n"
          ]
        },
        {
          "output_type": "stream",
          "name": "stderr",
          "text": [
            "100%|██████████| 11/11 [00:00<00:00, 24.54it/s]\n"
          ]
        },
        {
          "output_type": "stream",
          "name": "stdout",
          "text": [
            "| Train Loss : 0.6937165043570779 |  Val Loss : 0.6936075253920122 | Train Acc : 49.147727966308594 | Val Acc : 48.8636360168457 |\n"
          ]
        },
        {
          "output_type": "stream",
          "name": "stderr",
          "text": [
            "100%|██████████| 11/11 [00:00<00:00, 22.72it/s]\n"
          ]
        },
        {
          "output_type": "stream",
          "name": "stdout",
          "text": [
            "| Train Loss : 0.6931029070507396 |  Val Loss : 0.6936651143160734 | Train Acc : 50.28409194946289 | Val Acc : 48.8636360168457 |\n"
          ]
        },
        {
          "output_type": "stream",
          "name": "stderr",
          "text": [
            "100%|██████████| 11/11 [00:00<00:00, 23.41it/s]\n"
          ]
        },
        {
          "output_type": "stream",
          "name": "stdout",
          "text": [
            "| Train Loss : 0.6931836442513899 |  Val Loss : 0.6935785466974432 | Train Acc : 51.1363639831543 | Val Acc : 48.8636360168457 |\n"
          ]
        },
        {
          "output_type": "stream",
          "name": "stderr",
          "text": [
            "100%|██████████| 11/11 [00:00<00:00, 23.99it/s]\n"
          ]
        },
        {
          "output_type": "stream",
          "name": "stdout",
          "text": [
            "| Train Loss : 0.6936674822460521 |  Val Loss : 0.6936877369880676 | Train Acc : 48.8636360168457 | Val Acc : 48.8636360168457 |\n"
          ]
        },
        {
          "output_type": "stream",
          "name": "stderr",
          "text": [
            "100%|██████████| 11/11 [00:00<00:00, 24.49it/s]\n"
          ]
        },
        {
          "output_type": "stream",
          "name": "stdout",
          "text": [
            "| Train Loss : 0.6931895017623901 |  Val Loss : 0.6935761625116522 | Train Acc : 50.568180084228516 | Val Acc : 48.8636360168457 |\n"
          ]
        },
        {
          "output_type": "stream",
          "name": "stderr",
          "text": [
            "100%|██████████| 11/11 [00:00<00:00, 23.11it/s]\n"
          ]
        },
        {
          "output_type": "stream",
          "name": "stdout",
          "text": [
            "| Train Loss : 0.6930233294313605 |  Val Loss : 0.6936226324601606 | Train Acc : 51.42045593261719 | Val Acc : 48.8636360168457 |\n"
          ]
        },
        {
          "output_type": "stream",
          "name": "stderr",
          "text": [
            "100%|██████████| 11/11 [00:00<00:00, 23.31it/s]\n"
          ]
        },
        {
          "output_type": "stream",
          "name": "stdout",
          "text": [
            "| Train Loss : 0.693004700270566 |  Val Loss : 0.6935016187754545 | Train Acc : 50.0 | Val Acc : 47.727272033691406 |\n"
          ]
        },
        {
          "output_type": "stream",
          "name": "stderr",
          "text": [
            "100%|██████████| 11/11 [00:00<00:00, 24.21it/s]\n"
          ]
        },
        {
          "output_type": "stream",
          "name": "stdout",
          "text": [
            "| Train Loss : 0.6930184472690929 |  Val Loss : 0.6935831579295072 | Train Acc : 53.693180084228516 | Val Acc : 48.8636360168457 |\n"
          ]
        },
        {
          "output_type": "stream",
          "name": "stderr",
          "text": [
            "100%|██████████| 11/11 [00:00<00:00, 23.42it/s]\n"
          ]
        },
        {
          "output_type": "stream",
          "name": "stdout",
          "text": [
            "| Train Loss : 0.6932795210318132 |  Val Loss : 0.6935653198849071 | Train Acc : 48.0113639831543 | Val Acc : 50.0 |\n"
          ]
        },
        {
          "output_type": "stream",
          "name": "stderr",
          "text": [
            "100%|██████████| 11/11 [00:00<00:00, 23.21it/s]\n"
          ]
        },
        {
          "output_type": "stream",
          "name": "stdout",
          "text": [
            "| Train Loss : 0.6929372603243048 |  Val Loss : 0.6936306032267484 | Train Acc : 51.1363639831543 | Val Acc : 47.727272033691406 |\n"
          ]
        },
        {
          "output_type": "stream",
          "name": "stderr",
          "text": [
            "100%|██████████| 11/11 [00:00<00:00, 23.21it/s]\n"
          ]
        },
        {
          "output_type": "stream",
          "name": "stdout",
          "text": [
            "| Train Loss : 0.693108081817627 |  Val Loss : 0.6935355229811235 | Train Acc : 49.147727966308594 | Val Acc : 46.59090805053711 |\n"
          ]
        },
        {
          "output_type": "stream",
          "name": "stderr",
          "text": [
            "100%|██████████| 11/11 [00:00<00:00, 23.34it/s]"
          ]
        },
        {
          "output_type": "stream",
          "name": "stdout",
          "text": [
            "| Train Loss : 0.6931695667180148 |  Val Loss : 0.6935365687717091 | Train Acc : 50.28409194946289 | Val Acc : 46.59090805053711 |\n"
          ]
        },
        {
          "output_type": "stream",
          "name": "stderr",
          "text": [
            "\n"
          ]
        }
      ]
    },
    {
      "cell_type": "code",
      "source": [
        "    # summarize history for accuracy\n",
        "plt.plot(train_accs)\n",
        "plt.plot(val_accs)\n",
        "plt.title('Model Accuracy')\n",
        "plt.ylabel('Accuracy')\n",
        "plt.xlabel('Epoch')\n",
        "plt.legend(['Train', 'Test'], loc='upper left')\n",
        "plt.show()\n",
        "# summarize history for loss\n",
        "plt.plot(train_losses)\n",
        "plt.plot(val_losses)\n",
        "plt.title('Model Loss')\n",
        "plt.ylabel('Loss')\n",
        "plt.xlabel('Epoch')\n",
        "plt.legend(['Train', 'Test'], loc='upper left')\n",
        "plt.show()"
      ],
      "metadata": {
        "colab": {
          "base_uri": "https://localhost:8080/",
          "height": 573
        },
        "id": "l87Edy5gN0dj",
        "outputId": "adc2608d-a2a5-4b79-d70e-d0c519f76508"
      },
      "execution_count": 67,
      "outputs": [
        {
          "output_type": "display_data",
          "data": {
            "text/plain": [
              "<Figure size 432x288 with 1 Axes>"
            ],
            "image/png": "[encoded data removed]"
          },
          "metadata": {
            "needs_background": "light"
          }
        },
        {
          "output_type": "display_data",
          "data": {
            "text/plain": [
              "<Figure size 432x288 with 1 Axes>"
            ],
            "image/png": "[encoded data removed]"
          },
          "metadata": {
            "needs_background": "light"
          }
        }
      ]
    },
    {
      "cell_type": "code",
      "source": [
        "torch.save(model_state_dicts, \"My-Model.pt\")"
      ],
      "metadata": {
        "id": "j21WNsZxOIWI"
      },
      "execution_count": 68,
      "outputs": []
    },
    {
      "cell_type": "markdown",
      "source": [
        "# **INFERENCE**\n",
        "\n",
        "\n",
        "\n",
        "\n",
        "\n"
      ],
      "metadata": {
        "id": "VjNauDAYPMaW"
      }
    },
    {
      "cell_type": "code",
      "source": [
        "def numericalize(text):\n",
        "    \n",
        "    numerialized_source = [] \n",
        "    numerialized_source = [dataset.source_vocab.stoi[\"<SOS>\"]]\n",
        "    numerialized_source += dataset.source_vocab.numericalize(text)\n",
        "    numerialized_source.append(dataset.source_vocab.stoi[\"<EOS>\"])\n",
        "    \n",
        "    return numerialized_source\n",
        "\n",
        "def padding(source):\n",
        "    padded_sequence = torch.zeros(config.MAX_LEN, 1, dtype = torch.int)\n",
        "    source = torch.tensor(source)\n",
        "    \n",
        "    if len(source) > config.MAX_LEN:\n",
        "        padded_sequence[:, 0] = source[: config.MAX_LEN]\n",
        "    else:\n",
        "        padded_sequence[:len(source), 0] = padded_sequence[:len(source), 0] + source\n",
        "    \n",
        "    return padded_sequence"
      ],
      "metadata": {
        "id": "GsNu7yw_OM4S"
      },
      "execution_count": 69,
      "outputs": []
    },
    {
      "cell_type": "code",
      "source": [
        "def infer_processing(text):\n",
        "    \n",
        "    text = preprocessing(text)\n",
        "    text = numericalize(text)\n",
        "    text = padding(text)\n",
        "    return text"
      ],
      "metadata": {
        "id": "-ChrrjNJORh5"
      },
      "execution_count": 70,
      "outputs": []
    },
    {
      "cell_type": "code",
      "source": [
        "aspects = [\"phone\", \"camera\", \"battery\", \"neutral\", \"processor\"]\n",
        "\n",
        "def get_similarity(text, aspect):\n",
        "    try:\n",
        "#         text = \" \".join(text)\n",
        "        return fasttext_model.wv.similarity(text, aspect)\n",
        "    except:\n",
        "        return 0\n",
        "    \n",
        "def best_aspect(text, aspects):\n",
        "    a = []\n",
        "    \n",
        "    for aspect in aspects:\n",
        "        a.append(get_similarity(text, aspect))\n",
        "    \n",
        "    return aspects[np.argmax(a)]"
      ],
      "metadata": {
        "id": "ZssszAukOUBk"
      },
      "execution_count": 71,
      "outputs": []
    },
    {
      "cell_type": "code",
      "source": [
        "sample = \"I am really impressed with the phone's great battery backup.\"\n",
        "\n",
        "ba = best_aspect(preprocessing(sample), aspects)\n",
        "\n",
        "a = infer_processing(sample).to(config.DEVICE)"
      ],
      "metadata": {
        "id": "Kz03HWcUOWd3"
      },
      "execution_count": 72,
      "outputs": []
    },
    {
      "cell_type": "code",
      "source": [
        "model.eval()\n",
        "sentiment = model(a)\n",
        "sentiment = sentiment.cpu().detach().numpy()[0]\n",
        "\n",
        "if sentiment > 0.5:\n",
        "    sentiment = 'Positively'\n",
        "else :\n",
        "    sentiment = 'Negatively'"
      ],
      "metadata": {
        "id": "AdDQ0Oc6OZD8"
      },
      "execution_count": 73,
      "outputs": []
    },
    {
      "cell_type": "code",
      "source": [
        "print(f\"The reviewer is talking {sentiment} about the {ba} of the phone in his/her comment\")"
      ],
      "metadata": {
        "colab": {
          "base_uri": "https://localhost:8080/"
        },
        "id": "7kSzy9NXOb8-",
        "outputId": "df948534-e6df-428c-c064-67095c01f6fd"
      },
      "execution_count": 74,
      "outputs": [
        {
          "output_type": "stream",
          "name": "stdout",
          "text": [
            "The reviewer is talking Positively about the processor of the phone in his/her comment\n"
          ]
        }
      ]
    },
    {
      "cell_type": "markdown",
      "source": [
        "# --------------------------------------------------------------------------------------------------------------------------"
      ],
      "metadata": {
        "id": "9YfCBFq8Rnza"
      }
    }
  ],
  "metadata": {
    "colab": {
      "provenance": []
    },
    "kernelspec": {
      "display_name": "Python 3",
      "name": "python3"
    },
    "gpuClass": "standard"
  },
  "nbformat": 4,
  "nbformat_minor": 0
}